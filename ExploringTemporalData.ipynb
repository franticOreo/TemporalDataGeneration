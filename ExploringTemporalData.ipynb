{
 "cells": [
  {
   "cell_type": "markdown",
   "metadata": {},
   "source": [
    "# ExploringTemporalData\n",
    "**Eli Simic Robertson**"
   ]
  },
  {
   "cell_type": "code",
   "execution_count": 19,
   "metadata": {
    "collapsed": true,
    "scrolled": false
   },
   "outputs": [],
   "source": [
    "import pandas as pd\n",
    "import numpy as np\n",
    "from pprint import pprint\n",
    "import random\n",
    "import networkx as nx \n",
    "import matplotlib.pyplot as plt \n",
    "import collections\n",
    "\n",
    "# deprecation warnings\n",
    "import warnings\n",
    "import matplotlib.cbook\n",
    "warnings.filterwarnings(\"ignore\",category=matplotlib.cbook.mplDeprecation)"
   ]
  },
  {
   "cell_type": "code",
   "execution_count": 20,
   "metadata": {
    "collapsed": true,
    "scrolled": false
   },
   "outputs": [],
   "source": [
    "'''Need source for code\n",
    "'''\n",
    "\n",
    "class GraphVisualization: \n",
    "   \n",
    "    def __init__(self): \n",
    "          \n",
    "        # visual is a list which stores all  \n",
    "        # the set of edges that constitutes a \n",
    "        # graph \n",
    "        self.visual = [] \n",
    "          \n",
    "    # addEdge function inputs the vertices of an \n",
    "    # edge and appends it to the visual list \n",
    "    def addEdge(self, a, b): \n",
    "        temp = [a, b] \n",
    "        self.visual.append(temp) \n",
    "          \n",
    "    # In visualize function G is an object of \n",
    "    # class Graph given by networkx G.add_edges_from(visual) \n",
    "    # creates a graph with a given list \n",
    "    # nx.draw_networkx(G) - plots the graph \n",
    "    # plt.show() - displays the graph \n",
    "    def visualize(self): \n",
    "        G = nx.Graph() \n",
    "        G.add_edges_from(self.visual) \n",
    "        nx.draw_networkx(G) \n",
    "        plt.show() \n",
    "  "
   ]
  },
  {
   "cell_type": "markdown",
   "metadata": {},
   "source": [
    "## Generating My Own Data"
   ]
  },
  {
   "cell_type": "code",
   "execution_count": 21,
   "metadata": {
    "collapsed": true,
    "scrolled": false
   },
   "outputs": [],
   "source": [
    "body_constr = [0,20]\n",
    "head_constr = [0,10]\n",
    "\n",
    "# BODY_CONST = 'body'\n",
    "HEAD_CONST = 'head'\n",
    "ROOT_CONST = 'root'\n",
    "A = 'a'\n",
    "always = 100"
   ]
  },
  {
   "cell_type": "code",
   "execution_count": 25,
   "metadata": {
    "scrolled": false
   },
   "outputs": [],
   "source": [
    "def time_interval(body_constr): return tuple(np.random.uniform(body_constr)) \n",
    "\n",
    "def unique_body_symbols(low=3, high=5, single=False):\n",
    "    '''Creates a random unique list of symbols for the body \n",
    "    of pattern. Symbol A has been excluded from the list as it is reserved \n",
    "    for the head of the pattern.\n",
    "        Args: \n",
    "            n_body_symbols (int): amount of body symbols\n",
    "            \n",
    "        Returns:\n",
    "            random_symbols (list): random choice of symbols\n",
    "    '''\n",
    "    symbols = ['b', 'c', 'd', 'e', 'f', 'g', 'h', 'i', 'j', 'k'] # possible body symbols\n",
    "    n_bod_symbols = np.random.randint(low, high)\n",
    "    if single:  n_bod_symbols = 1 \n",
    "    rand_symbols = random.sample(symbols, k=n_bod_symbols)\n",
    "    \n",
    "    return rand_symbols\n",
    "\n",
    "def make_edges(Edge, body_symbols, condition=None, connected_nodes=None):\n",
    "    '''Args:\n",
    "            Edge (named_tuple): Edge object with default fields.\n",
    "            body_symbols (list): unique body symbols.\n",
    "            condition (str/logical???): Conditional operator, if any.\n",
    "            connected_nodes (list): list of currently connected nodes to \n",
    "            graph object.\n",
    "        Returns:\n",
    "            edges (list of named_tuples): \n",
    "            connected_nodes (list): \n",
    "            \n",
    "    '''\n",
    "    \n",
    "    if condition == 'conjunction' or condition == 'disjunction':\n",
    "        n_body_symbols = 2\n",
    "        ## randomly choose to prepend \n",
    "    elif condition == 'negation' or condition == 'cycle':\n",
    "        n_body_symbols = 1\n",
    "    elif condition == None:\n",
    "        n_body_symbols = len(body_symbols)\n",
    "    \n",
    "    edges = []\n",
    "    if connected_nodes is None: connected_nodes = []\n",
    "        \n",
    "    \n",
    "    '''\n",
    "    LIMITATION DISJ/CONJ: always connect to root, do we need to sometimes prepend to a differenct connected node??? \n",
    "    Pseudo code:\n",
    "    If a dis/conjunction randomly choose the popped conjunction nodes to either\n",
    "    prepend to root node or existing connected nodes\n",
    "    currently the condition=disjunction initially appends and then attaches with\n",
    "    left over nodes. \n",
    "    \n",
    "    I want to randomly choose to prepend the conj to root or\n",
    "    prepend conj to an existing node.\n",
    "    \n",
    "    \n",
    "    Make all edges except for conjunction -> root node\n",
    "    or conjunction -> b node\n",
    "    \n",
    "    conj end_s's either root \n",
    "    \n",
    "    '''\n",
    "    \n",
    "    for _ in range(n_body_symbols):\n",
    "        sym = body_symbols.pop()\n",
    "        start_t, end_t = time_interval(body_constr)\n",
    "        rand_end_s = np.random.choice(connected_nodes + [ROOT_CONST])        \n",
    "\n",
    "        if condition == 'disjunction':\n",
    "            edges.append(Edge(sym, ROOT_CONST, start_t, end_t, prob=always, disjunction=True))\n",
    "            connected_nodes.append(sym)\n",
    "        elif condition == 'conjunction':\n",
    "            edges.append(Edge(sym, ROOT_CONST, start_t, end_t, prob=always, conjunction=True))\n",
    "            connected_nodes.append(sym)\n",
    "        elif condition == 'negation':\n",
    "            edges.append(Edge(sym, rand_end_s, start_t, end_t, prob=always, negation=True))\n",
    "            connected_nodes.append(sym)\n",
    "        elif condition == 'cycle':\n",
    "            edges.append(Edge(sym, rand_end_s, start_t, end_t, prob=always, cycle=True))\n",
    "            connected_nodes.append(sym)\n",
    "        # no conditional operator, append edge to connected nodes or root\n",
    "        elif condition == None:\n",
    "            edges.append(Edge(sym, rand_end_s, start_t, end_t, prob=always))\n",
    "            connected_nodes.append(sym)\n",
    "\n",
    "    return edges, connected_nodes\n",
    "\n",
    "def body_pattern(low_body=4, high_body=6, low_prob=60, high_prob=90, disjunction=False,\n",
    "                   negation=False, conjunction=False, prob=always, cycle=False):\n",
    "    \n",
    "    body_symbols = unique_body_symbols(low_body, high_body)\n",
    "    rand_num = np.random.uniform(low=0, high=always)\n",
    "    prob = np.random.uniform(low=low_prob, high=high_prob)\n",
    "    connected_nodes = [] # keep track of connected nodes for end_symbol possibilities\n",
    "    \n",
    "    pattern = [] # pattern list of edges : graph like object\n",
    "    fields = ('start_s', 'end_s', 'start_t', 'end_t', 'disjunction', 'negation', 'conjunction', 'cycle', 'prob')\n",
    "    Edge = collections.namedtuple('Edge', fields)\n",
    "    Edge.__new__.__defaults__ = (False,) * len(Edge._fields) # set default fields\n",
    "\n",
    "        \n",
    "    if disjunction:\n",
    "        edges, nodes = make_edges(Edge, body_symbols, condition='disjunction') \n",
    "        pattern.extend(edges)\n",
    "        connected_nodes.extend(nodes)\n",
    "        pattern.append(Edge(nodes[0], nodes[1], # disjunction edge\n",
    "                    start_t=None, end_t=None, disjunction=True, prob=always))\n",
    "        \n",
    "    elif negation:\n",
    "        edges, nodes = make_edges(Edge, body_symbols, condition='negation',\n",
    "                                 connected_nodes=connected_nodes)\n",
    "        pattern.extend(edges)\n",
    "        connected_nodes.extend(nodes) \n",
    "        \n",
    "    elif cycle:\n",
    "        edges, nodes = make_edges(Edge, body_symbols, condition='cycle',\n",
    "                                 connected_nodes=connected_nodes)\n",
    "        pattern.extend(edges)\n",
    "        connected_nodes.extend(nodes)\n",
    "        \n",
    "    elif conjunction:\n",
    "        edges, nodes = make_edges(Edge, body_symbols, condition='conjunction')\n",
    "        pattern.extend(edges)\n",
    "        connected_nodes.extend(nodes)\n",
    "    # remaining nodes are added to either root or connected body node\n",
    "    edges, nodes = make_edges(Edge, body_symbols, condition=None,\n",
    "                             connected_nodes=connected_nodes)\n",
    "    pattern.extend(edges)\n",
    "    connected_nodes.extend(nodes)\n",
    "\n",
    "    return pattern\n",
    "\n",
    "def plot_pattern(pattern):\n",
    "    G = GraphVisualization() \n",
    "    for p in pattern: G.addEdge(p.start_s, p.end_s)\n",
    "    G.visualize()"
   ]
  },
  {
   "cell_type": "markdown",
   "metadata": {},
   "source": [
    "## Visualisations of Reference Patterns (disregarding time dimension).\n",
    "\n",
    "### Example of Disjunction\n",
    "##### Notice how connected nodes now can connect to existing disjunction"
   ]
  },
  {
   "cell_type": "code",
   "execution_count": 23,
   "metadata": {
    "scrolled": false
   },
   "outputs": [
    {
     "data": {
      "image/png": "[encoded data removed]",
      "text/plain": [
       "<Figure size 432x288 with 1 Axes>"
      ]
     },
     "metadata": {},
     "output_type": "display_data"
    },
    {
     "data": {
      "image/png": "[encoded data removed]",
      "text/plain": [
       "<Figure size 432x288 with 1 Axes>"
      ]
     },
     "metadata": {},
     "output_type": "display_data"
    }
   ],
   "source": [
    "for _ in range(2): \n",
    "    ref_pattern = body_pattern(low_body=6, high_body=8, disjunction=True)\n",
    "#     pprint(ref_pattern)\n",
    "    plot_pattern(ref_pattern)"
   ]
  },
  {
   "cell_type": "markdown",
   "metadata": {},
   "source": [
    "### Example of Negation"
   ]
  },
  {
   "cell_type": "code",
   "execution_count": 27,
   "metadata": {
    "scrolled": false
   },
   "outputs": [
    {
     "name": "stdout",
     "output_type": "stream",
     "text": [
      "[Edge(start_s='h', end_s='root', start_t=0.5716895236656665, end_t=11.813031180097994, disjunction=False, negation=True, conjunction=False, cycle=False, prob=100), Edge(start_s='d', end_s='h', start_t=0.7632573874430583, end_t=16.25264718945497, disjunction=False, negation=False, conjunction=False, cycle=False, prob=100), Edge(start_s='f', end_s='h', start_t=0.762139622030971, end_t=12.965157838426983, disjunction=False, negation=False, conjunction=False, cycle=False, prob=100)]\n"
     ]
    },
    {
     "data": {
      "image/png": "[encoded data removed]",
      "text/plain": [
       "<Figure size 432x288 with 1 Axes>"
      ]
     },
     "metadata": {},
     "output_type": "display_data"
    },
    {
     "name": "stdout",
     "output_type": "stream",
     "text": [
      "[Edge(start_s='d', end_s='root', start_t=0.05640034662285731, end_t=16.726731975248804, disjunction=False, negation=True, conjunction=False, cycle=False, prob=100), Edge(start_s='k', end_s='d', start_t=0.7690714374896765, end_t=17.71607566356528, disjunction=False, negation=False, conjunction=False, cycle=False, prob=100), Edge(start_s='i', end_s='d', start_t=0.8560899349794481, end_t=7.242144669929804, disjunction=False, negation=False, conjunction=False, cycle=False, prob=100)]\n"
     ]
    },
    {
     "data": {
      "image/png": "[encoded data removed]",
      "text/plain": [
       "<Figure size 432x288 with 1 Axes>"
      ]
     },
     "metadata": {},
     "output_type": "display_data"
    },
    {
     "data": {
      "text/plain": [
       "[Edge(start_s='d', end_s='root', start_t=0.05640034662285731, end_t=16.726731975248804, disjunction=False, negation=True, conjunction=False, cycle=False, prob=100),\n",
       " Edge(start_s='k', end_s='d', start_t=0.7690714374896765, end_t=17.71607566356528, disjunction=False, negation=False, conjunction=False, cycle=False, prob=100),\n",
       " Edge(start_s='i', end_s='d', start_t=0.8560899349794481, end_t=7.242144669929804, disjunction=False, negation=False, conjunction=False, cycle=False, prob=100)]"
      ]
     },
     "execution_count": 27,
     "metadata": {},
     "output_type": "execute_result"
    }
   ],
   "source": [
    "for _ in range(2): \n",
    "    ref_pattern = body_pattern(low_body=3, high_body=5, negation=True)\n",
    "    print(ref_pattern)\n",
    "    plot_pattern(ref_pattern)\n",
    "\n",
    "ref_pattern"
   ]
  },
  {
   "cell_type": "markdown",
   "metadata": {},
   "source": [
    "### Example of Conjunction"
   ]
  },
  {
   "cell_type": "code",
   "execution_count": 28,
   "metadata": {
    "scrolled": false
   },
   "outputs": [
    {
     "data": {
      "image/png": "[encoded data removed]",
      "text/plain": [
       "<Figure size 432x288 with 1 Axes>"
      ]
     },
     "metadata": {},
     "output_type": "display_data"
    },
    {
     "data": {
      "image/png": "[encoded data removed]",
      "text/plain": [
       "<Figure size 432x288 with 1 Axes>"
      ]
     },
     "metadata": {},
     "output_type": "display_data"
    }
   ],
   "source": [
    "# Raised the low threshold to be able to perform both operators.\n",
    "for _ in range(2): \n",
    "    ref_pattern = body_pattern(low_body=3, high_body=6, conjunction=True, prob=None)\n",
    "    plot_pattern(ref_pattern)"
   ]
  },
  {
   "cell_type": "markdown",
   "metadata": {},
   "source": [
    "## Generating Training Set\n",
    "<br>"
   ]
  },
  {
   "cell_type": "code",
   "execution_count": 29,
   "metadata": {
    "collapsed": true
   },
   "outputs": [],
   "source": [
    "def time_point(start_t, end_t): return np.random.uniform(start_t, end_t)\n",
    "\n",
    "def create_instance(patt, time_high=100000, make_pred=False): \n",
    "    '''\n",
    "    Returns:\n",
    "        ts (list): list of lists of time point and symbol adhereing\n",
    "        to pattern definition'''\n",
    "    \n",
    "    ts = [] # empty time series list\n",
    "    pred = []\n",
    "\n",
    "    root_tp = time_point(start_t=0, end_t=time_high)\n",
    "    head_prob = np.random.uniform(low=60, high=90)\n",
    "    \n",
    "    if make_pred: # if pattern instance create pred for .pred file\n",
    "        start_t, end_t = time_interval(head_constr)    \n",
    "        head_tp = root_tp + time_point(start_t, end_t)\n",
    "        pred.append([head_tp, A])\n",
    "    \n",
    "        if np.random.uniform(low=0, high=100) > head_prob: # whether pattern has consequent \n",
    "            ts.append([head_tp, A])\n",
    "\n",
    "    rand_num = np.random.uniform(low=0, high=100)\n",
    "\n",
    "    disjs = []\n",
    "    for edge in patt:\n",
    "        if edge.start_t is None: # mutual exclusion edge case\n",
    "            continue\n",
    "\n",
    "        elif edge.disjunction == True and make_pred == True:\n",
    "            disjs.append(edge)\n",
    "\n",
    "        elif edge.conjunction: # already done, as all edges \n",
    "            pass \n",
    "\n",
    "        elif edge.cycle: # Unsure if \n",
    "            cycle_iters = np.random.randint(low=1, high=3)\n",
    "            for cyc in range(cycle_iters):\n",
    "                ts.append([root_tp - time_point(edge.start_t, edge.end_t), edge.start_s])\n",
    "\n",
    "            ## INSERT LOGIC: repeat subset or entire pattern, need for mutual exclusion \n",
    "            # if just setting threshold , e.g cycle_iters above???\n",
    "\n",
    "        elif edge.negation: # skip negation node\n",
    "            continue\n",
    "\n",
    "        else:# for non-conditional edges  \n",
    "            ts.append([root_tp - time_point(edge.start_t, edge.end_t), edge.start_s])\n",
    "\n",
    "    if len(disjs) > 1: # if there are multiple disjunctions, randomly choose one for .event\n",
    "        disj = disjs[np.random.randint(low=0, high=len(disjs) - 1)] \n",
    "        ts.append([root_tp - time_point(disj.start_t, disj.end_t), disj.start_s])\n",
    "    \n",
    "    # create root in ts if it isn't empty pattern (edge case when subset retrurns empty subset, e.g [])\n",
    "    if patt == []: \n",
    "        return ts\n",
    "    elif make_pred:\n",
    "        ts.append([root_tp, ROOT_CONST])\n",
    "        return ts, pred\n",
    "    else:\n",
    "        return ts # when a random subset, return only ts\n"
   ]
  },
  {
   "cell_type": "markdown",
   "metadata": {},
   "source": [
    "## Making Noise!\n",
    "\n",
    "**Time Series Consists of: **<br>\n",
    "- Singular Pattern replicated over time line\n",
    "- Random Subsets of the Pattern (func: rand_subset)\n",
    "- Individual Noisy Symbols"
   ]
  },
  {
   "cell_type": "code",
   "execution_count": 30,
   "metadata": {
    "collapsed": true,
    "scrolled": true
   },
   "outputs": [],
   "source": [
    "def rand_subset(pattern, time_high=100000): # random subset of the instance\n",
    "    '''\n",
    "    Returns:\n",
    "        ts (list): list of lists of time point and symbol of\n",
    "        random subset of the pattern definition'''\n",
    "    subset_idxs = sorted([np.random.randint(low=0, high=len(pattern)) for _ in range(2)])\n",
    "    sub_pattern = pattern[subset_idxs[0]: subset_idxs[1]]\n",
    "    \n",
    "    return sub_pattern\n",
    "    \n",
    "def noisy_instance(time_high=100000):\n",
    "    ''' Input: \n",
    "            time_high (int): \n",
    "    \n",
    "            Returns:\n",
    "                ts (list): list of lists containing random time point and symbol'''\n",
    "    \n",
    "    sym = unique_body_symbols(single=True).pop()\n",
    "    tp = time_point(start_t=0, end_t=time_high)\n",
    "    inst = [[tp, sym]]\n",
    "    return inst\n",
    "\n",
    "def create_train(n_patterns, n_subsets, n_noisy_insts,\n",
    "                 low_body=4, high_body=6, low_prob=60, high_prob=90,\n",
    "                 disjunction=False, negation=False, conjunction=False, \n",
    "                 prob=100, cycle=False):\n",
    "    '''Returns:\n",
    "            events (list): time series for training/testing set\n",
    "            preds (list): ground truth values\n",
    "    '''\n",
    "    patt = body_pattern(low_body=4, high_body=6, low_prob=60, high_prob=90,\n",
    "                 disjunction=False, negation=False, conjunction=False, prob=100, cycle=False)\n",
    "    \n",
    "    events, preds = [], []\n",
    "    \n",
    "    for _ in range(n_patterns):\n",
    "        event, pred =  create_instance(patt, make_pred=True)\n",
    "        events.extend(event)\n",
    "        preds.extend(pred)\n",
    "        \n",
    "    for _ in range(n_subsets):\n",
    "        event = create_instance(rand_subset(patt))\n",
    "        if event != []:\n",
    "            events.extend(event)\n",
    "        else:\n",
    "            continue\n",
    "        \n",
    "    for _ in range(n_noisy_insts):\n",
    "        event = noisy_instance()\n",
    "        events.extend(event)\n",
    "    \n",
    "    events.sort(key=lambda x: x[0])\n",
    "    preds.sort(key=lambda x: x[0])# sort by timestamp\n",
    "    \n",
    "    return events, preds\n",
    "    \n"
   ]
  },
  {
   "cell_type": "markdown",
   "metadata": {},
   "source": [
    "## Output to file."
   ]
  },
  {
   "cell_type": "code",
   "execution_count": 31,
   "metadata": {
    "collapsed": true
   },
   "outputs": [],
   "source": [
    "events, preds = create_train(n_patterns=100, n_subsets=500, n_noisy_insts=500)"
   ]
  },
  {
   "cell_type": "code",
   "execution_count": 32,
   "metadata": {},
   "outputs": [
    {
     "data": {
      "text/plain": [
       "[[108.49224912612368, 'g'],\n",
       " [112.37593071014393, 'd'],\n",
       " [113.54302127289397, 'h'],\n",
       " [142.3393537819538, 'h'],\n",
       " [143.48021450134553, 'd']]"
      ]
     },
     "execution_count": 32,
     "metadata": {},
     "output_type": "execute_result"
    }
   ],
   "source": [
    "events[:5]"
   ]
  },
  {
   "cell_type": "code",
   "execution_count": 33,
   "metadata": {},
   "outputs": [
    {
     "data": {
      "text/plain": [
       "[[508.94898762425896, 'a'],\n",
       " [983.2076800933537, 'a'],\n",
       " [2373.5939926280907, 'a'],\n",
       " [2633.3125999976637, 'a'],\n",
       " [3040.087125638511, 'a']]"
      ]
     },
     "execution_count": 33,
     "metadata": {},
     "output_type": "execute_result"
    }
   ],
   "source": [
    "preds[:5]"
   ]
  },
  {
   "cell_type": "code",
   "execution_count": 13,
   "metadata": {},
   "outputs": [
    {
     "data": {
      "image/png": "[encoded data removed]",
      "text/plain": [
       "<Figure size 432x288 with 1 Axes>"
      ]
     },
     "metadata": {},
     "output_type": "display_data"
    }
   ],
   "source": [
    "X = np.array(events)\n",
    "\n",
    "values = list(X[:, 1])\n",
    "names = list(X[:, 0])\n",
    "\n",
    "plt.scatter(names, values);\n",
    "plt.show()"
   ]
  },
  {
   "cell_type": "code",
   "execution_count": 34,
   "metadata": {
    "collapsed": true
   },
   "outputs": [],
   "source": [
    "with open('n_patterns_100_n_subsets_500_n_noisy_insts_500.event', 'w') as file:\n",
    "    for l in events:\n",
    "        s = str(l[0]) + ' ,' + str(l[1]) + '\\n'\n",
    "        file.write(s)"
   ]
  },
  {
   "cell_type": "markdown",
   "metadata": {
    "collapsed": true
   },
   "source": [
    "## LMK what you think :)\n",
    "\n",
    "**Concerns:**<br>\n",
    "disjunction and conjunction always connect to root node fist, do we need to have a pattern where a random"
   ]
  },
  {
   "cell_type": "code",
   "execution_count": null,
   "metadata": {
    "collapsed": true
   },
   "outputs": [],
   "source": []
  }
 ],
 "metadata": {
  "kernelspec": {
   "display_name": "Python 3",
   "language": "python",
   "name": "python3"
  },
  "language_info": {
   "codemirror_mode": {
    "name": "ipython",
    "version": 3
   },
   "file_extension": ".py",
   "mimetype": "text/x-python",
   "name": "python",
   "nbconvert_exporter": "python",
   "pygments_lexer": "ipython3",
   "version": "3.6.2"
  }
 },
 "nbformat": 4,
 "nbformat_minor": 4
}
