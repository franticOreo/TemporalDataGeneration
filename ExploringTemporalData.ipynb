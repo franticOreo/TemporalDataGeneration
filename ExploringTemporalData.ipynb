{
 "cells": [
  {
   "cell_type": "markdown",
   "metadata": {},
   "source": [
    "# ExploringTemporalData\n",
    "**Eli Simic Robertson**"
   ]
  },
  {
   "cell_type": "code",
   "execution_count": 129,
   "metadata": {
    "collapsed": true,
    "scrolled": false
   },
   "outputs": [],
   "source": [
    "import pandas as pd\n",
    "import numpy as np\n",
    "from pprint import pprint\n",
    "import random\n",
    "import networkx as nx \n",
    "import matplotlib.pyplot as plt \n",
    "import collections\n",
    "\n",
    "# deprecation warnings\n",
    "import warnings\n",
    "import matplotlib.cbook\n",
    "warnings.filterwarnings(\"ignore\",category=matplotlib.cbook.mplDeprecation)"
   ]
  },
  {
   "cell_type": "code",
   "execution_count": 130,
   "metadata": {
    "collapsed": true,
    "scrolled": false
   },
   "outputs": [],
   "source": [
    "'''Need source for code\n",
    "'''\n",
    "\n",
    "class GraphVisualization: \n",
    "   \n",
    "    def __init__(self): \n",
    "          \n",
    "        # visual is a list which stores all  \n",
    "        # the set of edges that constitutes a \n",
    "        # graph \n",
    "        self.visual = [] \n",
    "          \n",
    "    # addEdge function inputs the vertices of an \n",
    "    # edge and appends it to the visual list \n",
    "    def addEdge(self, a, b): \n",
    "        temp = [a, b] \n",
    "        self.visual.append(temp) \n",
    "          \n",
    "    # In visualize function G is an object of \n",
    "    # class Graph given by networkx G.add_edges_from(visual) \n",
    "    # creates a graph with a given list \n",
    "    # nx.draw_networkx(G) - plots the graph \n",
    "    # plt.show() - displays the graph \n",
    "    def visualize(self): \n",
    "        G = nx.Graph() \n",
    "        G.add_edges_from(self.visual) \n",
    "        nx.draw_networkx(G) \n",
    "        plt.show() \n",
    "  "
   ]
  },
  {
   "cell_type": "markdown",
   "metadata": {},
   "source": [
    "## Generating My Own Data"
   ]
  },
  {
   "cell_type": "code",
   "execution_count": 131,
   "metadata": {
    "collapsed": true,
    "scrolled": false
   },
   "outputs": [],
   "source": [
    "body_constr = [0,20]\n",
    "head_constr = [0,10]\n",
    "\n",
    "# BODY_CONST = 'body'\n",
    "HEAD_CONST = 'head'\n",
    "ROOT_CONST = 'root'\n",
    "A = 'a'\n",
    "always = 100"
   ]
  },
  {
   "cell_type": "code",
   "execution_count": null,
   "metadata": {},
   "outputs": [],
   "source": []
  },
  {
   "cell_type": "code",
   "execution_count": 132,
   "metadata": {
    "collapsed": true,
    "scrolled": false
   },
   "outputs": [],
   "source": [
    "def time_interval(body_constr): return tuple(np.random.uniform(body_constr)) \n",
    "\n",
    "def unique_body_symbols(low=3, high=5, single=False):\n",
    "    '''Creates a random unique list of symbols for the body \n",
    "    of pattern. Symbol A has been excluded from the list as it is reserved \n",
    "    for the head of the pattern.\n",
    "        Args: \n",
    "            n_body_symbols (int): amount of body symbols\n",
    "            \n",
    "        Returns:\n",
    "            random_symbols (list): random choice of symbols\n",
    "    '''\n",
    "    symbols = ['b', 'c', 'd', 'e', 'f', 'g', 'h', 'i', 'j', 'k'] # possible body symbols\n",
    "    n_bod_symbols = np.random.randint(low, high)\n",
    "    if single:  n_bod_symbols = 1 \n",
    "    rand_symbols = random.sample(symbols, k=n_bod_symbols)\n",
    "    \n",
    "    return rand_symbols\n",
    "\n",
    "def make_edges(Edge, body_symbols, condition=None, connected_nodes=None):\n",
    "    '''Args:\n",
    "            Edge (named_tuple): Edge object with default fields.\n",
    "            body_symbols (list): unique body symbols.\n",
    "            condition (str/logical???): Conditional operator, if any.\n",
    "            connected_nodes (list): list of currently connected nodes to \n",
    "            graph object.\n",
    "        Returns:\n",
    "            edges (list of named_tuples): \n",
    "            connected_nodes (list): \n",
    "            \n",
    "    '''\n",
    "    \n",
    "    if condition == 'conjunction' or condition == 'disjunction':\n",
    "        n_body_symbols = 2\n",
    "    elif condition == 'negation' or condition == 'cycle':\n",
    "        n_body_symbols = 1\n",
    "    elif condition == None:\n",
    "        n_body_symbols = len(body_symbols)\n",
    "    \n",
    "    edges = []\n",
    "    if connected_nodes is None: connected_nodes = []\n",
    "    \n",
    "    for _ in range(n_body_symbols):\n",
    "        sym = body_symbols.pop()\n",
    "        start_t, end_t = time_interval(body_constr)\n",
    "        rand_end_s = np.random.choice(connected_nodes + [ROOT_CONST])        \n",
    "\n",
    "        if condition == 'disjunction':\n",
    "            edges.append(Edge(sym, ROOT_CONST, start_t, end_t, prob=always, disjunction=True))\n",
    "            connected_nodes.append(sym)\n",
    "        elif condition == 'conjunction':\n",
    "            edges.append(Edge(sym, ROOT_CONST, start_t, end_t, prob=always, conjunction=True))\n",
    "            connected_nodes.append(sym)\n",
    "        elif condition == 'negation':\n",
    "            edges.append(Edge(sym, rand_end_s, start_t, end_t, prob=always, negation=True))\n",
    "            connected_nodes.append(sym)\n",
    "        elif condition == 'cycle':\n",
    "            edges.append(Edge(sym, rand_end_s, start_t, end_t, prob=always, cycle=True))\n",
    "            connected_nodes.append(sym)\n",
    "        # no conditional operator, append edge to connected nodes or root\n",
    "        elif condition == None:\n",
    "            edges.append(Edge(sym, rand_end_s, start_t, end_t, prob=always))\n",
    "            connected_nodes.append(sym)\n",
    "\n",
    "    return edges, connected_nodes\n",
    "\n",
    "def body_pattern(low_body=4, high_body=6, low_prob=60, high_prob=90, disjunction=False,\n",
    "                   negation=False, conjunction=False, prob=always, cycle=False):\n",
    "    \n",
    "    body_symbols = unique_body_symbols(low_body, high_body) # technically, body_symbols excluding root\n",
    "    rand_num = np.random.uniform(low=0, high=always)\n",
    "    prob = np.random.uniform(low=low_prob, high=high_prob)\n",
    "    connected_nodes = ['root'] # keep track of connected nodes for end_symbol possibilities\n",
    "    \n",
    "    pattern = [] # pattern list of edges : graph like object\n",
    "    fields = ('start_s', 'end_s', 'start_t', 'end_t', 'disjunction', 'negation', 'conjunction', 'cycle', 'prob')\n",
    "    Edge = collections.namedtuple('Edge', fields)\n",
    "    Edge.__new__.__defaults__ = (False,) * len(Edge._fields) # set default fields\n",
    "\n",
    "        \n",
    "    if disjunction:\n",
    "        \n",
    "        max_disjs = len(body_symbols) // 2\n",
    "        n_disjs = np.random.randint(low=1, high=max_disjs)\n",
    "        print(n_disjs)\n",
    "        for disj in range(n_disjs): \n",
    "            edges, nodes = make_edges(Edge, body_symbols, condition='disjunction')\n",
    "            pattern.append(Edge(nodes[0], nodes[1], # disjunction edge\n",
    "                start_t=None, end_t=None, disjunction=True, prob=always))\n",
    "            pattern.extend(edges)\n",
    "            connected_nodes.extend(nodes)\n",
    "\n",
    "    if cycle:\n",
    "        edges, nodes = make_edges(Edge, body_symbols, condition='cycle') # create cycle edge\n",
    "        pattern.append(Edge(nodes[0], np.random.choice(connected_nodes),\n",
    "                           disjunction=True)) # create disjunction edge to stop infinite loop\n",
    "        pattern.extend(edges)\n",
    "        connected_nodes.extend(nodes) \n",
    "        \n",
    "    elif negation:\n",
    "        edges, nodes = make_edges(Edge, body_symbols, condition='negation',\n",
    "                                 connected_nodes=connected_nodes)\n",
    "        pattern.extend(edges)\n",
    "        connected_nodes.extend(nodes) \n",
    "        \n",
    "    elif conjunction:\n",
    "        edges, nodes = make_edges(Edge, body_symbols, condition='conjunction')\n",
    "        pattern.extend(edges)\n",
    "        connected_nodes.extend(nodes)\n",
    "    # remaining nodes are added to either root or connected body node\n",
    "    edges, nodes = make_edges(Edge, body_symbols, condition=None,\n",
    "                             connected_nodes=connected_nodes)\n",
    "    pattern.extend(edges)\n",
    "    connected_nodes.extend(nodes)\n",
    "\n",
    "    return pattern\n",
    "\n",
    "def plot_pattern(pattern): # sometimes returns None? unsure why. annoying\n",
    "    G = GraphVisualization() \n",
    "    for p in pattern: G.addEdge(p.start_s, p.end_s) \n",
    "    G.visualize()"
   ]
  },
  {
   "cell_type": "markdown",
   "metadata": {},
   "source": [
    "## Visualisations of Reference Patterns (disregarding time dimension).\n",
    "\n",
    "### Example of Disjunction\n",
    "##### Notice how connected nodes now can connect to existing disjunction"
   ]
  },
  {
   "cell_type": "code",
   "execution_count": 133,
   "metadata": {
    "scrolled": false
   },
   "outputs": [
    {
     "name": "stdout",
     "output_type": "stream",
     "text": [
      "2\n"
     ]
    },
    {
     "data": {
      "image/png": "[encoded data removed]",
      "text/plain": [
       "<Figure size 432x288 with 1 Axes>"
      ]
     },
     "metadata": {},
     "output_type": "display_data"
    },
    {
     "name": "stdout",
     "output_type": "stream",
     "text": [
      "2\n"
     ]
    },
    {
     "data": {
      "image/png": "[encoded data removed]",
      "text/plain": [
       "<Figure size 432x288 with 1 Axes>"
      ]
     },
     "metadata": {},
     "output_type": "display_data"
    }
   ],
   "source": [
    "for _ in range(2): \n",
    "    ref_pattern = body_pattern(low_body=6, high_body=8, disjunction=True)\n",
    "#     pprint(ref_pattern)\n",
    "    plot_pattern(ref_pattern)"
   ]
  },
  {
   "cell_type": "code",
   "execution_count": null,
   "metadata": {
    "collapsed": true
   },
   "outputs": [],
   "source": []
  },
  {
   "cell_type": "markdown",
   "metadata": {},
   "source": [
    "### Example of Negation"
   ]
  },
  {
   "cell_type": "code",
   "execution_count": 134,
   "metadata": {
    "scrolled": false
   },
   "outputs": [
    {
     "name": "stdout",
     "output_type": "stream",
     "text": [
      "[Edge(start_s='d', end_s='root', start_t=0.7285179077530345, end_t=6.19018434999434, disjunction=False, negation=True, conjunction=False, cycle=False, prob=100), Edge(start_s='h', end_s='root', start_t=0.9428362513469138, end_t=12.573460071694624, disjunction=False, negation=False, conjunction=False, cycle=False, prob=100), Edge(start_s='j', end_s='root', start_t=0.7429218832879757, end_t=19.960267072735434, disjunction=False, negation=False, conjunction=False, cycle=False, prob=100)]\n"
     ]
    },
    {
     "data": {
      "image/png": "[encoded data removed]",
      "text/plain": [
       "<Figure size 432x288 with 1 Axes>"
      ]
     },
     "metadata": {},
     "output_type": "display_data"
    },
    {
     "name": "stdout",
     "output_type": "stream",
     "text": [
      "[Edge(start_s='f', end_s='root', start_t=0.24835490001055194, end_t=18.484875096235534, disjunction=False, negation=True, conjunction=False, cycle=False, prob=100), Edge(start_s='c', end_s='f', start_t=0.04892075438436161, end_t=18.23888601686292, disjunction=False, negation=False, conjunction=False, cycle=False, prob=100), Edge(start_s='k', end_s='f', start_t=0.9258321081428683, end_t=2.108738918461828, disjunction=False, negation=False, conjunction=False, cycle=False, prob=100), Edge(start_s='b', end_s='root', start_t=0.8598740945977473, end_t=4.019863980577044, disjunction=False, negation=False, conjunction=False, cycle=False, prob=100)]\n"
     ]
    },
    {
     "data": {
      "image/png": "[encoded data removed]",
      "text/plain": [
       "<Figure size 432x288 with 1 Axes>"
      ]
     },
     "metadata": {},
     "output_type": "display_data"
    },
    {
     "data": {
      "text/plain": [
       "[Edge(start_s='f', end_s='root', start_t=0.24835490001055194, end_t=18.484875096235534, disjunction=False, negation=True, conjunction=False, cycle=False, prob=100),\n",
       " Edge(start_s='c', end_s='f', start_t=0.04892075438436161, end_t=18.23888601686292, disjunction=False, negation=False, conjunction=False, cycle=False, prob=100),\n",
       " Edge(start_s='k', end_s='f', start_t=0.9258321081428683, end_t=2.108738918461828, disjunction=False, negation=False, conjunction=False, cycle=False, prob=100),\n",
       " Edge(start_s='b', end_s='root', start_t=0.8598740945977473, end_t=4.019863980577044, disjunction=False, negation=False, conjunction=False, cycle=False, prob=100)]"
      ]
     },
     "execution_count": 134,
     "metadata": {},
     "output_type": "execute_result"
    }
   ],
   "source": [
    "for _ in range(2): \n",
    "    ref_pattern = body_pattern(low_body=3, high_body=5, negation=True)\n",
    "    print(ref_pattern)\n",
    "    plot_pattern(ref_pattern)\n",
    "\n",
    "ref_pattern"
   ]
  },
  {
   "cell_type": "markdown",
   "metadata": {},
   "source": [
    "### Example of Conjunction"
   ]
  },
  {
   "cell_type": "code",
   "execution_count": 135,
   "metadata": {
    "scrolled": false
   },
   "outputs": [
    {
     "data": {
      "image/png": "[encoded data removed]",
      "text/plain": [
       "<Figure size 432x288 with 1 Axes>"
      ]
     },
     "metadata": {},
     "output_type": "display_data"
    },
    {
     "data": {
      "image/png": "[encoded data removed]",
      "text/plain": [
       "<Figure size 432x288 with 1 Axes>"
      ]
     },
     "metadata": {},
     "output_type": "display_data"
    }
   ],
   "source": [
    "# Raised the low threshold to be able to perform both operators.\n",
    "for _ in range(2): \n",
    "    ref_pattern = body_pattern(low_body=3, high_body=6, conjunction=True, prob=None)\n",
    "    plot_pattern(ref_pattern)"
   ]
  },
  {
   "cell_type": "markdown",
   "metadata": {},
   "source": [
    "### Example of Cycle"
   ]
  },
  {
   "cell_type": "code",
   "execution_count": 136,
   "metadata": {
    "scrolled": false
   },
   "outputs": [
    {
     "name": "stdout",
     "output_type": "stream",
     "text": [
      "[Edge(start_s='g', end_s='root', start_t=False, end_t=False, disjunction=True, negation=False, conjunction=False, cycle=False, prob=False),\n",
      " Edge(start_s='g', end_s='root', start_t=0.18136207761967882, end_t=10.71627105153277, disjunction=False, negation=False, conjunction=False, cycle=True, prob=100),\n",
      " Edge(start_s='k', end_s='g', start_t=0.47081274661431194, end_t=4.01325482913925, disjunction=False, negation=False, conjunction=False, cycle=False, prob=100)]\n"
     ]
    },
    {
     "data": {
      "image/png": "[encoded data removed]",
      "text/plain": [
       "<Figure size 432x288 with 1 Axes>"
      ]
     },
     "metadata": {},
     "output_type": "display_data"
    },
    {
     "name": "stdout",
     "output_type": "stream",
     "text": [
      "[Edge(start_s='e', end_s='root', start_t=False, end_t=False, disjunction=True, negation=False, conjunction=False, cycle=False, prob=False),\n",
      " Edge(start_s='e', end_s='root', start_t=0.7903401644808726, end_t=12.657004230865422, disjunction=False, negation=False, conjunction=False, cycle=True, prob=100),\n",
      " Edge(start_s='h', end_s='root', start_t=0.4365487078482848, end_t=6.788917960318205, disjunction=False, negation=False, conjunction=False, cycle=False, prob=100)]\n"
     ]
    },
    {
     "data": {
      "image/png": "[encoded data removed]",
      "text/plain": [
       "<Figure size 432x288 with 1 Axes>"
      ]
     },
     "metadata": {},
     "output_type": "display_data"
    }
   ],
   "source": [
    "# Raised the low threshold to be able to perform both operators.\n",
    "for _ in range(2): \n",
    "    ref_pattern = body_pattern(low_body=2, high_body=3, cycle=True)\n",
    "    pprint(ref_pattern)\n",
    "    plot_pattern(ref_pattern)"
   ]
  },
  {
   "cell_type": "markdown",
   "metadata": {},
   "source": [
    "## Generating Training Set\n",
    "<br>"
   ]
  },
  {
   "cell_type": "markdown",
   "metadata": {},
   "source": [
    "method that generates a relative time point to it's neighbouring symbol. \n",
    "\n",
    "Input: Node Edge(start_s= , tp)\n",
    "\n",
    "Output: (list) Absolute time points of neighboring symbols\n",
    "\n",
    "if Cycle also create a disjunction edge of two existing nodes\n",
    "\n",
    "\n",
    "\n",
    "if \n",
    "\n"
   ]
  },
  {
   "cell_type": "markdown",
   "metadata": {},
   "source": [
    "```\n",
    "[Edge(start_s='e', end_s='root', start_t=0.09076355834009453, end_t=14.146677014691154, disjunction=False, negation=False, conjunction=False, cycle=False, prob=100),\n",
    " Edge(start_s='f', end_s='e', start_t=0.9788685189371282, end_t=17.247531396840778, disjunction=False, negation=False, conjunction=False, cycle=False, prob=100)]\n",
    "```\n",
    "\n",
    "\n",
    "\n",
    "```\n",
    "loop over edges:\n",
    "    node_t = foo(edge.start_s, timepoint(l, h))\n",
    "    \n",
    "    find all nodes ending in node_t\n",
    "    \n",
    "    calculate time diff\n",
    "\n",
    "\n",
    "```\n",
    "\n",
    "Do we need to store the values. \n",
    "    "
   ]
  },
  {
   "cell_type": "code",
   "execution_count": 137,
   "metadata": {},
   "outputs": [
    {
     "name": "stdout",
     "output_type": "stream",
     "text": [
      "1\n",
      "[Edge(start_s='e', end_s='d', start_t=None, end_t=None, disjunction=True, negation=False, conjunction=False, cycle=False, prob=100),\n",
      " Edge(start_s='e', end_s='root', start_t=0.02724026503642374, end_t=7.799096126555513, disjunction=True, negation=False, conjunction=False, cycle=False, prob=100),\n",
      " Edge(start_s='d', end_s='root', start_t=0.326586830067936, end_t=4.169234760457217, disjunction=True, negation=False, conjunction=False, cycle=False, prob=100),\n",
      " Edge(start_s='j', end_s='root', start_t=0.006791121760568508, end_t=18.246261449564557, disjunction=False, negation=False, conjunction=False, cycle=False, prob=100),\n",
      " Edge(start_s='c', end_s='d', start_t=0.9712712653706305, end_t=18.671077516179757, disjunction=False, negation=False, conjunction=False, cycle=False, prob=100)]\n"
     ]
    },
    {
     "data": {
      "image/png": "[encoded data removed]",
      "text/plain": [
       "<Figure size 432x288 with 1 Axes>"
      ]
     },
     "metadata": {},
     "output_type": "display_data"
    }
   ],
   "source": [
    "patt = body_pattern(low_body=4, high_body=5, disjunction=True)\n",
    "pprint(patt)\n",
    "\n",
    "plot_pattern(patt)"
   ]
  },
  {
   "cell_type": "code",
   "execution_count": 128,
   "metadata": {},
   "outputs": [
    {
     "name": "stdout",
     "output_type": "stream",
     "text": [
      "Start Node h\n"
     ]
    },
    {
     "data": {
      "text/plain": [
       "['e']"
      ]
     },
     "execution_count": 128,
     "metadata": {},
     "output_type": "execute_result"
    }
   ],
   "source": [
    "def time_point(start_t, end_t): return np.random.uniform(start_t, end_t)\n",
    "\n",
    "def dest_nodes(node, pattern): \n",
    "    print('Start Node', node)\n",
    "    dest_nodes = []\n",
    "    for edge in pattern:     \n",
    "        \n",
    "        if edge.disjunction and edge.start_t is None: continue\n",
    "\n",
    "        elif edge.negation == True: continue # skip negation node\n",
    "        \n",
    "        elif edge.end_s == node:            \n",
    "            dest_nodes.append(edge.start_s)\n",
    "            \n",
    "    return dest_nodes\n",
    "            \n",
    "\n",
    "dest_nodes(patt[1].start_s, patt)\n",
    "\n",
    "        \n",
    "# for dest_node in dest_nodes\n"
   ]
  },
  {
   "cell_type": "code",
   "execution_count": null,
   "metadata": {
    "collapsed": true
   },
   "outputs": [],
   "source": []
  },
  {
   "cell_type": "code",
   "execution_count": null,
   "metadata": {
    "collapsed": true
   },
   "outputs": [],
   "source": []
  },
  {
   "cell_type": "code",
   "execution_count": null,
   "metadata": {
    "collapsed": true
   },
   "outputs": [],
   "source": []
  },
  {
   "cell_type": "code",
   "execution_count": null,
   "metadata": {
    "collapsed": true
   },
   "outputs": [],
   "source": [
    "# def foo():\n",
    "#     '''Starts at random edge in an instance of a Pattern. Iteratively find edges \n",
    "#     '''\n",
    "#     ref_dict = {}\n",
    "#     rand_idx = np.random.randint(low=0, high=len(patt)) # choose random edge to start on\n",
    "#     rand_edge = patt[rand_idx]\n",
    "\n",
    "#     if 'root' not in ref_dict: ref_dict['root'] = np.random.uniform(low=0, high=100) \n",
    "#     pprint(patt)\n",
    "#     for edge in patt:\n",
    "#         ref_dict = nieghbouring_tps(edge, ref_dict)\n",
    "#         print(ref_dict)\n",
    "    \n",
    "# foo()"
   ]
  },
  {
   "cell_type": "code",
   "execution_count": null,
   "metadata": {
    "collapsed": true
   },
   "outputs": [],
   "source": [
    "# for i in patt:\n",
    "#     nieghbouring_tps(patt[i].start_s, node_tp, patt)\n",
    "            \n",
    "\n",
    "\n",
    "#             print(True)\n",
    "#             if edge.start_s in ref_dict: return # time point for node already in dict\n",
    "    \n",
    "#             elif edge.end_s in ref_dict:\n",
    "#                 time_diff = ref_dict[edge.end_s] - time_point(edge.start_t, edge.end_t)\n",
    "#                 ref_dict[edge.start_s] = time_diff\n",
    "#                 return ref_dict\n",
    "#             else:\n",
    "#                 return ref_dict\n",
    "            \n",
    "#         if edge.start_t == None: continue # skip disjunction edge\n",
    "\n",
    "#         elif edge.disjunction:\n",
    "#             d_count += 1\n",
    "#             if which_d == d_count: # pop one of the disjunctions\n",
    "#                 patt.pop(patt.index(edge))\n",
    "\n",
    "#         elif edge.negation == True: continue # skip negation node\n",
    "\n",
    "#         elif edge.cycle == True: pass\n",
    "\n",
    "#         elif edge.end_s not in node_tps: continue # skip edges that end in a symbol that doesn't exist in the instance\n",
    "\n",
    "#         node_tps[edge.start_s] = node_tps[edge.end_s] - time_point(edge.start_t, edge.end_t)"
   ]
  },
  {
   "cell_type": "code",
   "execution_count": 130,
   "metadata": {},
   "outputs": [
    {
     "name": "stdout",
     "output_type": "stream",
     "text": [
      "[Edge(start_s='f', end_s='root', start_t=0.552893089071328, end_t=8.738762246291524, disjunction=False, negation=False, conjunction=False, cycle=False, prob=100),\n",
      " Edge(start_s='i', end_s='root', start_t=0.7616196153287176, end_t=15.484886664144407, disjunction=False, negation=False, conjunction=False, cycle=False, prob=100),\n",
      " Edge(start_s='h', end_s='f', start_t=0.8031397563798959, end_t=11.06428794552527, disjunction=False, negation=False, conjunction=False, cycle=False, prob=100),\n",
      " Edge(start_s='d', end_s='root', start_t=0.6335297107608947, end_t=9.82028100257959, disjunction=False, negation=False, conjunction=False, cycle=False, prob=100),\n",
      " Edge(start_s='b', end_s='d', start_t=0.15071754396542947, end_t=10.344223241926345, disjunction=False, negation=False, conjunction=False, cycle=False, prob=100)]\n"
     ]
    },
    {
     "data": {
      "text/plain": [
       "[['root', 679.8447799002458],\n",
       " ['f', 673.2350905098713],\n",
       " ['i', 675.5755457923909],\n",
       " ['d', 675.7411488564476]]"
      ]
     },
     "execution_count": 130,
     "metadata": {},
     "output_type": "execute_result"
    }
   ],
   "source": [
    "# for edge in patt:\n",
    "#     tp = time_point(edge.start_t, edge.end_t)\n",
    "    \n",
    "    \n",
    "def nieghbouring_tps(patt, s_tp, reference_tps):\n",
    "    tps = [[end_s, tp]] # add initial node and time\n",
    "    for e in patt: \n",
    "        if e.end_s == end_s:\n",
    "            abs_tp = tp - time_point(e.start_t, e.end_t)\n",
    "            tps.append([e.start_s, abs_tp])\n",
    "            \n",
    "    if len(tps) == 1: return None\n",
    "\n",
    "    else: return tps\n",
    "\n",
    "def foo():\n",
    "    # end case if no further nodes \n",
    "    tps = {}\n",
    "    \n",
    "    for edge in pattern:\n",
    "        if edge.end_s == 'root':\n",
    "            root_tp = np.random.uniform(low=0, high=1000)\n",
    "            nieghbouring_tps(nieghbouring_tps(patt, edge.end_s, tp=root_tp))\n",
    "        else:\n",
    "            pass\n",
    "            \n",
    "                \n",
    "        \n",
    "    \n",
    "                       \n",
    "pprint(patt)\n",
    "nieghbouring_tps(patt, edge.end_s, np.random.uniform(low=0, high=1000))\n",
    "# print(plot_pattern(patt))"
   ]
  },
  {
   "cell_type": "code",
   "execution_count": 107,
   "metadata": {},
   "outputs": [
    {
     "data": {
      "image/png": "[encoded data removed]",
      "text/plain": [
       "<Figure size 432x288 with 1 Axes>"
      ]
     },
     "metadata": {},
     "output_type": "display_data"
    }
   ],
   "source": [
    "plot_pattern(patt)"
   ]
  },
  {
   "cell_type": "code",
   "execution_count": 79,
   "metadata": {},
   "outputs": [
    {
     "data": {
      "text/plain": [
       "1.3745401188473625"
      ]
     },
     "execution_count": 79,
     "metadata": {},
     "output_type": "execute_result"
    }
   ],
   "source": [
    "np.random.seed(42)\n",
    "\n",
    "time_point(1, 2)"
   ]
  },
  {
   "cell_type": "code",
   "execution_count": null,
   "metadata": {
    "collapsed": true
   },
   "outputs": [],
   "source": []
  },
  {
   "cell_type": "code",
   "execution_count": 87,
   "metadata": {},
   "outputs": [
    {
     "name": "stdout",
     "output_type": "stream",
     "text": [
      "[Edge(start_s='d', end_s='b', start_t=None, end_t=None, disjunction=True, negation=False, conjunction=False, cycle=False, prob=100),\n",
      " Edge(start_s='d', end_s='root', start_t=0.6476901205413623, end_t=19.990112837089, disjunction=True, negation=False, conjunction=False, cycle=False, prob=100),\n",
      " Edge(start_s='b', end_s='root', start_t=0.352568856334169, end_t=14.209156094997448, disjunction=True, negation=False, conjunction=False, cycle=False, prob=100),\n",
      " Edge(start_s='g', end_s='root', start_t=0.5107473025775657, end_t=12.069190940173199, disjunction=False, negation=False, conjunction=False, cycle=False, prob=100),\n",
      " Edge(start_s='e', end_s='b', start_t=0.6924360328902703, end_t=14.881165657828092, disjunction=False, negation=False, conjunction=False, cycle=False, prob=100)]\n"
     ]
    },
    {
     "data": {
      "image/png": "[encoded data removed]",
      "text/plain": [
       "<Figure size 432x288 with 1 Axes>"
      ]
     },
     "metadata": {},
     "output_type": "display_data"
    },
    {
     "name": "stdout",
     "output_type": "stream",
     "text": [
      "None\n"
     ]
    },
    {
     "data": {
      "text/plain": [
       "{'d': -8.74944640585807, 'g': -2.632239724916708, 'root': 3.6886947354532795}"
      ]
     },
     "execution_count": 87,
     "metadata": {},
     "output_type": "execute_result"
    }
   ],
   "source": [
    "patt = body_pattern(low_body=4, high_body=5, disjunction=True)\n",
    "\n",
    "pprint(patt)\n",
    "print(plot_pattern(patt))\n",
    "\n",
    "def time_point(start_t, end_t): return np.random.uniform(start_t, end_t)\n",
    "\n",
    "root_tp = np.random.uniform(low=0, high=100)\n",
    "\n",
    "node_tps = {'root': root_tp} # look-up dictionary for node time points\n",
    "\n",
    "d_count = 0 # enumerate disjunctions\n",
    "which_d = np.random.randint(low=1, high=2) # choose either first or second disjunction\n",
    "\n",
    "for edge in patt:\n",
    "    if edge.start_t == None: continue # skip disjunction edge\n",
    "    \n",
    "    elif edge.disjunction:\n",
    "        d_count += 1\n",
    "        if which_d == d_count: # pop one of the disjunctions\n",
    "            patt.pop(patt.index(edge))\n",
    "    \n",
    "    elif edge.negation == True: continue # skip negation node\n",
    "        \n",
    "    elif edge.cycle == True: pass\n",
    "\n",
    "    elif edge.end_s not in node_tps: continue # skip edges that end in a symbol that doesn't exist in the instance\n",
    "    \n",
    "    node_tps[edge.start_s] = node_tps[edge.end_s] - time_point(edge.start_t, edge.end_t)\n",
    "\n",
    "node_tps"
   ]
  },
  {
   "cell_type": "markdown",
   "metadata": {},
   "source": []
  },
  {
   "cell_type": "code",
   "execution_count": 65,
   "metadata": {
    "collapsed": true
   },
   "outputs": [],
   "source": [
    "def time_point(start_t, end_t): return np.random.uniform(start_t, end_t)\n",
    "\n",
    "def create_instance(patt, time_high=100000, make_pred=False): \n",
    "    '''\n",
    "    Returns:\n",
    "        ts (list): list of lists of time point and symbol adhereing\n",
    "        to pattern definition'''\n",
    "    \n",
    "    ts = [] # empty time series list\n",
    "    pred = []\n",
    "\n",
    "    root_tp = time_point(start_t=0, end_t=time_high)\n",
    "    head_prob = np.random.uniform(low=60, high=90)\n",
    "    \n",
    "    if make_pred: # if pattern instance create pred for .pred file\n",
    "        start_t, end_t = time_interval(head_constr)    \n",
    "        head_tp = root_tp + time_point(start_t, end_t)\n",
    "        pred.append([head_tp, A])\n",
    "    \n",
    "        if np.random.uniform(low=0, high=100) > head_prob: # whether pattern has consequent \n",
    "            ts.append([head_tp, A])\n",
    "\n",
    "    rand_num = np.random.uniform(low=0, high=100)\n",
    "\n",
    "    disjs = []\n",
    "    for edge in patt:\n",
    "        if edge.start_t is None: # mutual exclusion edge case\n",
    "            continue\n",
    "\n",
    "        elif edge.disjunction == True and make_pred == True:\n",
    "            disjs.append(edge)\n",
    "\n",
    "        elif edge.conjunction: # already done, as all edges \n",
    "            pass \n",
    "\n",
    "        elif edge.cycle: \n",
    "            \n",
    "            if rand_num > 0.5:\n",
    "                for cyc in range(2):\n",
    "                    ts.append([root_tp - time_point(edge.start_t, edge.end_t), edge.start_s])\n",
    "\n",
    "            ## INSERT LOGIC: repeat subset or entire pattern, need for mutual exclusion \n",
    "            # if just setting threshold , e.g cycle_iters above???\n",
    "\n",
    "        elif edge.negation: # skip negation node\n",
    "            continue\n",
    "\n",
    "        else:# for non-conditional edges  \n",
    "            ts.append([root_tp - time_point(edge.start_t, edge.end_t), edge.start_s])\n",
    "\n",
    "    if len(disjs) > 1: # if there are multiple disjunctions, randomly choose one for .event\n",
    "        disj = disjs[np.random.randint(low=0, high=len(disjs) - 1)] \n",
    "        ts.append([root_tp - time_point(disj.start_t, disj.end_t), disj.start_s])\n",
    "    \n",
    "    # create root in ts if it isn't empty pattern (edge case when subset retrurns empty subset, e.g [])\n",
    "    if patt == []: \n",
    "        return ts\n",
    "    elif make_pred:\n",
    "        ts.append([root_tp, ROOT_CONST])\n",
    "        return ts, pred\n",
    "    else:\n",
    "        return ts # when a random subset, return only ts\n"
   ]
  },
  {
   "cell_type": "markdown",
   "metadata": {},
   "source": [
    "## Making Noise!\n",
    "\n",
    "**Time Series Consists of: **<br>\n",
    "- Singular Pattern replicated over time line\n",
    "- Random Subsets of the Pattern (func: rand_subset)\n",
    "- Individual Noisy Symbols"
   ]
  },
  {
   "cell_type": "markdown",
   "metadata": {},
   "source": [
    "Insert logic to insert the negation into the instance at equal prob"
   ]
  },
  {
   "cell_type": "code",
   "execution_count": 9,
   "metadata": {
    "collapsed": true,
    "scrolled": true
   },
   "outputs": [],
   "source": [
    "def rand_subset(pattern): # random subset of the instance\n",
    "    '''\n",
    "    Returns:\n",
    "        ts (list): list of lists of time point and symbol of\n",
    "        random subset of the pattern definition'''\n",
    "    subset_idxs = sorted([np.random.randint(low=0, high=len(pattern)) for _ in range(2)])\n",
    "    sub_pattern = pattern[subset_idxs[0]: subset_idxs[1]]\n",
    "    \n",
    "    return sub_pattern\n",
    "    \n",
    "def noisy_instance(time_high=100000):\n",
    "    ''' Input: \n",
    "            time_high (int): \n",
    "    \n",
    "            Returns:\n",
    "                ts (list): list of lists containing random time point and symbol'''\n",
    "    \n",
    "    sym = unique_body_symbols(single=True).pop()\n",
    "    tp = time_point(start_t=0, end_t=time_high)\n",
    "    inst = [[tp, sym]]\n",
    "    return inst\n",
    "\n",
    "\n",
    "\n",
    "\n",
    "def create_outputs(pattern, n_patterns, n_subsets, n_noisy_insts):\n",
    "    '''Creates both .event array and its corresponding .pred array from\n",
    "    \n",
    "    \n",
    "    Returns:\n",
    "            events (list): time series for training/testing set\n",
    "            preds (list): ground truth values\n",
    "    '''\n",
    "\n",
    "    \n",
    "    events, preds = [], []\n",
    "    \n",
    "    for _ in range(n_patterns):\n",
    "        event, pred =  create_instance(patt, make_pred=True)\n",
    "        events.extend(event)\n",
    "        preds.extend(pred)\n",
    "        \n",
    "    for _ in range(n_subsets):\n",
    "        event = create_instance(rand_subset(patt))\n",
    "        if event != []:\n",
    "            events.extend(event)\n",
    "        else:\n",
    "            continue\n",
    "        \n",
    "    for _ in range(n_noisy_insts):\n",
    "        event = noisy_instance()\n",
    "        events.extend(event)\n",
    "    \n",
    "    events.sort(key=lambda x: x[0])\n",
    "    preds.sort(key=lambda x: x[0])# sort by timestamp\n",
    "    \n",
    "    return events, preds\n",
    "    \n"
   ]
  },
  {
   "cell_type": "markdown",
   "metadata": {},
   "source": [
    "## Output to file."
   ]
  },
  {
   "cell_type": "code",
   "execution_count": 12,
   "metadata": {
    "collapsed": true
   },
   "outputs": [],
   "source": [
    "patt = body_pattern(low_body=4, high_body=6, low_prob=60, high_prob=90,\n",
    "             disjunction=False, negation=False, conjunction=False, prob=100, cycle=False)\n",
    "\n",
    "events, preds = create_outputs(patt, n_patterns=100, n_subsets=500, n_noisy_insts=500)"
   ]
  },
  {
   "cell_type": "code",
   "execution_count": 11,
   "metadata": {},
   "outputs": [
    {
     "ename": "NameError",
     "evalue": "name 'events' is not defined",
     "output_type": "error",
     "traceback": [
      "\u001b[1;31m---------------------------------------------------------------------------\u001b[0m",
      "\u001b[1;31mNameError\u001b[0m                                 Traceback (most recent call last)",
      "\u001b[1;32m<ipython-input-11-ee635b05147f>\u001b[0m in \u001b[0;36m<module>\u001b[1;34m()\u001b[0m\n\u001b[1;32m----> 1\u001b[1;33m \u001b[0mevents\u001b[0m\u001b[1;33m[\u001b[0m\u001b[1;33m:\u001b[0m\u001b[1;36m5\u001b[0m\u001b[1;33m]\u001b[0m\u001b[1;33m\u001b[0m\u001b[0m\n\u001b[0m",
      "\u001b[1;31mNameError\u001b[0m: name 'events' is not defined"
     ]
    }
   ],
   "source": [
    "events[:5]"
   ]
  },
  {
   "cell_type": "code",
   "execution_count": 21,
   "metadata": {},
   "outputs": [
    {
     "data": {
      "text/plain": [
       "[[797.8172557714969, 'a'],\n",
       " [1269.9456051485674, 'a'],\n",
       " [1317.8180656423028, 'a'],\n",
       " [1702.6484827812483, 'a'],\n",
       " [2623.3561186172683, 'a']]"
      ]
     },
     "execution_count": 21,
     "metadata": {},
     "output_type": "execute_result"
    }
   ],
   "source": [
    "preds[:5]"
   ]
  },
  {
   "cell_type": "code",
   "execution_count": 13,
   "metadata": {},
   "outputs": [
    {
     "data": {
      "image/png": "[encoded data removed]",
      "text/plain": [
       "<Figure size 432x288 with 1 Axes>"
      ]
     },
     "metadata": {},
     "output_type": "display_data"
    }
   ],
   "source": [
    "X = np.array(events)\n",
    "\n",
    "values = list(X[:, 1])\n",
    "names = list(X[:, 0])\n",
    "plt.figsize(20,20)\n",
    "plt.scatter(names, values);\n",
    "plt.show()"
   ]
  },
  {
   "cell_type": "code",
   "execution_count": 34,
   "metadata": {
    "collapsed": true
   },
   "outputs": [],
   "source": [
    "with open('n_patterns_100_n_subsets_500_n_noisy_insts_500.event', 'w') as file:\n",
    "    for l in events:\n",
    "        s = str(l[0]) + ' ,' + str(l[1]) + '\\n'\n",
    "        file.write(s)"
   ]
  },
  {
   "cell_type": "markdown",
   "metadata": {
    "collapsed": true
   },
   "source": [
    "## LMK what you think :)\n",
    "\n",
    "**Concerns:**<br>\n",
    "- disjunction and conjunction always connect to root node fist, do we need to have a pattern where it would be prepended to another connected node\n",
    "\n",
    "- Don't use the mutual exclusion edge\n",
    "\n",
    "- cycles"
   ]
  },
  {
   "cell_type": "code",
   "execution_count": null,
   "metadata": {
    "collapsed": true
   },
   "outputs": [],
   "source": []
  }
 ],
 "metadata": {
  "kernelspec": {
   "display_name": "Python 3",
   "language": "python",
   "name": "python3"
  },
  "language_info": {
   "codemirror_mode": {
    "name": "ipython",
    "version": 3
   },
   "file_extension": ".py",
   "mimetype": "text/x-python",
   "name": "python",
   "nbconvert_exporter": "python",
   "pygments_lexer": "ipython3",
   "version": "3.6.2"
  }
 },
 "nbformat": 4,
 "nbformat_minor": 4
}
