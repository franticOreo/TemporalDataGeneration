{
 "cells": [
  {
   "cell_type": "markdown",
   "metadata": {},
   "source": [
    "# ExploringTemporalData-Copy1"
   ]
  },
  {
   "cell_type": "code",
   "execution_count": 39,
   "metadata": {
    "collapsed": true,
    "scrolled": false
   },
   "outputs": [],
   "source": [
    "import pandas as pd\n",
    "import numpy as np\n",
    "from pprint import pprint\n",
    "import random\n",
    "import networkx as nx \n",
    "import matplotlib.pyplot as plt \n",
    "\n",
    "import collections\n"
   ]
  },
  {
   "cell_type": "code",
   "execution_count": 40,
   "metadata": {
    "collapsed": true,
    "scrolled": false
   },
   "outputs": [],
   "source": [
    "'''Need source for code\n",
    "'''\n",
    "\n",
    "class GraphVisualization: \n",
    "   \n",
    "    def __init__(self): \n",
    "          \n",
    "        # visual is a list which stores all  \n",
    "        # the set of edges that constitutes a \n",
    "        # graph \n",
    "        self.visual = [] \n",
    "          \n",
    "    # addEdge function inputs the vertices of an \n",
    "    # edge and appends it to the visual list \n",
    "    def addEdge(self, a, b): \n",
    "        temp = [a, b] \n",
    "        self.visual.append(temp) \n",
    "          \n",
    "    # In visualize function G is an object of \n",
    "    # class Graph given by networkx G.add_edges_from(visual) \n",
    "    # creates a graph with a given list \n",
    "    # nx.draw_networkx(G) - plots the graph \n",
    "    # plt.show() - displays the graph \n",
    "    def visualize(self): \n",
    "        G = nx.Graph() \n",
    "        G.add_edges_from(self.visual) \n",
    "        nx.draw_networkx(G) \n",
    "        plt.show() \n",
    "  "
   ]
  },
  {
   "cell_type": "markdown",
   "metadata": {},
   "source": [
    "## Generating My Own Data"
   ]
  },
  {
   "cell_type": "markdown",
   "metadata": {},
   "source": [
    "- At some point n_bod_symbols should be specified as a range e.g. [2,4] and then a random value chosen for it\n",
    "- Use constants for any string values that are repeated e.g. 'leaf_nodes','event_a','prob'. The other way to do this would be to use a class or named tuples (https://pymotw.com/2/collections/namedtuple.html). In this case I'd probably use constants or named tuples. Only worth using classes if more complex.\n",
    "- a_value might end up being > than max value 100000\n",
    "- The current data structure for the pattern (i.e. patt) only allows one root and a list of leaves coming from that. Going forward you will need to be able to add deeper branches plus other properties like negation, disjunction and cycles. This pattern is best described as a 'graph' which consists of a list of vertices (i.e. the symbols) and edges which are described by a start symbol and end symbol. In our case the edges will also have a time interval and boolean properties for negation,disjunction. As a general rule you should pick a data structure that best matches your data, in this case its graphs. Start with a list of symbols and a list of edges. The edges will contain several values, perhaps using a named tuple.\n",
    "- Pass parameters into create_patterns() that define the low/high of probability, time interval and possible other things like whether to allow disjunction, negation, cycles.  Disjunction, negation and cycles should be part of the pattern definition (patt) rather than being decided during generate_instance()\n",
    "- Generate the noise outside of generate_instances(). The noise will be spread uniformly over the whole time range [0,100000] and not related to any individual instance"
   ]
  },
  {
   "cell_type": "markdown",
   "metadata": {},
   "source": [
    "### Assumptions:\n",
    "\n",
    "- Body symbols : body symbols & root symbol == antecedent ???\n",
    "- Head: a or any symbol excluding body symbols == consequent ???\n",
    "\n",
    "- Every Pattern contains a root node\n",
    "- Not Every Pattern *instance* has an A node, if so it ends at root node.\n",
    "\n",
    "- every reference pattern has a antecendent & consequent\n",
    "\n",
    "- The root node is the only node with a time point, the rest of the nodes sit within time intervals.\n",
    "- Each node in the pattern needs to connect to at least one node.\n",
    "- A body node/symbol cannot end on itself, e.g [start_symbol= b, end_symbol=b] : temporal constraint\n",
    "- The A node can end on itself.\n",
    "- All symbols in the pattern are unique.\n",
    "- There can be only 1 root nodes ???\n",
    "- There can be only be 0 or 1 A node for instance\n",
    "\n",
    "- A conjunction is simply two or more body symbols appearing before a specific root node time point?\n",
    "    or is it when a body symbol occurs within the time interval of a neighbouring body symbol.\n",
    "    \n",
    "- Reference pattern time intervals are relative to the root node \n",
    "\n",
    "\n",
    "### Plan\n",
    "\n",
    "- Make a function that creates the reference pattern (temporal association rule with zero noise, e.g pure pattern)\n",
    "- Input conf, support into the pattern \n",
    "\n",
    "- Distribute generated instances across time scale\n",
    "- Introduce noise\n",
    "\n",
    "- Make a .pred file which is just the time interval of the antecedent (node a), symbol (a), probability (confidence)\n",
    "- Generate files for training (patterns randomised with noise.) from above dot point \n",
    "\n",
    "\n",
    "### Ideas  for my research\n",
    "\n",
    "Crypto currency and sentiment analysis combined with time series analysis in context of GameStop"
   ]
  },
  {
   "cell_type": "code",
   "execution_count": 41,
   "metadata": {
    "collapsed": true,
    "scrolled": false
   },
   "outputs": [],
   "source": [
    "body_constr = [0,20]\n",
    "head_constr = [0,10]\n",
    "\n",
    "BODY_CONST = 'body'\n",
    "HEAD_CONST = 'head'\n",
    "ROOT_CONST = 'root'\n",
    "A = 'a'\n",
    "always = 100"
   ]
  },
  {
   "cell_type": "code",
   "execution_count": 42,
   "metadata": {
    "scrolled": false
   },
   "outputs": [],
   "source": [
    "def time_interval(body_constr): return tuple(np.random.uniform(body_constr)) \n",
    "\n",
    "def unique_body_symbols(low=3, high=5, single=False):\n",
    "    '''Creates a random unique list of symbols for the body \n",
    "    of pattern. Symbol A has been excluded from the list as it is reserved \n",
    "    for the head of the pattern.\n",
    "        Args: \n",
    "            n_body_symbols (int): amount of body symbols\n",
    "            \n",
    "        Returns:\n",
    "            random_symbols (list): random choice of symbols\n",
    "    '''\n",
    "    symbols = ['b', 'c', 'd', 'e', 'f', 'g', 'h', 'i', 'j', 'k'] # possible body symbols\n",
    "    n_bod_symbols = np.random.randint(low, high)\n",
    "    if single:  n_bod_symbols = 1 \n",
    "    rand_symbols = random.sample(symbols, k=n_bod_symbols)\n",
    "    \n",
    "    return rand_symbols\n",
    "\n",
    "def make_edges(Edge, body_symbols, condition):\n",
    "    n_body_symbols = 2 if condition == 'conjunction' or condition == 'disjunction' else 1\n",
    "    \n",
    "    edges = []\n",
    "    connected_nodes = []\n",
    "    \n",
    "    for _ in range(n_body_symbols):\n",
    "        sym = body_symbols.pop()\n",
    "        start_t, end_t = time_interval(body_constr)\n",
    "        rand_end_s = np.random.choice(connected_nodes + [ROOT_CONST])\n",
    "        \n",
    "        if condition == 'disjunction':\n",
    "            edges.append(Edge(BODY_CONST, sym, ROOT_CONST, start_t, end_t, prob=always, disjunction=True))\n",
    "        if condition == 'conjunction':\n",
    "            edges.append(Edge(BODY_CONST, sym, ROOT_CONST, start_t, end_t, prob=always, conjunction=True))\n",
    "        if condition == 'negation':\n",
    "            edges.append(Edge(BODY_CONST, sym, rand_end_s, start_t, end_t, prob=always, negation=True))\n",
    "        if condition == 'cycle':\n",
    "            edges.append(Edge(BODY_CONST, sym, rand_end_s, start_t, end_t, prob=always, cycle=True))                    \n",
    "        connected_nodes.append(sym)\n",
    "\n",
    "    return edges, connected_nodes\n",
    "\n",
    "\n",
    "def create_pattern(low_body=4, high_body=6, low_prob=60, high_prob=90, disjunction=False,\n",
    "                   negation=False, conjunction=False, prob=always, cycle=False): # remove time high\n",
    "    \n",
    "    body_symbols = unique_body_symbols(low_body, high_body)\n",
    "    rand_num = np.random.uniform(low=0, high=always)\n",
    "    prob = np.random.uniform(low=low_prob, high=high_prob)\n",
    "    connected_nodes = [] # keep track of connected nodes for end_symbol possibilities\n",
    "    \n",
    "    pattern = [] # pattern list of edges : graph like object\n",
    "    fields = ('type', 'start_s', 'end_s', 'start_t', 'end_t', 'disjunction', 'negation', 'conjunction', 'cycle', 'prob')\n",
    "    Edge = collections.namedtuple('Edge', fields)\n",
    "    Edge.__new__.__defaults__ = (False,) * len(Edge._fields) # set defaults\n",
    "    \n",
    "    start_t, end_t = time_interval(head_constr)\n",
    "    pattern.append(Edge(ROOT_CONST, ROOT_CONST, A, # edge for root --> a\n",
    "                           start_t=start_t,\n",
    "                           end_t=end_t, prob=prob))\n",
    "        \n",
    "    if disjunction:        \n",
    "        edges, nodes = make_edges(Edge, body_symbols, condition='disjunction') # CONSTANTS???\n",
    "        pattern.extend(edges)\n",
    "        connected_nodes.append(nodes)\n",
    "        pattern.append(Edge(BODY_CONST, nodes[0], nodes[1], # disjunction edge\n",
    "                    start_t, end_t, disjunction=True, prob=always))\n",
    "        \n",
    "    if negation:\n",
    "        edges, nodes = make_edges(Edge, body_symbols, condition='negation')\n",
    "        pattern.extend(edges)\n",
    "        connected_nodes.append(nodes) \n",
    "        \n",
    "    if cycle:\n",
    "        edges, nodes = make_edges(Edge, body_symbols, condition='cycle')\n",
    "        pattern.extend(edges)\n",
    "        connected_nodes.append(nodes)\n",
    "        \n",
    "    if conjunction:\n",
    "        edges, nodes = make_edges(Edge, body_symbols, condition='conjunction')\n",
    "        pattern.extend(edges)\n",
    "        connected_nodes.append(nodes)\n",
    "\n",
    "    # remaining nodes are added to either root or connected body node\n",
    "    edges, nodes = make_edges(Edge, body_symbols, condition=disjunction)\n",
    "    pattern.extend(edges)\n",
    "    connected_nodes.append(nodes)\n",
    "\n",
    "    return pattern\n",
    "\n",
    "def plot_pattern(pattern):\n",
    "    G = GraphVisualization() \n",
    "    for p in pattern: G.addEdge(p.start_s, p.end_s)\n",
    "    G.visualize()\n"
   ]
  },
  {
   "cell_type": "markdown",
   "metadata": {},
   "source": [
    "## Visualisations of Reference Patterns (disregarding time dimension).\n",
    "\n",
    "### Example of Disjunction\n",
    "\n",
    "disjunction edge could be: add prop disjunction, start_t ... == None\n",
    "\n",
    "cycle will have to have a disjunction to stop.\n",
    "\n",
    "negation add prop."
   ]
  },
  {
   "cell_type": "code",
   "execution_count": 43,
   "metadata": {
    "scrolled": false
   },
   "outputs": [
    {
     "name": "stdout",
     "output_type": "stream",
     "text": [
      "[Edge(type='root', start_s='root', end_s='a', start_t=0.58148906289689495, end_t=8.6549226749180264, disjunction=False, negation=False, conjunction=False, cycle=False, prob=80.80343995713602),\n",
      " Edge(type='body', start_s='f', end_s='root', start_t=0.17536259511409336, end_t=6.1842376200128175, disjunction=True, negation=False, conjunction=False, cycle=False, prob=100),\n",
      " Edge(type='body', start_s='h', end_s='root', start_t=0.083159543135339575, end_t=10.363164442140162, disjunction=True, negation=False, conjunction=False, cycle=False, prob=100),\n",
      " Edge(type='body', start_s='f', end_s='h', start_t=0.58148906289689495, end_t=8.6549226749180264, disjunction=True, negation=False, conjunction=False, cycle=False, prob=100)]\n"
     ]
    },
    {
     "data": {
      "image/png": "[encoded data removed]",
      "text/plain": [
       "<matplotlib.figure.Figure at 0x195ec7e5208>"
      ]
     },
     "metadata": {},
     "output_type": "display_data"
    },
    {
     "name": "stdout",
     "output_type": "stream",
     "text": [
      "[Edge(type='root', start_s='root', end_s='a', start_t=0.53257873880777606, end_t=2.7751187164523721, disjunction=False, negation=False, conjunction=False, cycle=False, prob=83.43562022078483),\n",
      " Edge(type='body', start_s='i', end_s='root', start_t=0.4887536187208672, end_t=8.1012303277371203, disjunction=True, negation=False, conjunction=False, cycle=False, prob=100),\n",
      " Edge(type='body', start_s='j', end_s='root', start_t=0.99814498925179784, end_t=12.46059367882372, disjunction=True, negation=False, conjunction=False, cycle=False, prob=100),\n",
      " Edge(type='body', start_s='i', end_s='j', start_t=0.53257873880777606, end_t=2.7751187164523721, disjunction=True, negation=False, conjunction=False, cycle=False, prob=100)]\n"
     ]
    },
    {
     "data": {
      "image/png": "[encoded data removed]",
      "text/plain": [
       "<matplotlib.figure.Figure at 0x195ec871b70>"
      ]
     },
     "metadata": {},
     "output_type": "display_data"
    }
   ],
   "source": [
    "for _ in range(2): \n",
    "    ref_pattern = create_pattern(low_body=3, high_body=5, disjunction=True)\n",
    "    pprint(ref_pattern)\n",
    "    plot_pattern(ref_pattern)"
   ]
  },
  {
   "cell_type": "markdown",
   "metadata": {},
   "source": [
    "### Example of Negation"
   ]
  },
  {
   "cell_type": "code",
   "execution_count": 44,
   "metadata": {
    "scrolled": false
   },
   "outputs": [
    {
     "data": {
      "image/png": "[encoded data removed]",
      "text/plain": [
       "<matplotlib.figure.Figure at 0x195ec9e6a58>"
      ]
     },
     "metadata": {},
     "output_type": "display_data"
    },
    {
     "data": {
      "image/png": "[encoded data removed]",
      "text/plain": [
       "<matplotlib.figure.Figure at 0x195ec897c18>"
      ]
     },
     "metadata": {},
     "output_type": "display_data"
    }
   ],
   "source": [
    "for _ in range(2): \n",
    "    ref_pattern = create_pattern(low_body=3, high_body=5, disjunction=False, negation=True)\n",
    "    plot_pattern(ref_pattern)"
   ]
  },
  {
   "cell_type": "markdown",
   "metadata": {},
   "source": [
    "### Example of Conjunction"
   ]
  },
  {
   "cell_type": "code",
   "execution_count": 45,
   "metadata": {
    "scrolled": false
   },
   "outputs": [
    {
     "data": {
      "image/png": "[encoded data removed]",
      "text/plain": [
       "<matplotlib.figure.Figure at 0x195ec7dfe10>"
      ]
     },
     "metadata": {},
     "output_type": "display_data"
    },
    {
     "data": {
      "image/png": "[encoded data removed]",
      "text/plain": [
       "<matplotlib.figure.Figure at 0x195ec9323c8>"
      ]
     },
     "metadata": {},
     "output_type": "display_data"
    }
   ],
   "source": [
    "# Raised the low threshold to be able to perform both operators.\n",
    "for _ in range(2): \n",
    "    ref_pattern = create_pattern(low_body=3, high_body=6, conjunction=True, prob=None)\n",
    "    plot_pattern(ref_pattern)"
   ]
  },
  {
   "cell_type": "markdown",
   "metadata": {},
   "source": [
    "## Generating Training Set\n",
    "<br>\n",
    "Now that we have our reference pattern, we are going to try to build out a training set, basically a noisy dataset (noise we can control) with our reference pattern distributed randomly amongst the noise (level of support???)"
   ]
  },
  {
   "cell_type": "code",
   "execution_count": 54,
   "metadata": {
    "scrolled": false
   },
   "outputs": [],
   "source": [
    "patt = create_pattern(low_body=3, high_body=5, disjunction=True)\n",
    "\n",
    "def time_point(start_t, end_t): return np.random.uniform(start_t, end_t)\n",
    "\n",
    "def get_root(patt, time_high): # extract root time point and symbol\n",
    "    for edge in patt: \n",
    "        if edge.type == ROOT_CONST: \n",
    "            return np.random.uniform(0, time_high), edge.start_s # random root time point\n",
    "\n",
    "def create_instance(patt, time_high=100000, n_instances=1): # creation of the instances: create instance\n",
    "    '''\n",
    "    Returns:\n",
    "        ts (list): list of lists of time point and symbol adhereing\n",
    "        to pattern definition'''\n",
    "    ts = [] # empty time series list\n",
    "\n",
    "    for n in range(n_instances):\n",
    "        rand_num = np.random.uniform(low=0, high=100)\n",
    "        root_tp, root_s = get_root(patt, time_high=time_high)\n",
    "        ts.append([root_tp, root_s])\n",
    "\n",
    "        for edge in patt:\n",
    "            if edge.type == BODY_CONST: \n",
    "                ts.append([root_tp - time_point(edge.start_t, edge.end_t), edge.start_s])\n",
    "\n",
    "            if edge.type == ROOT_CONST: # randomly append consequent\n",
    "                if rand_num > edge.prob:\n",
    "                    ### INSERT LOGIC: to retrieve A and it's relative time point\n",
    "                    ts.append([root_tp + time_point(edge.start_t, edge.end_t), edge.end_s])\n",
    "\n",
    "#     ts.sort(key=lambda x: x[0]) # sort by timestamp\n",
    "    \n",
    "    return ts\n",
    "\n",
    "ts = create_instance(patt, n_instances=4)"
   ]
  },
  {
   "cell_type": "code",
   "execution_count": 55,
   "metadata": {},
   "outputs": [
    {
     "data": {
      "text/plain": [
       "[[26143.01643783239, 'root'],\n",
       " [26140.54254605812, 'e'],\n",
       " [26141.98902360185, 'c'],\n",
       " [26140.01123218861, 'e'],\n",
       " [77907.40847038456, 'root'],\n",
       " [77905.87208896867, 'e'],\n",
       " [77906.58260399885, 'c'],\n",
       " [77903.3371319722, 'e'],\n",
       " [42977.91708301025, 'root'],\n",
       " [42976.58176884194, 'e'],\n",
       " [42976.32368274544, 'c'],\n",
       " [42974.86374094732, 'e'],\n",
       " [63686.55183652841, 'root'],\n",
       " [63685.86721778151, 'e'],\n",
       " [63685.09889162714, 'c'],\n",
       " [63685.2295082154, 'e']]"
      ]
     },
     "execution_count": 55,
     "metadata": {},
     "output_type": "execute_result"
    }
   ],
   "source": [
    "ts"
   ]
  },
  {
   "cell_type": "markdown",
   "metadata": {},
   "source": [
    "## Making Noise!\n",
    "\n",
    "**Time Series Consists of: **<br>\n",
    "- Singular Pattern replicated over time line\n",
    "- Random Subsets of the Pattern (func: rand_subset)\n",
    "- Individual Noisy Symbols\n",
    "\n",
    "These three types are randomly controlled (probablility of each occuring). Then, combined to create the training/test set. "
   ]
  },
  {
   "cell_type": "code",
   "execution_count": 75,
   "metadata": {
    "scrolled": true
   },
   "outputs": [
    {
     "name": "stdout",
     "output_type": "stream",
     "text": [
      "[[943.4690310233286, 'e'],\n",
      " [944.8983168329164, 'c'],\n",
      " [945.0128060585686, 'e'],\n",
      " [946.8624047528018, 'root'],\n",
      " [2942.12022228803, 'root'],\n",
      " [2943.3154468723824, 'e'],\n",
      " [13454.857093859197, 'g'],\n",
      " [14196.58823462841, 'e'],\n",
      " [14197.189352857915, 'c'],\n",
      " [14197.450028076157, 'e'],\n",
      " [14198.75042069152, 'root'],\n",
      " [14200.24299102403, 'a'],\n",
      " [20417.656186520082, 'e'],\n",
      " [20418.51889516416, 'c'],\n",
      " [20418.99554768091, 'e'],\n",
      " [20421.117421229574, 'root'],\n",
      " [29414.470587312928, 'root'],\n",
      " [34990.59743026717, 'e'],\n",
      " [37715.26277235509, 'e'],\n",
      " [37715.26994890713, 'c'],\n",
      " [37715.95609537502, 'e'],\n",
      " [37717.028588941525, 'root'],\n",
      " [39406.52594640984, 'e'],\n",
      " [39409.70273353839, 'c'],\n",
      " [39409.850603297804, 'e'],\n",
      " [39410.71121427013, 'root'],\n",
      " [41853.817096641345, 'root'],\n",
      " [41855.0990385129, 'e'],\n",
      " [43135.53303901243, 'c'],\n",
      " [45991.41298711824, 'g'],\n",
      " [51664.47045092032, 'c'],\n",
      " [51665.46090649083, 'e'],\n",
      " [51666.415143971695, 'e'],\n",
      " [51666.79945221857, 'root'],\n",
      " [51668.415964820924, 'a'],\n",
      " [69995.76174483237, 'b'],\n",
      " [71939.74873711744, 'e'],\n",
      " [71940.24492815936, 'c'],\n",
      " [71941.16810746845, 'e'],\n",
      " [71942.33399372028, 'root'],\n",
      " [73449.69229142074, 'e'],\n",
      " [87605.22631284987, 'e'],\n",
      " [87605.48086514785, 'c'],\n",
      " [87605.67145909218, 'e'],\n",
      " [87608.01712305925, 'root']]\n"
     ]
    }
   ],
   "source": [
    "def rand_subset(pattern, time_high=100000): # random subset of the instance\n",
    "    '''\n",
    "    Returns:\n",
    "        ts (list): list of lists of time point and symbol of\n",
    "        random subset of the pattern definition'''\n",
    "    subset_idxs = sorted([np.random.randint(low=0, high=len(pattern)) for _ in range(2)])\n",
    "    pattern = pattern[subset_idxs[0]: subset_idxs[1]]\n",
    "    \n",
    "    root_tp = time_point(start_t=0, end_t=time_high)\n",
    "    \n",
    "    ts = [[root_tp - time_point(edge.start_t, edge.end_t), edge.start_s] for edge in pattern]\n",
    "    \n",
    "    return ts \n",
    "\n",
    "def noisy_instance(time_high=100000):\n",
    "    ''' Input: \n",
    "            time_high (int): \n",
    "    \n",
    "            Returns:\n",
    "                ts (list): list of lists containing random time point and symbol'''\n",
    "    \n",
    "    sym = unique_body_symbols(single=True).pop()\n",
    "    tp = time_point(start_t=0, end_t=time_high)\n",
    "    inst = [[tp, sym]]\n",
    "    return inst\n",
    "\n",
    "def create_train(pattern, patt_prob=0.2, subset_prob=0.2, noisy_inst_prob=0.5, n_iter=10):\n",
    "    '''Returns:\n",
    "            ts (list): time series for training set  \n",
    "    '''\n",
    "    train = []\n",
    "    \n",
    "    for _ in range(n_iter):\n",
    "        rand_num = np.random.uniform(low=0, high=1)\n",
    "\n",
    "        if rand_num > patt_prob: train.extend(create_instance(pattern))\n",
    "        if rand_num > subset_prob: train.extend(rand_subset(pattern))\n",
    "        if rand_num > noisy_inst_prob: train.extend(noisy_instance())\n",
    "\n",
    "    train.sort(key=lambda x: x[0])\n",
    "    \n",
    "    pprint(train)\n",
    "    \n",
    "create_train(patt)"
   ]
  },
  {
   "cell_type": "markdown",
   "metadata": {},
   "source": [
    "### TODO: Creating .pred file\n",
    "\n",
    "Every time a pattern instance (NOT a subset or noisy instance) contains the consequent, *a* get the relvent time point and write to file."
   ]
  },
  {
   "cell_type": "code",
   "execution_count": null,
   "metadata": {
    "collapsed": true
   },
   "outputs": [],
   "source": [
    "''' \n",
    "'''"
   ]
  },
  {
   "cell_type": "code",
   "execution_count": null,
   "metadata": {
    "collapsed": true
   },
   "outputs": [],
   "source": []
  },
  {
   "cell_type": "code",
   "execution_count": null,
   "metadata": {
    "collapsed": true
   },
   "outputs": [],
   "source": []
  },
  {
   "cell_type": "code",
   "execution_count": null,
   "metadata": {
    "collapsed": true
   },
   "outputs": [],
   "source": []
  },
  {
   "cell_type": "code",
   "execution_count": null,
   "metadata": {
    "collapsed": true
   },
   "outputs": [],
   "source": []
  },
  {
   "cell_type": "code",
   "execution_count": null,
   "metadata": {
    "collapsed": true
   },
   "outputs": [],
   "source": []
  },
  {
   "cell_type": "code",
   "execution_count": null,
   "metadata": {
    "collapsed": true
   },
   "outputs": [],
   "source": []
  },
  {
   "cell_type": "code",
   "execution_count": null,
   "metadata": {
    "collapsed": true
   },
   "outputs": [],
   "source": []
  },
  {
   "cell_type": "code",
   "execution_count": null,
   "metadata": {
    "collapsed": true,
    "scrolled": false
   },
   "outputs": [],
   "source": [
    "\n",
    "def create_pattern(symbols):\n",
    "    '''Create Dictionary of leaf nodes, root node (from body symbols)\n",
    "    and event_a (head). Appropriate time intervals are assigned to the \n",
    "    nodes. Additionally, probability is assigned\n",
    "        Args:\n",
    "            symbols: list of symbols'''\n",
    "    \n",
    "    patt = {}\n",
    "    # randomly select a symbol to be the root node    \n",
    "    patt['root_node'] = symbols.pop(random.randrange(len(symbols)))\n",
    "    \n",
    "    leafs = []\n",
    "    for sym in symbols:\n",
    "        # create a random time interval conforming to body constraint\n",
    "        st, et = time_interval(body_constr)\n",
    "        # create array with time point from interval and it's relevent symbol\n",
    "        leafs.append([np.random.uniform(low=st, high=et), sym])\n",
    "    \n",
    "    patt['leaf_nodes'] = leafs\n",
    "    patt['event_a'] = A\n",
    "    patt['prob'] = np.random.uniform(low=60, high=90)\n",
    "    \n",
    "    return patt\n",
    "    \n",
    "\n",
    "class Pattern:\n",
    "    '''Class to Generate data from pattern dictionary.\n",
    "        Args:\n",
    "            n_body_symbols (int):  desired amount of body symbols.\n",
    "            noise (float): amount of noise.\n",
    "            cycle (bool): determine if pattern is repeated.\n",
    "            disjunction (bool): disjuntion pattern if True, else conjunction.\n",
    "            n_patterns (int): used by generate_instances to create n instances\n",
    "                            of a pattern\n",
    "            print_patt (bool): Used for validation to see a 'pretty' version \n",
    "                            of the pattern.\n",
    "            \n",
    "    '''\n",
    "    def __init__(self, n_bod_symbols, noise, cycle, disjunction,\n",
    "                 n_patterns=1, print_patt=False):\n",
    "        \n",
    "        self.n_bod_symbols = n_bod_symbols\n",
    "        self.bod_symbols = unique_body_symbols(n_bod_symbols)\n",
    "        self.noise = noise\n",
    "        self.cycle = cycle\n",
    "        self.disjunction = disjunction\n",
    "        self.patt = create_pattern(self.bod_symbols)\n",
    "        self.n_patterns = n_patterns\n",
    "        self.print_patt = print_patt\n",
    "\n",
    "    def generate_instance(self):       \n",
    "        rand_num = np.random.uniform(low=0, high=100)\n",
    "        root_value = np.random.uniform(low=0, high=100000)\n",
    "        a_value = root_value + np.random.uniform(low=0, high=10) # [0,10] head constraint\n",
    "        \n",
    "        # for each leaf node subtract the relevent time point from the root nodes value\n",
    "        inst = [[root_value - leaf[0], leaf[1]] for leaf in self.patt['leaf_nodes']]\n",
    "        inst.append([root_value, self.patt['root_node']]) # add root node & value\n",
    "\n",
    "        \n",
    "        if self.patt['prob'] > rand_num: # if probability is greater than random num create symbol a\n",
    "            inst.append([a_value, self.patt['event_a']])\n",
    "\n",
    "        if self.noise > rand_num / 100: # divide by 100 for decimal comparison\n",
    "            # create new symbol (MAY BE REPEATED SYMBOL FROM PATTERN, PROBLEM?)\n",
    "            noisy_symbol = unique_body_symbols(1) \n",
    "            inst.append([root_value - np.random.uniform(low=0, high=20), noisy_symbol.pop()])\n",
    "            \n",
    "        if self.print_patt: pprint(self.patt) # pretty print of pattern\n",
    "\n",
    "        inst.sort(key=lambda x: x[0]) # sort by timestamp\n",
    "        return inst\n",
    "    \n",
    "    def generate_instances(self):\n",
    "        insts = []\n",
    "        for i in range(self.n_patterns):\n",
    "            p = Pattern(self.n_bod_symbols, self.noise, self.cycle, self.disjunction)\n",
    "            insts.extend(p.generate_instance())\n",
    "        \n",
    "        insts.sort(key=lambda x: x[0])\n",
    "        return insts\n"
   ]
  },
  {
   "cell_type": "code",
   "execution_count": null,
   "metadata": {
    "scrolled": false
   },
   "outputs": [],
   "source": [
    "# generate instance from reference pattern\n",
    "\n",
    "# for all type=body, get time point from interval and subtract from root time\n",
    "\n",
    "for i, n in ref_pattern.items():\n",
    "    if n.type == BODY_CONST: \n",
    "        print(n)\n",
    "    if n."
   ]
  },
  {
   "cell_type": "markdown",
   "metadata": {},
   "source": [
    "### Example 1.\n",
    "##### Conjunction with 2 body symbols, 0 Noise"
   ]
  },
  {
   "cell_type": "code",
   "execution_count": null,
   "metadata": {
    "collapsed": true,
    "scrolled": false
   },
   "outputs": [],
   "source": [
    "# SEEDS NOT WORKING?\n",
    "np.random.seed(0)\n",
    "random.seed(0)"
   ]
  },
  {
   "cell_type": "code",
   "execution_count": null,
   "metadata": {
    "scrolled": false
   },
   "outputs": [],
   "source": [
    "p = Pattern(n_bod_symbols=2, noise=0, cycle=False, disjunction=False, n_patterns=1, print_patt=True)\n",
    "l = p.generate_instance()\n",
    "l"
   ]
  },
  {
   "cell_type": "markdown",
   "metadata": {},
   "source": [
    "### Example 2.\n",
    "##### Conjunction with 4 body symbols, 0.9 Noise"
   ]
  },
  {
   "cell_type": "code",
   "execution_count": null,
   "metadata": {
    "scrolled": false
   },
   "outputs": [],
   "source": [
    "p = Pattern(n_bod_symbols=4, noise=0.99, cycle=False, disjunction=False, n_patterns=1, print_patt=True)\n",
    "l = p.generate_instance()\n",
    "l"
   ]
  },
  {
   "cell_type": "markdown",
   "metadata": {},
   "source": [
    "Notice 99% of the time a new noisy symbol is introduced into the output"
   ]
  },
  {
   "cell_type": "markdown",
   "metadata": {},
   "source": [
    "### Example 3.\n",
    "##### Disjunction with 3 body symbols, Noise = 0"
   ]
  },
  {
   "cell_type": "code",
   "execution_count": null,
   "metadata": {
    "scrolled": false
   },
   "outputs": [],
   "source": [
    "p = Pattern(n_bod_symbols=3, noise=0, cycle=False, disjunction=True, n_patterns=1, print_patt=True)\n",
    "l = p.generate_instance()\n",
    "l"
   ]
  },
  {
   "cell_type": "markdown",
   "metadata": {},
   "source": [
    "Notice one of the leaf nodes has been removed from the pattern"
   ]
  },
  {
   "cell_type": "markdown",
   "metadata": {},
   "source": [
    "### Example 4.\n",
    "##### Conjunction with 0 Noise and a Cycle"
   ]
  },
  {
   "cell_type": "code",
   "execution_count": null,
   "metadata": {
    "scrolled": false
   },
   "outputs": [],
   "source": [
    "p = Pattern(n_bod_symbols=3, noise=0, cycle=True, disjunction=False, n_patterns=1, print_patt=True)\n",
    "l = p.generate_instance()\n",
    "l"
   ]
  },
  {
   "cell_type": "markdown",
   "metadata": {},
   "source": [
    "Unsure if this is correct output, is the initial pattern supposed to precede the second repeated pattern?"
   ]
  },
  {
   "cell_type": "markdown",
   "metadata": {},
   "source": [
    "## Output Singluar Conjuntion Pattern with 100 repititions"
   ]
  },
  {
   "cell_type": "code",
   "execution_count": null,
   "metadata": {
    "collapsed": true,
    "scrolled": false
   },
   "outputs": [],
   "source": [
    "p = Pattern(n_bod_symbols=3, noise=0.5, cycle=False, disjunction=False, n_patterns=10, print_patt=False)\n",
    "output = p.generate_instances()"
   ]
  },
  {
   "cell_type": "code",
   "execution_count": null,
   "metadata": {
    "collapsed": true,
    "scrolled": false
   },
   "outputs": [],
   "source": [
    "with open('output_conjunction_nsym3_n1000.txt', 'w') as file:\n",
    "    for l in output:\n",
    "        s = str(l[0]) + ' ,' + str(l[1]) + '\\n'\n",
    "        file.write(s)"
   ]
  },
  {
   "cell_type": "code",
   "execution_count": null,
   "metadata": {
    "scrolled": false
   },
   "outputs": [],
   "source": [
    "# convert to pandas Dataframe for easy plotting\n",
    "df = pd.read_table('./output_conjunction_nsym3_n1000.txt', names=['time', 'symbol'], sep=',')\n",
    "\n",
    "values = df['symbol'].to_list()\n",
    "names = df['time'].to_list()\n",
    "\n",
    "plt.scatter(names, values);"
   ]
  },
  {
   "cell_type": "code",
   "execution_count": null,
   "metadata": {
    "collapsed": true,
    "scrolled": false
   },
   "outputs": [],
   "source": []
  },
  {
   "cell_type": "markdown",
   "metadata": {},
   "source": [
    "## TODO: \n",
    "- Generate .pred file\n",
    "- Negation? not 100% on how to implement this.\n",
    "- Different types of Noise?"
   ]
  },
  {
   "cell_type": "code",
   "execution_count": null,
   "metadata": {
    "collapsed": true,
    "scrolled": false
   },
   "outputs": [],
   "source": []
  }
 ],
 "metadata": {
  "kernelspec": {
   "display_name": "Python 3",
   "language": "python",
   "name": "python3"
  },
  "language_info": {
   "codemirror_mode": {
    "name": "ipython",
    "version": 3
   },
   "file_extension": ".py",
   "mimetype": "text/x-python",
   "name": "python",
   "nbconvert_exporter": "python",
   "pygments_lexer": "ipython3",
   "version": "3.6.2"
  }
 },
 "nbformat": 4,
 "nbformat_minor": 4
}
