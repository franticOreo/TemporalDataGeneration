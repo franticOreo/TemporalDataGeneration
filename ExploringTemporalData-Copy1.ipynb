{
 "cells": [
  {
   "cell_type": "markdown",
   "metadata": {},
   "source": [
    "# ExploringTemporalData-Copy1"
   ]
  },
  {
   "cell_type": "code",
   "execution_count": 1,
   "metadata": {},
   "outputs": [],
   "source": [
    "import pandas as pd\n",
    "import numpy as np\n",
    "import pprint\n",
    "import random\n",
    "import matplotlib.pyplot as plt"
   ]
  },
  {
   "cell_type": "markdown",
   "metadata": {},
   "source": [
    "## Mathieu Guillame-Bert's Dataset"
   ]
  },
  {
   "cell_type": "code",
   "execution_count": 2,
   "metadata": {},
   "outputs": [
    {
     "name": "stdout",
     "output_type": "stream",
     "text": [
      "             time symbol\n",
      "2774  35017.93735      b\n",
      "4822  60056.67311      j\n",
      "5872  72960.78149      j\n",
      "6640  83587.97714      j\n",
      "7227  91437.71157      b\n",
      "Shape of df: (10, 2)\n",
      "3\n"
     ]
    }
   ],
   "source": [
    "PATH = '/home/franticoreo/time_lstm/preprocess/data/dataset/part_1_1.event'\n",
    "\n",
    "# SAMPLE\n",
    "symbol_df = pd.read_table(PATH, header=None, names=['time', 'symbol']).sample(10)\n",
    "\n",
    "print(symbol_df.head())\n",
    "print(f\"Shape of df: {symbol_df.shape}\")\n",
    "print(symbol_df['symbol'].nunique())"
   ]
  },
  {
   "cell_type": "code",
   "execution_count": 3,
   "metadata": {},
   "outputs": [
    {
     "name": "stdout",
     "output_type": "stream",
     "text": [
      "      start       end symbol  probability\n",
      "0   19.8182   21.3200      a          0.6\n",
      "1   97.4116   98.9134      a          0.6\n",
      "2  181.5060  183.0080      a          0.6\n",
      "3  273.3470  274.8490      a          0.6\n",
      "4  293.0070  294.5090      a          0.6\n",
      "Shape of df: (1097, 4)\n",
      "1\n"
     ]
    }
   ],
   "source": [
    "PATH = '/home/franticoreo/time_lstm/preprocess/data/dataset_refPred/part_1_1.pred'\n",
    "\n",
    "symbol_df_pred_1_2 = pd.read_table(PATH, header=None, names=['start', 'end', 'symbol', 'probability'])\n",
    "\n",
    "print(symbol_df_pred_1_2.head())\n",
    "print(f\"Shape of df: {symbol_df_pred_1_2.shape}\")\n",
    "print(symbol_df_pred_1_2['symbol'].nunique())"
   ]
  },
  {
   "cell_type": "markdown",
   "metadata": {},
   "source": [
    "## Generating My Own Data"
   ]
  },
  {
   "cell_type": "code",
   "execution_count": 4,
   "metadata": {},
   "outputs": [],
   "source": [
    "body_constr = [0,20]\n",
    "head_constr = [0,10]\n",
    "\n",
    "\n",
    "def time_interval(body_constr): return tuple(np.random.uniform(body_constr)) \n",
    "\n",
    "def unique_body_symbols(n_bod_symbols):\n",
    "    '''Creates a random unique list of symbols for the body \n",
    "    of pattern. A has been excluded from the list as it is reserved \n",
    "    for the head of the pattern.\n",
    "        Args: \n",
    "            n_body_symbols: int\n",
    "    '''\n",
    "    symbols = ['b', 'c', 'd', 'e', 'f', 'g', 'h', 'i', 'j', 'k'] # excluding symbol a\n",
    "    # create a random list of unique symbols for the body (excluding head, a)\n",
    "    rand_symbols = []\n",
    "    np.random.shuffle(symbols)\n",
    "    for sym in range(n_bod_symbols):        \n",
    "        rand_symbols.append(symbols.pop())\n",
    "    return rand_symbols\n",
    "    \n",
    "def create_pattern(symbols):\n",
    "    '''Create Dictionary of leaf nodes, root node (from body symbols)\n",
    "    and event_a (head). Appropriate time intervals are assigned to the \n",
    "    nodes. Additionally, probability is assigned\n",
    "        Args:\n",
    "            symbols: list of symbols'''\n",
    "    \n",
    "    patt = {}\n",
    "    # randomly select a symbol to be the root node    \n",
    "    patt['root_node'] = symbols.pop(random.randrange(len(symbols)))\n",
    "    \n",
    "    leafs = []\n",
    "    for sym in symbols:\n",
    "        # create a random time interval conforming to body constraint\n",
    "        st, et = time_interval(body_constr)\n",
    "        # create array with time point from interval and it's relevent symbol\n",
    "        leafs.append([np.random.uniform(low=st, high=et), sym])\n",
    "    \n",
    "    patt['leaf_nodes'] = leafs\n",
    "    patt['event_a'] = 'a'\n",
    "    patt['prob'] = np.random.uniform(low=60, high=90)\n",
    "    \n",
    "    return patt\n",
    "    \n",
    "\n",
    "class Pattern:\n",
    "    '''Class to Generate data from pattern dictionary.\n",
    "        Args:\n",
    "            n_body_symbols (int):  desired amount of body symbols.\n",
    "            noise (float): amount of noise.\n",
    "            cycle (bool): determine if pattern is repeated.\n",
    "            disjunction (bool): disjuntion pattern if True, else conjunction.\n",
    "            n_patterns (int): used by generate_instances to create n instances\n",
    "                            of a pattern\n",
    "            print_patt (bool): Used for validation to see a 'pretty' version \n",
    "                            of the pattern.\n",
    "            \n",
    "    '''\n",
    "    def __init__(self, n_bod_symbols, noise, cycle, disjunction,\n",
    "                 n_patterns=1, print_patt=False):\n",
    "        \n",
    "        self.n_bod_symbols = n_bod_symbols\n",
    "        self.bod_symbols = unique_body_symbols(n_bod_symbols)\n",
    "        self.noise = noise\n",
    "        self.cycle = cycle\n",
    "        self.disjunction = disjunction\n",
    "        self.patt = create_pattern(self.bod_symbols)\n",
    "        self.n_patterns = n_patterns\n",
    "        self.print_patt = print_patt\n",
    "\n",
    "    def generate_instance(self):       \n",
    "        rand_num = np.random.uniform(low=0, high=100)\n",
    "        root_value = np.random.uniform(low=0, high=100000)\n",
    "        a_value = root_value + np.random.uniform(low=0, high=10) # [0,10] head constraint\n",
    "        \n",
    "        # for each leaf node subtract the relevent time point from the root nodes value\n",
    "        inst = [[root_value - leaf[0], leaf[1]] for leaf in self.patt['leaf_nodes']]\n",
    "        inst.append([root_value, self.patt['root_node']]) # add root node & value\n",
    "\n",
    "        if self.disjunction == True: # throw out a random leaf node from conjunction creating disjunction\n",
    "            np.random.shuffle(inst)\n",
    "            inst.pop()\n",
    "        \n",
    "        if self.patt['prob'] > rand_num: # if probability is greater than random num create symbol a\n",
    "            inst.append([a_value, self.patt['event_a']])\n",
    "            \n",
    "        if self.cycle == True: # if cycle pattern, repeat pattern (UNSURE IF CORRECT)\n",
    "            inst = inst + inst\n",
    "\n",
    "        if self.noise > rand_num / 100: # divide by 100 for decimal comparison\n",
    "            # create new symbol (MAY BE REPEATED SYMBOL FROM PATTERN, PROBLEM?)\n",
    "            noisy_symbol = unique_body_symbols(1) \n",
    "            inst.append([root_value - np.random.uniform(low=0, high=20), noisy_symbol.pop()])\n",
    "            \n",
    "        if self.print_patt: pprint.pprint(self.patt) # pretty print of pattern\n",
    "\n",
    "        inst.sort(key=lambda x: x[0]) # sort by timestamp\n",
    "        return inst\n",
    "    \n",
    "    def generate_instances(self):\n",
    "        insts = []\n",
    "        for i in range(self.n_patterns):\n",
    "            p = Pattern(self.n_bod_symbols, self.noise, self.cycle, self.disjunction)\n",
    "            insts.extend(p.generate_instance())\n",
    "        \n",
    "        insts.sort(key=lambda x: x[0])\n",
    "        return insts\n"
   ]
  },
  {
   "cell_type": "markdown",
   "metadata": {},
   "source": [
    "### Example 1.\n",
    "##### Conjunction with 2 body symbols, 0 Noise"
   ]
  },
  {
   "cell_type": "code",
   "execution_count": 5,
   "metadata": {},
   "outputs": [],
   "source": [
    "# SEEDS NOT WORKING?\n",
    "np.random.seed(0)\n",
    "random.seed(0)"
   ]
  },
  {
   "cell_type": "code",
   "execution_count": 6,
   "metadata": {},
   "outputs": [
    {
     "name": "stdout",
     "output_type": "stream",
     "text": [
      "{'event_a': 'a',\n",
      " 'leaf_nodes': [[2.9611557195129583, 'g']],\n",
      " 'prob': 71.50324556477334,\n",
      " 'root_node': 'b'}\n"
     ]
    },
    {
     "data": {
      "text/plain": [
       "[[52886.53081957094, 'g'], [52889.491975290446, 'b']]"
      ]
     },
     "execution_count": 6,
     "metadata": {},
     "output_type": "execute_result"
    }
   ],
   "source": [
    "p = Pattern(n_bod_symbols=2, noise=0, cycle=False, disjunction=False, n_patterns=1, print_patt=True)\n",
    "l = p.generate_instance()\n",
    "l"
   ]
  },
  {
   "cell_type": "markdown",
   "metadata": {},
   "source": [
    "### Example 2.\n",
    "##### Conjunction with 4 body symbols, 0.9 Noise"
   ]
  },
  {
   "cell_type": "code",
   "execution_count": 7,
   "metadata": {},
   "outputs": [
    {
     "name": "stdout",
     "output_type": "stream",
     "text": [
      "{'event_a': 'a',\n",
      " 'leaf_nodes': [[1.7165142397976634, 'g'],\n",
      "                [7.121290811038454, 'j'],\n",
      "                [5.138373296647451, 'c']],\n",
      " 'prob': 82.75846872967071,\n",
      " 'root_node': 'f'}\n"
     ]
    },
    {
     "data": {
      "text/plain": [
       "[[47347.800020211296, 'd'],\n",
       " [47352.920643854704, 'j'],\n",
       " [47354.903561369094, 'c'],\n",
       " [47358.32542042594, 'g'],\n",
       " [47360.04193466574, 'f'],\n",
       " [47361.90525809901, 'a']]"
      ]
     },
     "execution_count": 7,
     "metadata": {},
     "output_type": "execute_result"
    }
   ],
   "source": [
    "p = Pattern(n_bod_symbols=4, noise=0.99, cycle=False, disjunction=False, n_patterns=1, print_patt=True)\n",
    "l = p.generate_instance()\n",
    "l"
   ]
  },
  {
   "cell_type": "markdown",
   "metadata": {},
   "source": [
    "Notice 99% of the time a new noisy symbol is introduced into the output"
   ]
  },
  {
   "cell_type": "markdown",
   "metadata": {},
   "source": [
    "### Example 3.\n",
    "##### Disjunction with 3 body symbols, Noise = 0"
   ]
  },
  {
   "cell_type": "code",
   "execution_count": 8,
   "metadata": {},
   "outputs": [
    {
     "name": "stdout",
     "output_type": "stream",
     "text": [
      "{'event_a': 'a',\n",
      " 'leaf_nodes': [[12.804837785555888, 'c'], [2.6473479160006868, 'i']],\n",
      " 'prob': 69.46285052772552,\n",
      " 'root_node': 'f'}\n"
     ]
    },
    {
     "data": {
      "text/plain": [
       "[[57017.02969387197, 'i'], [57019.67704178797, 'f'], [57024.06305692259, 'a']]"
      ]
     },
     "execution_count": 8,
     "metadata": {},
     "output_type": "execute_result"
    }
   ],
   "source": [
    "p = Pattern(n_bod_symbols=3, noise=0, cycle=False, disjunction=True, n_patterns=1, print_patt=True)\n",
    "l = p.generate_instance()\n",
    "l"
   ]
  },
  {
   "cell_type": "markdown",
   "metadata": {},
   "source": [
    "Notice one of the leaf nodes has been removed from the pattern"
   ]
  },
  {
   "cell_type": "markdown",
   "metadata": {},
   "source": [
    "### Example 4.\n",
    "##### Conjunction with 0 Noise and a Cycle"
   ]
  },
  {
   "cell_type": "code",
   "execution_count": 9,
   "metadata": {},
   "outputs": [
    {
     "name": "stdout",
     "output_type": "stream",
     "text": [
      "{'event_a': 'a',\n",
      " 'leaf_nodes': [[3.070126348428522, 'f'], [11.0255132274831, 'e']],\n",
      " 'prob': 88.48713160352227,\n",
      " 'root_node': 'k'}\n"
     ]
    },
    {
     "data": {
      "text/plain": [
       "[[1346.1380479835002, 'e'],\n",
       " [1346.1380479835002, 'e'],\n",
       " [1354.0934348625547, 'f'],\n",
       " [1354.0934348625547, 'f'],\n",
       " [1357.1635612109833, 'k'],\n",
       " [1357.1635612109833, 'k'],\n",
       " [1363.39202216645, 'a'],\n",
       " [1363.39202216645, 'a']]"
      ]
     },
     "execution_count": 9,
     "metadata": {},
     "output_type": "execute_result"
    }
   ],
   "source": [
    "p = Pattern(n_bod_symbols=3, noise=0, cycle=True, disjunction=False, n_patterns=1, print_patt=True)\n",
    "l = p.generate_instance()\n",
    "l"
   ]
  },
  {
   "cell_type": "markdown",
   "metadata": {},
   "source": [
    "Unsure if this is correct output, is the initial pattern supposed to precede the second repeated pattern?"
   ]
  },
  {
   "cell_type": "markdown",
   "metadata": {},
   "source": [
    "## Output Singluar Conjuntion Pattern with 100 repititions"
   ]
  },
  {
   "cell_type": "code",
   "execution_count": 10,
   "metadata": {},
   "outputs": [],
   "source": [
    "p = Pattern(n_bod_symbols=3, noise=0.5, cycle=False, disjunction=False, n_patterns=10, print_patt=False)\n",
    "output = p.generate_instances()"
   ]
  },
  {
   "cell_type": "code",
   "execution_count": 11,
   "metadata": {},
   "outputs": [],
   "source": [
    "with open('output_conjunction_nsym3_n1000.txt', 'w') as file:\n",
    "    for l in output:\n",
    "        s = str(l[0]) + ' ,' + str(l[1]) + '\\n'\n",
    "        file.write(s)"
   ]
  },
  {
   "cell_type": "code",
   "execution_count": 12,
   "metadata": {},
   "outputs": [
    {
     "data": {
      "image/png": "[encoded data removed]",
      "text/plain": [
       "<Figure size 432x288 with 1 Axes>"
      ]
     },
     "metadata": {
      "needs_background": "light"
     },
     "output_type": "display_data"
    }
   ],
   "source": [
    "# convert to pandas Dataframe for easy plotting\n",
    "df = pd.read_table('./output_conjunction_nsym3_n1000.txt', names=['time', 'symbol'], sep=',')\n",
    "\n",
    "values = df['symbol'].to_list()\n",
    "names = df['time'].to_list()\n",
    "\n",
    "plt.scatter(names, values);"
   ]
  },
  {
   "cell_type": "code",
   "execution_count": null,
   "metadata": {},
   "outputs": [],
   "source": []
  },
  {
   "cell_type": "markdown",
   "metadata": {},
   "source": [
    "## TODO: \n",
    "- Generate .pred file\n",
    "- Negation? not 100% on how to implement this.\n",
    "- Different types of Noise?"
   ]
  },
  {
   "cell_type": "code",
   "execution_count": null,
   "metadata": {},
   "outputs": [],
   "source": []
  }
 ],
 "metadata": {
  "kernelspec": {
   "display_name": "Python 3",
   "language": "python",
   "name": "python3"
  },
  "language_info": {
   "codemirror_mode": {
    "name": "ipython",
    "version": 3
   },
   "file_extension": ".py",
   "mimetype": "text/x-python",
   "name": "python",
   "nbconvert_exporter": "python",
   "pygments_lexer": "ipython3",
   "version": "3.8.5"
  }
 },
 "nbformat": 4,
 "nbformat_minor": 4
}
