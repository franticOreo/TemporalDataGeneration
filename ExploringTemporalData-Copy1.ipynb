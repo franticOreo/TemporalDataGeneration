{
 "cells": [
  {
   "cell_type": "markdown",
   "metadata": {},
   "source": [
    "# ExploringTemporalData-Copy1"
   ]
  },
  {
   "cell_type": "code",
   "execution_count": 377,
   "metadata": {
    "collapsed": true
   },
   "outputs": [],
   "source": [
    "import pandas as pd\n",
    "import numpy as np\n",
    "import pprint\n",
    "import random\n",
    "import networkx as nx \n",
    "import matplotlib.pyplot as plt \n",
    "\n",
    "import collections\n"
   ]
  },
  {
   "cell_type": "code",
   "execution_count": 238,
   "metadata": {
    "collapsed": true
   },
   "outputs": [],
   "source": [
    "'''Need source for code\n",
    "'''\n",
    "\n",
    "class GraphVisualization: \n",
    "   \n",
    "    def __init__(self): \n",
    "          \n",
    "        # visual is a list which stores all  \n",
    "        # the set of edges that constitutes a \n",
    "        # graph \n",
    "        self.visual = [] \n",
    "          \n",
    "    # addEdge function inputs the vertices of an \n",
    "    # edge and appends it to the visual list \n",
    "    def addEdge(self, a, b): \n",
    "        temp = [a, b] \n",
    "        self.visual.append(temp) \n",
    "          \n",
    "    # In visualize function G is an object of \n",
    "    # class Graph given by networkx G.add_edges_from(visual) \n",
    "    # creates a graph with a given list \n",
    "    # nx.draw_networkx(G) - plots the graph \n",
    "    # plt.show() - displays the graph \n",
    "    def visualize(self): \n",
    "        G = nx.Graph() \n",
    "        G.add_edges_from(self.visual) \n",
    "        nx.draw_networkx(G) \n",
    "        plt.show() \n",
    "  "
   ]
  },
  {
   "cell_type": "markdown",
   "metadata": {},
   "source": [
    "## Generating My Own Data"
   ]
  },
  {
   "cell_type": "markdown",
   "metadata": {},
   "source": [
    "- At some point n_bod_symbols should be specified as a range e.g. [2,4] and then a random value chosen for it\n",
    "- Use constants for any string values that are repeated e.g. 'leaf_nodes','event_a','prob'. The other way to do this would be to use a class or named tuples (https://pymotw.com/2/collections/namedtuple.html). In this case I'd probably use constants or named tuples. Only worth using classes if more complex.\n",
    "- a_value might end up being > than max value 100000\n",
    "- The current data structure for the pattern (i.e. patt) only allows one root and a list of leaves coming from that. Going forward you will need to be able to add deeper branches plus other properties like negation, disjunction and cycles. This pattern is best described as a 'graph' which consists of a list of vertices (i.e. the symbols) and edges which are described by a start symbol and end symbol. In our case the edges will also have a time interval and boolean properties for negation,disjunction. As a general rule you should pick a data structure that best matches your data, in this case its graphs. Start with a list of symbols and a list of edges. The edges will contain several values, perhaps using a named tuple.\n",
    "- Pass parameters into create_patterns() that define the low/high of probability, time interval and possible other things like whether to allow disjunction, negation, cycles.  Disjunction, negation and cycles should be part of the pattern definition (patt) rather than being decided during generate_instance()\n",
    "- Generate the noise outside of generate_instances(). The noise will be spread uniformly over the whole time range [0,100000] and not related to any individual instance"
   ]
  },
  {
   "cell_type": "markdown",
   "metadata": {},
   "source": [
    "### Assumptions:\n",
    "\n",
    "- Body symbols : body symbols & root symbol == antecedent ???\n",
    "- Head: a or any symbol excluding body symbols == consequent ???\n",
    "\n",
    "- Every Pattern contains a root node\n",
    "- Not Every Pattern *instance* has an A node, if so it ends at root node.\n",
    "\n",
    "- every reference pattern has a antecendent & consequent\n",
    "\n",
    "- The root node is the only node with a time point, the rest of the nodes sit within time intervals.\n",
    "- Each node in the pattern needs to connect to at least one node.\n",
    "- A body node/symbol cannot end on itself, e.g [start_symbol= b, end_symbol=b] : temporal constraint\n",
    "- The A node can end on itself.\n",
    "- All symbols in the pattern are unique.\n",
    "- There can be only 1 root nodes ???\n",
    "- There can be only be 0 or 1 'a' node for instance\n",
    "\n",
    "- A conjunction is simply two or more body symbols appearing before a specific root node time point?\n",
    "    or is it when a body symbol occurs within the time interval of a neighbouring body symbol.\n",
    "    \n",
    "- Reference pattern time intervals are relative to the root node \n",
    "\n",
    "\n",
    "### Plan\n",
    "\n",
    "- Make a function that creates the reference pattern (temporal association rule with zero noise, e.g pure pattern)\n",
    "- Input conf, support into the pattern \n",
    "\n",
    "- Distribute generated instances across time scale\n",
    "- Introduce noise\n",
    "\n",
    "- Make a .pred file which is just the time interval of the antecedent (node a), symbol (a), probability (confidence)\n",
    "- Generate files for training (patterns randomised with noise.) from above dot point \n",
    "\n",
    "\n",
    "### Ideas  for my research\n",
    "\n",
    "Crypto currency and sentiment analysis combined with time series analysis in context of GameStop"
   ]
  },
  {
   "cell_type": "markdown",
   "metadata": {},
   "source": [
    "From Mathieu's PhD:\n",
    "\n",
    "The dataset is divided into 100 parts. Each part is constructed in this\n",
    "following way: The algorithm randomly generates a temporal association\n",
    "rule (structure and metrics) called reference rule. The confidence is chosen\n",
    "between 60% and 90%, the support is chosen between 40% and 90%, the\n",
    "number of conditions is chosen between 1 and 4, the number of uses of the\n",
    "pattern is chosen between 1000 and 50000. The ratio of noisy events/useful\n",
    "events is selected between 0% and 1000%. Several types of noise are considered: A noise non-correlated with the pattern, as well as noise with different types of correlation with the pattern. Next, the algorithm generates\n",
    "a dataset’s part with the selected rule and parameters. This process is a\n",
    "heuristic, and the metrics of the rule need to be re-evaluated on the generated part. The generated part contains an infinite number of temporal rules\n",
    "(e.g. a dataset where the reference rule is A B C also contains the rule\n",
    "B C with a lower confidence). However, the generative algorithm guaranties that the reference rule is the rule with the highest score according to\n",
    "Equ. 6.3.\n",
    "Every part is divided into two sub-parts in order to perform cross validation. In addition, the dataset contains (for every part) a list of reference\n",
    "predictions i.e. a ‘ground truth’. These predictions are (with a small error\n",
    "rate) the best predictions that can be expected to do. We use the Mersenne\n",
    "Twister pseudo-random number generator as source of randomness for the\n",
    "patterns and additional noises. Fig. 6.3 shows three examples of patterns of\n",
    "the dataset."
   ]
  },
  {
   "cell_type": "code",
   "execution_count": 259,
   "metadata": {
    "collapsed": true
   },
   "outputs": [],
   "source": [
    "body_constr = [0,20]\n",
    "head_constr = [0,10]\n",
    "\n",
    "\n",
    "def time_interval(body_constr): return tuple(np.random.uniform(body_constr)) \n",
    "\n",
    "def unique_body_symbols(low, high):\n",
    "    '''Creates a random unique list of symbols for the body \n",
    "    of pattern. Symbol 'a' has been excluded from the list as it is reserved \n",
    "    for the head of the pattern.\n",
    "        Args: \n",
    "            n_body_symbols (int): amount of body symbols\n",
    "            \n",
    "        Returns:\n",
    "            random_symbols (list): random choice of symbols\n",
    "    '''\n",
    "    symbols = ['b', 'c', 'd', 'e', 'f', 'g', 'h', 'i', 'j', 'k'] # possible body symbols\n",
    "    n_bod_symbols = np.random.randint(low, high)\n",
    "    rand_symbols = random.sample(symbols, k=n_bod_symbols)\n",
    "    \n",
    "    return rand_symbols\n",
    "\n",
    "### WAY TO BIG FUNCTION: NEEDS TO BE MORE MODULAR\n",
    "# reference pattern \n",
    "def create_pattern(low_body=4, high_body=6, low_prob=60, high_prob=90, disjunction=False,\n",
    "                   negation=False, conjunction=False, cycle=False, time_high=100000): # remove time high\n",
    "    \n",
    "    body_symbols = unique_body_symbols(low_body, high_body)\n",
    "    rand_num = np.random.uniform(low=0, high=100)\n",
    "    prob = np.random.uniform(low=low_prob, high=high_prob)\n",
    "    connected_nodes = [] # keep track of connected nodes for end_symbol possibilities\n",
    "    \n",
    "    Pattern = {}\n",
    "    Node = collections.namedtuple('Node', 'type, start_s, end_s, start_t, end_t') # Edge param: prob \n",
    "    \n",
    "    if rand_num > prob: # if antecendent is true(?) & meets probability -> make consequent (node a)\n",
    "        start_t_a, end_t_a = time_interval(head_constr) \n",
    "        Pattern['a'] = Node('head', 'a', 'a', start_t_a, end_t_a)\n",
    "        # set root to end at symbol a\n",
    "        Pattern['root'] = Node('root', 'root', 'a', start_t=0, end_t=0)    \n",
    "\n",
    "    else:\n",
    "        # pattern ends at root\n",
    "        Pattern['root'] = Node('root', 'root', 'root', start_t=np.random.uniform(low=0, high=0), end_t=0)  \n",
    "        \n",
    "    if disjunction:\n",
    "        # pop out two body symbols to be apart of conjunction\n",
    "        d_symbols = [body_symbols.pop() for _ in range(2)]\n",
    "\n",
    "        for d in d_symbols:       \n",
    "            start_t, end_t = time_interval(body_constr)\n",
    "            # make body connections to root node\n",
    "            Pattern[d] = Node('body', d, 'root', start_t, end_t)\n",
    "            connected_nodes.append(d)\n",
    "        # make connection between body nodes\n",
    "        start_t, end_t = time_interval(body_constr) ##### TIME INTERVAL \n",
    "        Pattern[d + '\"'] = Node('body', d_symbols[0], d_symbols[1], start_t, end_t)\n",
    "\n",
    "        # with remaining body symbols (if any), make connections between them with root or existing body nodes (e.g conjunction)\n",
    "        for sym in body_symbols:\n",
    "            end_s = np.random.choice(d_symbols + ['root'], replace=False)# either root or random body_symbol other than itself\n",
    "            start_t, end_t = time_interval(body_constr)\n",
    "            Pattern[sym] = Node('body', sym, end_s, start_t, end_t)\n",
    "\n",
    "    if negation:\n",
    "        # pop out random body_symbol for negation\n",
    "        n_symbol = body_symbols.pop()\n",
    "#         print(f'Negation Symbol: {n_symbol}')\n",
    "        start_t, end_t = time_interval(body_constr)\n",
    "        Pattern[n_symbol] = Node('body', n_symbol, n_symbol, start_t, end_t) # negation symbol ends on itself???\n",
    "        \n",
    "    if cycle: # repeat a node within the same time interval and then generate time point??? \n",
    "        pass\n",
    "    \n",
    "    if conjunction: # Below loop makes conjunctions??? \n",
    "        pass\n",
    "\n",
    "    # Remaining nodes are added to pattern\n",
    "    \n",
    "    for sym in body_symbols:\n",
    "#         print(body_symbols)\n",
    "        end_s = np.random.choice(connected_nodes + ['root'], replace=False)# either root or connected body node\n",
    "        start_t, end_t = time_interval(body_constr)\n",
    "        Pattern[sym] = Node('body', sym, end_s, start_t, end_t)\n",
    "        connected_nodes.append(sym)\n",
    "\n",
    "    return Pattern\n",
    "\n",
    "Pattern = create_nodes(body_symbols, False)\n",
    "\n",
    "def plot_pattern(Pattern):\n",
    "    G = GraphVisualization() \n",
    "    for e in Pattern: G.addEdge(Pattern[e].start_s, Pattern[e].end_s)\n",
    "    G.visualize()\n"
   ]
  },
  {
   "cell_type": "markdown",
   "metadata": {},
   "source": [
    "## Visualisations of Reference Patterns (disregarding time dimension).\n",
    "\n",
    "### Example of Disjunction\n",
    "\n",
    "list of disjunction pairs, so when a disjunction is created, create list out graph\n",
    "\n",
    "disjunction edge could be: add prop disjunction, start_t ... == None\n",
    "\n",
    "cycle will have to have a disjunction to stop.\n",
    "\n",
    "negation add prop."
   ]
  },
  {
   "cell_type": "code",
   "execution_count": 260,
   "metadata": {},
   "outputs": [
    {
     "data": {
      "image/png": "[encoded data removed]",
      "text/plain": [
       "<matplotlib.figure.Figure at 0x27d2a811ac8>"
      ]
     },
     "metadata": {},
     "output_type": "display_data"
    },
    {
     "data": {
      "image/png": "[encoded data removed]",
      "text/plain": [
       "<matplotlib.figure.Figure at 0x27d2a3610f0>"
      ]
     },
     "metadata": {},
     "output_type": "display_data"
    }
   ],
   "source": [
    "for _ in range(2): \n",
    "    ref_pattern = create_pattern(low_body=2, high_body=5, disjunction=True, negation=False)\n",
    "    plot_pattern(ref_pattern)"
   ]
  },
  {
   "cell_type": "markdown",
   "metadata": {},
   "source": [
    "### Example of Negation"
   ]
  },
  {
   "cell_type": "code",
   "execution_count": 261,
   "metadata": {},
   "outputs": [
    {
     "data": {
      "image/png": "[encoded data removed]",
      "text/plain": [
       "<matplotlib.figure.Figure at 0x27d2a3790f0>"
      ]
     },
     "metadata": {},
     "output_type": "display_data"
    },
    {
     "data": {
      "image/png": "[encoded data removed]",
      "text/plain": [
       "<matplotlib.figure.Figure at 0x27d2a783ac8>"
      ]
     },
     "metadata": {},
     "output_type": "display_data"
    }
   ],
   "source": [
    "for _ in range(2): \n",
    "    ref_pattern = create_pattern(low_body=2, high_body=5, disjunction=False, negation=True)\n",
    "    plot_pattern(ref_pattern)"
   ]
  },
  {
   "cell_type": "markdown",
   "metadata": {},
   "source": [
    "### Example of Disjunction & Negation"
   ]
  },
  {
   "cell_type": "code",
   "execution_count": 262,
   "metadata": {},
   "outputs": [
    {
     "data": {
      "image/png": "[encoded data removed]",
      "text/plain": [
       "<matplotlib.figure.Figure at 0x27d2a810a20>"
      ]
     },
     "metadata": {},
     "output_type": "display_data"
    },
    {
     "data": {
      "image/png": "[encoded data removed]",
      "text/plain": [
       "<matplotlib.figure.Figure at 0x27d28879208>"
      ]
     },
     "metadata": {},
     "output_type": "display_data"
    }
   ],
   "source": [
    "# Raised the low threshold to be able to perform both operators.\n",
    "for _ in range(2): \n",
    "    ref_pattern = create_pattern(low_body=3, high_body=6, disjunction=True, negation=True)\n",
    "    plot_pattern(ref_pattern)"
   ]
  },
  {
   "cell_type": "markdown",
   "metadata": {},
   "source": [
    "## Generating Training Set\n",
    "<br>\n",
    "Now that we have our reference pattern, we are going to try to build out a training set, basically a noisy dataset (noise we can control) with our reference pattern distributed randomly amongst the noise (level of support???)"
   ]
  },
  {
   "cell_type": "code",
   "execution_count": 308,
   "metadata": {},
   "outputs": [
    {
     "data": {
      "text/plain": [
       "{'a': Node(type='head', start_s='a', end_s='a', start_t=0.48241908386221077, end_t=3.5446739263197049),\n",
       " 'f': Node(type='body', start_s='f', end_s='root', start_t=0.97716083002250731, end_t=19.754312420358694),\n",
       " 'i': Node(type='body', start_s='i', end_s='f', start_t=0.56671074008999844, end_t=6.1272190015072301),\n",
       " 'root': Node(type='root', start_s='root', end_s='a', start_t=25060.52581691264, end_t=0)}"
      ]
     },
     "execution_count": 308,
     "metadata": {},
     "output_type": "execute_result"
    }
   ],
   "source": [
    "'''\n",
    "Input: Graph (dict key : named tuple)\n",
    "Output: time point, symbol\n",
    "\n",
    "Extract \n",
    "'''\n",
    "\n",
    "patt = create_pattern(low_body=2, high_body=3)\n",
    "patt"
   ]
  },
  {
   "cell_type": "code",
   "execution_count": 316,
   "metadata": {},
   "outputs": [
    {
     "data": {
      "text/plain": [
       "[[25045.032223767485, 'f'],\n",
       " [25055.218689750385, 'i'],\n",
       " [25060.52581691264, 'root'],\n",
       " [25063.656051356746, 'a']]"
      ]
     },
     "execution_count": 316,
     "metadata": {},
     "output_type": "execute_result"
    }
   ],
   "source": [
    "\n",
    "\n",
    "# def get_root(patt): \n",
    "#     for node in patt.values(): \n",
    "#         if node.type == 'root': return node.start_t, node.start_s\n",
    "\n",
    "# def get_a(patt): \n",
    "#     for node in patt.values(): \n",
    "#         if node.type == 'head': return time_point(node.start_t, node.end_t), node.start_s        \n",
    "\n",
    "# root_tp, root_s = get_root(patt)\n",
    "# a_tp, a_s = get_a(patt)\n",
    "\n",
    "# # creating temporal time series\n",
    "# ts = [[root_tp - time_point(node.start_t, node.end_t), node.start_s] for node in patt.values() if node.type == 'body']\n",
    "\n",
    "# ts.append([root_tp, root_s])\n",
    "# ts.append([root_tp + a_tp, a_s])\n",
    "\n",
    "# ts.sort(key=lambda x: x[0]) # sort by timestamp\n",
    "# ts"
   ]
  },
  {
   "cell_type": "code",
   "execution_count": 346,
   "metadata": {},
   "outputs": [
    {
     "name": "stdout",
     "output_type": "stream",
     "text": [
      "{'a': Node(type='head', start_s='a', end_s='a', start_t=0.52642120426881001, end_t=3.1473937411465087),\n",
      " 'c': Node(type='body', start_s='c', end_s='root', start_t=0.73973387288580661, end_t=10.869754022306267),\n",
      " 'e': Node(type='body', start_s='e', end_s='root', start_t=0.04751575125288543, end_t=9.0264288285491912),\n",
      " 'e\"': Node(type='body', start_s='k', end_s='e', start_t=0.92583908218597966, end_t=1.1221078037032619),\n",
      " 'f': Node(type='body', start_s='f', end_s='e', start_t=0.84204291360532668, end_t=18.250108319655183),\n",
      " 'i': Node(type='body', start_s='i', end_s='c', start_t=0.84646420010487988, end_t=9.0754215067992927),\n",
      " 'k': Node(type='body', start_s='k', end_s='root', start_t=0.099370445098382554, end_t=9.4270148261038269),\n",
      " 'root': Node(type='root', start_s='root', end_s='a', start_t=438.50586031103364, end_t=0)}\n"
     ]
    },
    {
     "data": {
      "image/png": "[encoded data removed]",
      "text/plain": [
       "<matplotlib.figure.Figure at 0x27d2a101eb8>"
      ]
     },
     "metadata": {},
     "output_type": "display_data"
    },
    {
     "data": {
      "text/plain": [
       "[[551.6933582882485, 'f'],\n",
       " [555.9113831586486, 'c'],\n",
       " [557.7064415919764, 'e'],\n",
       " [558.6111564500828, 'i'],\n",
       " [558.7240641039662, 'k'],\n",
       " [559.0167335418537, 'k'],\n",
       " [559.9764687674163, 'root'],\n",
       " [563.1054361708265, 'a']]"
      ]
     },
     "execution_count": 346,
     "metadata": {},
     "output_type": "execute_result"
    }
   ],
   "source": [
    "patt = create_pattern(low_body=3, high_body=6, disjunction=True)\n",
    "pprint.pprint(patt)\n",
    "plot_pattern(patt)\n",
    "\n",
    "BODY_CONST = 'body' ### ADD\n",
    "\n",
    "def time_point(start_t, end_t): return np.random.uniform(start_t, end_t)\n",
    "\n",
    "def get_root(patt): # extract root time point and symbol\n",
    "    for node in patt.values(): \n",
    "        if node.type == 'root': return np.random.uniform(0,1000), node.start_s # random root time point\n",
    "\n",
    "def make_time_series(patt): # creation of the instances: create instance\n",
    "    ts = [] # empty time series list\n",
    "    \n",
    "    root_tp, root_s = get_root(patt)\n",
    "    ts.append([root_tp, root_s])\n",
    "    \n",
    "    for node in patt.values():\n",
    "        if node.type == 'body': \n",
    "            ts.append([root_tp - time_point(node.start_t, node.end_t), node.start_s])\n",
    "        \n",
    "        if node.type == 'head': \n",
    "            ts.append([root_tp + time_point(node.start_t, node.end_t), node.start_s])\n",
    "\n",
    "    ts.sort(key=lambda x: x[0]) # sort by timestamp\n",
    "    \n",
    "    return ts\n",
    "\n",
    "make_time_series(patt)\n",
    "        \n",
    "        "
   ]
  },
  {
   "cell_type": "markdown",
   "metadata": {},
   "source": [
    "## Making Noise!"
   ]
  },
  {
   "cell_type": "code",
   "execution_count": 376,
   "metadata": {},
   "outputs": [
    {
     "name": "stdout",
     "output_type": "stream",
     "text": [
      "48.53041532877983\n",
      "{'a': Node(type='head', start_s='a', end_s='a', start_t=0.52642120426881001, end_t=3.1473937411465087),\n",
      " 'c': Node(type='body', start_s='c', end_s='root', start_t=0.73973387288580661, end_t=10.869754022306267),\n",
      " 'e': Node(type='body', start_s='e', end_s='root', start_t=0.04751575125288543, end_t=9.0264288285491912),\n",
      " 'e\"': Node(type='body', start_s='k', end_s='e', start_t=0.92583908218597966, end_t=1.1221078037032619),\n",
      " 'f': Node(type='body', start_s='f', end_s='e', start_t=0.84204291360532668, end_t=18.250108319655183),\n",
      " 'i': Node(type='body', start_s='i', end_s='c', start_t=0.84646420010487988, end_t=9.0754215067992927),\n",
      " 'k': Node(type='body', start_s='k', end_s='root', start_t=0.099370445098382554, end_t=9.4270148261038269),\n",
      " 'root': Node(type='root', start_s='root', end_s='a', start_t=438.50586031103364, end_t=0)}\n",
      "[[428.99916051482165, 'f'],\n",
      " [438.65657412385013, 'e'],\n",
      " [438.66707915973836, 'i'],\n",
      " [441.27892176773884, 'k'],\n",
      " [441.5787295797873, 'c'],\n",
      " [443.03574987123596, 'k'],\n",
      " [444.0754437142533, 'root'],\n",
      " [446.38853767172765, 'a'],\n",
      " [711.9456114032103, 'f'],\n",
      " [718.3198951104085, 'k'],\n",
      " [718.8794998992489, 'e'],\n",
      " [721.8194661488377, 'c'],\n",
      " [725.844661017687, 'k'],\n",
      " [725.9456107337298, 'i'],\n",
      " [726.8058706705021, 'root'],\n",
      " [729.326576706449, 'a']]\n"
     ]
    }
   ],
   "source": [
    "# uncorrelated noise = random symbols at random time points\n",
    "# correlated noise = subsets of the existing pattern.\n",
    "\n",
    "# time_low, time_high = 0, 500\n",
    "\n",
    "# # corr_noise()\n",
    "# ts = make_time_series(patt)\n",
    "# print(ts)\n",
    "# print(len(ts))\n",
    "# # generate two random ints from the length of entire time series\n",
    "\n",
    "def rand_slice(ts): # random slice of the instance\n",
    "    slice_idxs = sorted([np.random.randint(low=0, high=len(ts)) for _ in range(2)])\n",
    "    return ts[slice_idxs[0]: slice_idxs[1]]\n",
    "\n",
    "# grab a random subset of edges from a random pattern and then generate an instance\n",
    "# \n",
    "\n",
    "rand_num = np.random.uniform(low=0, high=100)\n",
    "print(rand_num)\n",
    "pprint.pprint(patt)\n",
    "\n",
    "total_ts = []\n",
    "for _ in range(2):   \n",
    "    ts = make_time_series(patt)\n",
    "    total_ts.extend(ts)\n",
    "    if rand_num > 90: total_ts.extend(rand_slice(ts))\n",
    "\n",
    "pprint.pprint(total_ts)"
   ]
  },
  {
   "cell_type": "code",
   "execution_count": 3,
   "metadata": {
    "collapsed": true
   },
   "outputs": [],
   "source": [
    "\n",
    "def create_pattern(symbols):\n",
    "    '''Create Dictionary of leaf nodes, root node (from body symbols)\n",
    "    and event_a (head). Appropriate time intervals are assigned to the \n",
    "    nodes. Additionally, probability is assigned\n",
    "        Args:\n",
    "            symbols: list of symbols'''\n",
    "    \n",
    "    patt = {}\n",
    "    # randomly select a symbol to be the root node    \n",
    "    patt['root_node'] = symbols.pop(random.randrange(len(symbols)))\n",
    "    \n",
    "    leafs = []\n",
    "    for sym in symbols:\n",
    "        # create a random time interval conforming to body constraint\n",
    "        st, et = time_interval(body_constr)\n",
    "        # create array with time point from interval and it's relevent symbol\n",
    "        leafs.append([np.random.uniform(low=st, high=et), sym])\n",
    "    \n",
    "    patt['leaf_nodes'] = leafs\n",
    "    patt['event_a'] = 'a'\n",
    "    patt['prob'] = np.random.uniform(low=60, high=90)\n",
    "    \n",
    "    return patt\n",
    "    \n",
    "\n",
    "class Pattern:\n",
    "    '''Class to Generate data from pattern dictionary.\n",
    "        Args:\n",
    "            n_body_symbols (int):  desired amount of body symbols.\n",
    "            noise (float): amount of noise.\n",
    "            cycle (bool): determine if pattern is repeated.\n",
    "            disjunction (bool): disjuntion pattern if True, else conjunction.\n",
    "            n_patterns (int): used by generate_instances to create n instances\n",
    "                            of a pattern\n",
    "            print_patt (bool): Used for validation to see a 'pretty' version \n",
    "                            of the pattern.\n",
    "            \n",
    "    '''\n",
    "    def __init__(self, n_bod_symbols, noise, cycle, disjunction,\n",
    "                 n_patterns=1, print_patt=False):\n",
    "        \n",
    "        self.n_bod_symbols = n_bod_symbols\n",
    "        self.bod_symbols = unique_body_symbols(n_bod_symbols)\n",
    "        self.noise = noise\n",
    "        self.cycle = cycle\n",
    "        self.disjunction = disjunction\n",
    "        self.patt = create_pattern(self.bod_symbols)\n",
    "        self.n_patterns = n_patterns\n",
    "        self.print_patt = print_patt\n",
    "\n",
    "    def generate_instance(self):       \n",
    "        rand_num = np.random.uniform(low=0, high=100)\n",
    "        root_value = np.random.uniform(low=0, high=100000)\n",
    "        a_value = root_value + np.random.uniform(low=0, high=10) # [0,10] head constraint\n",
    "        \n",
    "        # for each leaf node subtract the relevent time point from the root nodes value\n",
    "        inst = [[root_value - leaf[0], leaf[1]] for leaf in self.patt['leaf_nodes']]\n",
    "        inst.append([root_value, self.patt['root_node']]) # add root node & value\n",
    "\n",
    "        if self.disjunction == True: # throw out a random leaf node from conjunction creating disjunction\n",
    "            np.random.shuffle(inst)\n",
    "            inst.pop()\n",
    "        \n",
    "        if self.patt['prob'] > rand_num: # if probability is greater than random num create symbol a\n",
    "            inst.append([a_value, self.patt['event_a']])\n",
    "            \n",
    "        if self.cycle == True: # if cycle pattern, repeat pattern (UNSURE IF CORRECT)\n",
    "            inst = inst + inst\n",
    "\n",
    "        if self.noise > rand_num / 100: # divide by 100 for decimal comparison\n",
    "            # create new symbol (MAY BE REPEATED SYMBOL FROM PATTERN, PROBLEM?)\n",
    "            noisy_symbol = unique_body_symbols(1) \n",
    "            inst.append([root_value - np.random.uniform(low=0, high=20), noisy_symbol.pop()])\n",
    "            \n",
    "        if self.print_patt: pprint.pprint(self.patt) # pretty print of pattern\n",
    "\n",
    "        inst.sort(key=lambda x: x[0]) # sort by timestamp\n",
    "        return inst\n",
    "    \n",
    "    def generate_instances(self):\n",
    "        insts = []\n",
    "        for i in range(self.n_patterns):\n",
    "            p = Pattern(self.n_bod_symbols, self.noise, self.cycle, self.disjunction)\n",
    "            insts.extend(p.generate_instance())\n",
    "        \n",
    "        insts.sort(key=lambda x: x[0])\n",
    "        return insts\n"
   ]
  },
  {
   "cell_type": "code",
   "execution_count": 231,
   "metadata": {},
   "outputs": [
    {
     "name": "stdout",
     "output_type": "stream",
     "text": [
      "Node(type='body', start_s='e', end_s='root', start_t=0.21311582839142895, end_t=6.848940593432518)\n",
      "Node(type='body', start_s='i', end_s='root', start_t=0.26347733581414901, end_t=13.12891612635066)\n",
      "Node(type='body', start_s='e', end_s='i', start_t=0.26347733581414901, end_t=13.12891612635066)\n",
      "Node(type='body', start_s='g', end_s='e', start_t=0.98087661045587649, end_t=5.7860858041574126)\n",
      "Node(type='body', start_s='b', end_s='i', start_t=0.55452479809966504, end_t=1.1482453728596482)\n",
      "Node(type='body', start_s='j', end_s='b', start_t=0.81491513132598714, end_t=17.974480033704264)\n",
      "Node(type='body', start_s='c', end_s='i', start_t=0.22452901210793696, end_t=18.290877545367902)\n",
      "Node(type='body', start_s='h', end_s='g', start_t=0.52965356863921764, end_t=16.770525373697694)\n",
      "Node(type='body', start_s='d', end_s='e', start_t=0.79429238629770582, end_t=17.978532633752788)\n",
      "Node(type='body', start_s='k', end_s='k', start_t=0.16471829037515706, end_t=19.545327783687291)\n"
     ]
    }
   ],
   "source": [
    "# generate instance from reference pattern\n",
    "\n",
    "# for all type=body, get time point from interval and subtract from root time\n",
    "\n",
    "for i, n in ref_pattern.items():\n",
    "    if n.type == 'body': \n",
    "        print(n)\n",
    "    if n."
   ]
  },
  {
   "cell_type": "markdown",
   "metadata": {},
   "source": [
    "### Example 1.\n",
    "##### Conjunction with 2 body symbols, 0 Noise"
   ]
  },
  {
   "cell_type": "code",
   "execution_count": 17,
   "metadata": {
    "collapsed": true
   },
   "outputs": [],
   "source": [
    "# SEEDS NOT WORKING?\n",
    "np.random.seed(0)\n",
    "random.seed(0)"
   ]
  },
  {
   "cell_type": "code",
   "execution_count": 18,
   "metadata": {},
   "outputs": [
    {
     "name": "stdout",
     "output_type": "stream",
     "text": [
      "{'event_a': 'a',\n",
      " 'leaf_nodes': [[4.766830142357131, 'd']],\n",
      " 'prob': 85.08236290612132,\n",
      " 'root_node': 'e'}\n"
     ]
    },
    {
     "data": {
      "text/plain": [
       "[[64812.420374977366, 'd'],\n",
       " [64817.18720511972, 'e'],\n",
       " [64820.869620518126, 'a']]"
      ]
     },
     "execution_count": 18,
     "metadata": {},
     "output_type": "execute_result"
    }
   ],
   "source": [
    "p = Pattern(n_bod_symbols=2, noise=0, cycle=False, disjunction=False, n_patterns=1, print_patt=True)\n",
    "l = p.generate_instance()\n",
    "l"
   ]
  },
  {
   "cell_type": "markdown",
   "metadata": {},
   "source": [
    "### Example 2.\n",
    "##### Conjunction with 4 body symbols, 0.9 Noise"
   ]
  },
  {
   "cell_type": "code",
   "execution_count": 19,
   "metadata": {},
   "outputs": [
    {
     "name": "stdout",
     "output_type": "stream",
     "text": [
      "{'event_a': 'a',\n",
      " 'leaf_nodes': [[7.369407453614803, 'k'],\n",
      "                [17.594047403361465, 'd'],\n",
      "                [6.419238728858447, 'c']],\n",
      " 'prob': 82.52058423655369,\n",
      " 'root_node': 'e'}\n"
     ]
    },
    {
     "data": {
      "text/plain": [
       "[[32487.128853431885, 'd'],\n",
       " [32496.43552907072, 'c'],\n",
       " [32497.353493381634, 'k'],\n",
       " [32498.30366210639, 'c'],\n",
       " [32504.722900835248, 'e'],\n",
       " [32505.107155099977, 'a']]"
      ]
     },
     "execution_count": 19,
     "metadata": {},
     "output_type": "execute_result"
    }
   ],
   "source": [
    "p = Pattern(n_bod_symbols=4, noise=0.99, cycle=False, disjunction=False, n_patterns=1, print_patt=True)\n",
    "l = p.generate_instance()\n",
    "l"
   ]
  },
  {
   "cell_type": "markdown",
   "metadata": {},
   "source": [
    "Notice 99% of the time a new noisy symbol is introduced into the output"
   ]
  },
  {
   "cell_type": "markdown",
   "metadata": {},
   "source": [
    "### Example 3.\n",
    "##### Disjunction with 3 body symbols, Noise = 0"
   ]
  },
  {
   "cell_type": "code",
   "execution_count": 8,
   "metadata": {},
   "outputs": [
    {
     "name": "stdout",
     "output_type": "stream",
     "text": [
      "{'event_a': 'a',\n",
      " 'leaf_nodes': [[12.804837785555888, 'c'], [2.6473479160006868, 'i']],\n",
      " 'prob': 69.46285052772552,\n",
      " 'root_node': 'f'}\n"
     ]
    },
    {
     "data": {
      "text/plain": [
       "[[57017.02969387197, 'i'], [57019.67704178797, 'f'], [57024.06305692259, 'a']]"
      ]
     },
     "execution_count": 8,
     "metadata": {},
     "output_type": "execute_result"
    }
   ],
   "source": [
    "p = Pattern(n_bod_symbols=3, noise=0, cycle=False, disjunction=True, n_patterns=1, print_patt=True)\n",
    "l = p.generate_instance()\n",
    "l"
   ]
  },
  {
   "cell_type": "markdown",
   "metadata": {},
   "source": [
    "Notice one of the leaf nodes has been removed from the pattern"
   ]
  },
  {
   "cell_type": "markdown",
   "metadata": {},
   "source": [
    "### Example 4.\n",
    "##### Conjunction with 0 Noise and a Cycle"
   ]
  },
  {
   "cell_type": "code",
   "execution_count": 9,
   "metadata": {},
   "outputs": [
    {
     "name": "stdout",
     "output_type": "stream",
     "text": [
      "{'event_a': 'a',\n",
      " 'leaf_nodes': [[3.070126348428522, 'f'], [11.0255132274831, 'e']],\n",
      " 'prob': 88.48713160352227,\n",
      " 'root_node': 'k'}\n"
     ]
    },
    {
     "data": {
      "text/plain": [
       "[[1346.1380479835002, 'e'],\n",
       " [1346.1380479835002, 'e'],\n",
       " [1354.0934348625547, 'f'],\n",
       " [1354.0934348625547, 'f'],\n",
       " [1357.1635612109833, 'k'],\n",
       " [1357.1635612109833, 'k'],\n",
       " [1363.39202216645, 'a'],\n",
       " [1363.39202216645, 'a']]"
      ]
     },
     "execution_count": 9,
     "metadata": {},
     "output_type": "execute_result"
    }
   ],
   "source": [
    "p = Pattern(n_bod_symbols=3, noise=0, cycle=True, disjunction=False, n_patterns=1, print_patt=True)\n",
    "l = p.generate_instance()\n",
    "l"
   ]
  },
  {
   "cell_type": "markdown",
   "metadata": {},
   "source": [
    "Unsure if this is correct output, is the initial pattern supposed to precede the second repeated pattern?"
   ]
  },
  {
   "cell_type": "markdown",
   "metadata": {},
   "source": [
    "## Output Singluar Conjuntion Pattern with 100 repititions"
   ]
  },
  {
   "cell_type": "code",
   "execution_count": 10,
   "metadata": {
    "collapsed": true
   },
   "outputs": [],
   "source": [
    "p = Pattern(n_bod_symbols=3, noise=0.5, cycle=False, disjunction=False, n_patterns=10, print_patt=False)\n",
    "output = p.generate_instances()"
   ]
  },
  {
   "cell_type": "code",
   "execution_count": 11,
   "metadata": {
    "collapsed": true
   },
   "outputs": [],
   "source": [
    "with open('output_conjunction_nsym3_n1000.txt', 'w') as file:\n",
    "    for l in output:\n",
    "        s = str(l[0]) + ' ,' + str(l[1]) + '\\n'\n",
    "        file.write(s)"
   ]
  },
  {
   "cell_type": "code",
   "execution_count": 12,
   "metadata": {},
   "outputs": [
    {
     "data": {
      "image/png": "[encoded data removed]",
      "text/plain": [
       "<Figure size 432x288 with 1 Axes>"
      ]
     },
     "metadata": {
      "needs_background": "light"
     },
     "output_type": "display_data"
    }
   ],
   "source": [
    "# convert to pandas Dataframe for easy plotting\n",
    "df = pd.read_table('./output_conjunction_nsym3_n1000.txt', names=['time', 'symbol'], sep=',')\n",
    "\n",
    "values = df['symbol'].to_list()\n",
    "names = df['time'].to_list()\n",
    "\n",
    "plt.scatter(names, values);"
   ]
  },
  {
   "cell_type": "code",
   "execution_count": null,
   "metadata": {
    "collapsed": true
   },
   "outputs": [],
   "source": []
  },
  {
   "cell_type": "markdown",
   "metadata": {},
   "source": [
    "## TODO: \n",
    "- Generate .pred file\n",
    "- Negation? not 100% on how to implement this.\n",
    "- Different types of Noise?"
   ]
  },
  {
   "cell_type": "code",
   "execution_count": null,
   "metadata": {
    "collapsed": true
   },
   "outputs": [],
   "source": []
  }
 ],
 "metadata": {
  "kernelspec": {
   "display_name": "Python 3",
   "language": "python",
   "name": "python3"
  },
  "language_info": {
   "codemirror_mode": {
    "name": "ipython",
    "version": 3
   },
   "file_extension": ".py",
   "mimetype": "text/x-python",
   "name": "python",
   "nbconvert_exporter": "python",
   "pygments_lexer": "ipython3",
   "version": "3.6.2"
  }
 },
 "nbformat": 4,
 "nbformat_minor": 4
}
