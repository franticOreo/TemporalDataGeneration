{
 "cells": [
  {
   "cell_type": "markdown",
   "metadata": {},
   "source": [
    "# ExploringTemporalData\n",
    "**Eli Simic Robertson**"
   ]
  },
  {
   "cell_type": "code",
   "execution_count": 2,
   "metadata": {
    "collapsed": true,
    "scrolled": false
   },
   "outputs": [],
   "source": [
    "import pandas as pd\n",
    "import numpy as np\n",
    "from pprint import pprint\n",
    "import random\n",
    "import networkx as nx \n",
    "import matplotlib.pyplot as plt \n",
    "import collections\n",
    "\n",
    "# deprecation warnings\n",
    "import warnings\n",
    "import matplotlib.cbook\n",
    "warnings.filterwarnings(\"ignore\",category=matplotlib.cbook.mplDeprecation)"
   ]
  },
  {
   "cell_type": "code",
   "execution_count": 3,
   "metadata": {
    "collapsed": true,
    "scrolled": false
   },
   "outputs": [],
   "source": [
    "'''Need source for code\n",
    "'''\n",
    "\n",
    "class GraphVisualization: \n",
    "   \n",
    "    def __init__(self): \n",
    "          \n",
    "        # visual is a list which stores all  \n",
    "        # the set of edges that constitutes a \n",
    "        # graph \n",
    "        self.visual = [] \n",
    "          \n",
    "    # addEdge function inputs the vertices of an \n",
    "    # edge and appends it to the visual list \n",
    "    def addEdge(self, a, b): \n",
    "        temp = [a, b] \n",
    "        self.visual.append(temp) \n",
    "          \n",
    "    # In visualize function G is an object of \n",
    "    # class Graph given by networkx G.add_edges_from(visual) \n",
    "    # creates a graph with a given list \n",
    "    # nx.draw_networkx(G) - plots the graph \n",
    "    # plt.show() - displays the graph \n",
    "    def visualize(self): \n",
    "        G = nx.Graph() \n",
    "        G.add_edges_from(self.visual) \n",
    "        nx.draw_networkx(G) \n",
    "        plt.show() \n",
    "  "
   ]
  },
  {
   "cell_type": "markdown",
   "metadata": {},
   "source": [
    "## Generating My Own Data"
   ]
  },
  {
   "cell_type": "code",
   "execution_count": 4,
   "metadata": {
    "collapsed": true,
    "scrolled": false
   },
   "outputs": [],
   "source": [
    "body_constr = [0,20]\n",
    "head_constr = [0,10]\n",
    "max_root_time = 100000 - head_constr[1]\n",
    "\n",
    "# BODY_CONST = 'body'\n",
    "HEAD_CONST = 'head'\n",
    "ROOT_CONST = 'root'\n",
    "A = 'a'\n",
    "always = 100"
   ]
  },
  {
   "cell_type": "code",
   "execution_count": null,
   "metadata": {
    "collapsed": true
   },
   "outputs": [],
   "source": []
  },
  {
   "cell_type": "code",
   "execution_count": 5,
   "metadata": {
    "collapsed": true,
    "scrolled": false
   },
   "outputs": [],
   "source": [
    "def time_interval(body_constr): return tuple(np.random.uniform(body_constr)) \n",
    "\n",
    "def unique_body_symbols(low=3, high=5, single=False):\n",
    "    '''Creates a random unique list of symbols for the body \n",
    "    of pattern. Symbol A has been excluded from the list as it is reserved \n",
    "    for the head of the pattern.\n",
    "        Args: \n",
    "            n_body_symbols (int): amount of body symbols\n",
    "            \n",
    "        Returns:\n",
    "            random_symbols (list): random choice of symbols\n",
    "    '''\n",
    "    symbols = ['b', 'c', 'd', 'e', 'f', 'g', 'h', 'i', 'j', 'k'] # possible body symbols\n",
    "    n_bod_symbols = np.random.randint(low, high)\n",
    "    if single:  n_bod_symbols = 1 \n",
    "    rand_symbols = random.sample(symbols, k=n_bod_symbols)\n",
    "    \n",
    "    return rand_symbols\n",
    "\n",
    "def make_edges(Edge, body_symbols, condition=None, connected_nodes=None):\n",
    "    '''Args:\n",
    "            Edge (named_tuple): Edge object with default fields.\n",
    "            body_symbols (list): unique body symbols.\n",
    "            condition (str/logical???): Conditional operator, if any.\n",
    "            connected_nodes (list): list of currently connected nodes to \n",
    "            graph object.\n",
    "        Returns:\n",
    "            edges (list of named_tuples): \n",
    "            connected_nodes (list): \n",
    "            \n",
    "    '''\n",
    "    \n",
    "    if condition == 'conjunction' or condition == 'disjunction':\n",
    "        n_body_symbols = 2\n",
    "    elif condition == 'negation' or condition == 'cycle':\n",
    "        n_body_symbols = 1\n",
    "    elif condition == None:\n",
    "        n_body_symbols = len(body_symbols)\n",
    "    \n",
    "    edges = []\n",
    "    if connected_nodes is None: connected_nodes = []\n",
    "    \n",
    "    for _ in range(n_body_symbols):\n",
    "        sym = body_symbols.pop()\n",
    "        start_t, end_t = time_interval(body_constr)\n",
    "        rand_end_s = np.random.choice(connected_nodes + [ROOT_CONST])        \n",
    "\n",
    "        if condition == 'disjunction':\n",
    "            edges.append(Edge(ROOT_CONST, sym, start_t, end_t, prob=always, disjunction=True))\n",
    "            connected_nodes.append(sym)\n",
    "        elif condition == 'conjunction':\n",
    "            edges.append(Edge(ROOT_CONST, sym, start_t, end_t, prob=always, conjunction=True))\n",
    "            connected_nodes.append(sym)\n",
    "        elif condition == 'negation':\n",
    "            edges.append(Edge(rand_end_s, sym, start_t, end_t, prob=always, negation=True))\n",
    "            connected_nodes.append(sym)\n",
    "        elif condition == 'cycle':\n",
    "            edges.append(Edge(rand_end_s, sym, start_t, end_t, prob=always, cycle=True))\n",
    "            connected_nodes.append(sym)\n",
    "        # no conditional operator, append edge to connected nodes or root\n",
    "        elif condition == None:\n",
    "            edges.append(Edge(rand_end_s, sym, start_t, end_t, prob=always))\n",
    "            connected_nodes.append(sym)\n",
    "\n",
    "    return edges, connected_nodes\n",
    "\n",
    "def body_pattern(low_body=4, high_body=6, low_prob=60, high_prob=90, disjunction=False,\n",
    "                   negation=False, conjunction=False, prob=always, cycle=False):\n",
    "    \n",
    "    body_symbols = unique_body_symbols(low_body, high_body) # technically, body_symbols excluding root\n",
    "    rand_num = np.random.uniform(low=0, high=always)\n",
    "    prob = np.random.uniform(low=low_prob, high=high_prob)\n",
    "    connected_nodes = ['root'] # keep track of connected nodes for end_symbol possibilities\n",
    "    \n",
    "    pattern = [] # pattern list of edges : graph like object\n",
    "    fields = ('start_s', 'end_s', 'start_t', 'end_t', 'disjunction', 'negation', 'conjunction', 'cycle', 'prob')\n",
    "    Edge = collections.namedtuple('Edge', fields)\n",
    "    Edge.__new__.__defaults__ = (False,) * len(Edge._fields) # set default fields\n",
    "\n",
    "        \n",
    "    if disjunction:\n",
    "        \n",
    "        max_disjs = len(body_symbols) // 2\n",
    "        print('max_disjs',max_disjs)\n",
    "        n_disjs = np.random.randint(low=1, high=max_disjs)\n",
    "        print(n_disjs)\n",
    "        for disj in range(n_disjs): \n",
    "            edges, nodes = make_edges(Edge, body_symbols, condition='disjunction')\n",
    "            pattern.append(Edge(nodes[0], nodes[1], # disjunction edge\n",
    "                start_t=None, end_t=None, disjunction=True, prob=always))\n",
    "            pattern.extend(edges)\n",
    "            connected_nodes.extend(nodes)\n",
    "\n",
    "    if cycle:\n",
    "        edges, nodes = make_edges(Edge, body_symbols, condition='cycle') # create cycle edge\n",
    "        pattern.append(Edge(nodes[0], np.random.choice(connected_nodes),\n",
    "                           disjunction=True)) # create disjunction edge to stop infinite loop\n",
    "        pattern.extend(edges)\n",
    "        connected_nodes.extend(nodes) \n",
    "        \n",
    "    elif negation:\n",
    "        edges, nodes = make_edges(Edge, body_symbols, condition='negation',\n",
    "                                 connected_nodes=connected_nodes)\n",
    "        pattern.extend(edges)\n",
    "        connected_nodes.extend(nodes) \n",
    "        \n",
    "    elif conjunction:\n",
    "        edges, nodes = make_edges(Edge, body_symbols, condition='conjunction')\n",
    "        pattern.extend(edges)\n",
    "        connected_nodes.extend(nodes)\n",
    "    # remaining nodes are added to either root or connected body node\n",
    "    edges, nodes = make_edges(Edge, body_symbols, condition=None,\n",
    "                             connected_nodes=connected_nodes)\n",
    "    pattern.extend(edges)\n",
    "    connected_nodes.extend(nodes)\n",
    "\n",
    "    return pattern\n",
    "\n",
    "def plot_pattern(pattern): # sometimes returns None? unsure why. annoying\n",
    "    G = GraphVisualization() \n",
    "    for p in pattern: G.addEdge(p.start_s, p.end_s) \n",
    "    G.visualize()"
   ]
  },
  {
   "cell_type": "markdown",
   "metadata": {},
   "source": [
    "## Visualisations of Reference Patterns (disregarding time dimension).\n",
    "\n",
    "### Example of Disjunction\n",
    "##### Notice how connected nodes now can connect to existing disjunction"
   ]
  },
  {
   "cell_type": "code",
   "execution_count": 6,
   "metadata": {
    "scrolled": false
   },
   "outputs": [
    {
     "name": "stdout",
     "output_type": "stream",
     "text": [
      "max_disjs 3\n",
      "2\n",
      "[Edge(start_s='d', end_s='e', start_t=None, end_t=None, disjunction=True, negation=False, conjunction=False, cycle=False, prob=100),\n",
      " Edge(start_s='root', end_s='d', start_t=0.3755592278131483, end_t=13.287255320560504, disjunction=True, negation=False, conjunction=False, cycle=False, prob=100),\n",
      " Edge(start_s='root', end_s='e', start_t=0.5814791092005013, end_t=12.357179183369439, disjunction=True, negation=False, conjunction=False, cycle=False, prob=100),\n",
      " Edge(start_s='k', end_s='j', start_t=None, end_t=None, disjunction=True, negation=False, conjunction=False, cycle=False, prob=100),\n",
      " Edge(start_s='root', end_s='k', start_t=0.19521111593744322, end_t=11.70626796320279, disjunction=True, negation=False, conjunction=False, cycle=False, prob=100),\n",
      " Edge(start_s='root', end_s='j', start_t=0.6743134434072207, end_t=14.781554298489045, disjunction=True, negation=False, conjunction=False, cycle=False, prob=100),\n",
      " Edge(start_s='k', end_s='g', start_t=0.25340780654353745, end_t=3.630655518397223, disjunction=False, negation=False, conjunction=False, cycle=False, prob=100),\n",
      " Edge(start_s='d', end_s='h', start_t=0.29752947954840514, end_t=11.575186169680222, disjunction=False, negation=False, conjunction=False, cycle=False, prob=100)]\n"
     ]
    },
    {
     "data": {
      "image/png": "[encoded data removed]",
      "text/plain": [
       "<Figure size 432x288 with 1 Axes>"
      ]
     },
     "metadata": {},
     "output_type": "display_data"
    },
    {
     "name": "stdout",
     "output_type": "stream",
     "text": [
      "max_disjs 3\n",
      "1\n",
      "[Edge(start_s='h', end_s='d', start_t=None, end_t=None, disjunction=True, negation=False, conjunction=False, cycle=False, prob=100),\n",
      " Edge(start_s='root', end_s='h', start_t=0.33473178641410706, end_t=4.556609909744589, disjunction=True, negation=False, conjunction=False, cycle=False, prob=100),\n",
      " Edge(start_s='root', end_s='d', start_t=0.8662213218894816, end_t=7.619399825372657, disjunction=True, negation=False, conjunction=False, cycle=False, prob=100),\n",
      " Edge(start_s='root', end_s='c', start_t=0.5829695637869298, end_t=6.6740361225324545, disjunction=False, negation=False, conjunction=False, cycle=False, prob=100),\n",
      " Edge(start_s='root', end_s='f', start_t=0.26103042502556073, end_t=6.70016613149533, disjunction=False, negation=False, conjunction=False, cycle=False, prob=100),\n",
      " Edge(start_s='root', end_s='k', start_t=0.0033432181112246218, end_t=6.154128339420927, disjunction=False, negation=False, conjunction=False, cycle=False, prob=100),\n",
      " Edge(start_s='h', end_s='e', start_t=0.9397729272575359, end_t=17.537003789480682, disjunction=False, negation=False, conjunction=False, cycle=False, prob=100),\n",
      " Edge(start_s='e', end_s='b', start_t=0.6918873403388109, end_t=5.705621125345665, disjunction=False, negation=False, conjunction=False, cycle=False, prob=100)]\n"
     ]
    },
    {
     "data": {
      "image/png": "[encoded data removed]",
      "text/plain": [
       "<Figure size 432x288 with 1 Axes>"
      ]
     },
     "metadata": {},
     "output_type": "display_data"
    }
   ],
   "source": [
    "for _ in range(2): \n",
    "    ref_pattern = body_pattern(low_body=6, high_body=8, disjunction=True)\n",
    "    pprint(ref_pattern)\n",
    "    plot_pattern(ref_pattern)"
   ]
  },
  {
   "cell_type": "code",
   "execution_count": null,
   "metadata": {
    "collapsed": true
   },
   "outputs": [],
   "source": []
  },
  {
   "cell_type": "markdown",
   "metadata": {},
   "source": [
    "### Example of Negation"
   ]
  },
  {
   "cell_type": "code",
   "execution_count": 7,
   "metadata": {
    "scrolled": false
   },
   "outputs": [
    {
     "name": "stdout",
     "output_type": "stream",
     "text": [
      "[Edge(start_s='root', end_s='k', start_t=0.7123816148237535, end_t=1.8670225089463557, disjunction=False, negation=True, conjunction=False, cycle=False, prob=100), Edge(start_s='root', end_s='g', start_t=0.05762462437721516, end_t=7.09352481420227, disjunction=False, negation=False, conjunction=False, cycle=False, prob=100), Edge(start_s='root', end_s='f', start_t=0.5759474130787144, end_t=10.917981290755215, disjunction=False, negation=False, conjunction=False, cycle=False, prob=100)]\n"
     ]
    },
    {
     "data": {
      "image/png": "[encoded data removed]",
      "text/plain": [
       "<Figure size 432x288 with 1 Axes>"
      ]
     },
     "metadata": {},
     "output_type": "display_data"
    },
    {
     "name": "stdout",
     "output_type": "stream",
     "text": [
      "[Edge(start_s='root', end_s='g', start_t=0.2939812450808411, end_t=9.941746854635491, disjunction=False, negation=True, conjunction=False, cycle=False, prob=100), Edge(start_s='root', end_s='e', start_t=0.35118140043835855, end_t=2.4774669753313745, disjunction=False, negation=False, conjunction=False, cycle=False, prob=100), Edge(start_s='g', end_s='j', start_t=0.8365891047209705, end_t=16.070392676635645, disjunction=False, negation=False, conjunction=False, cycle=False, prob=100), Edge(start_s='g', end_s='i', start_t=0.8333716367027048, end_t=13.217436678496616, disjunction=False, negation=False, conjunction=False, cycle=False, prob=100)]\n"
     ]
    },
    {
     "data": {
      "image/png": "[encoded data removed]",
      "text/plain": [
       "<Figure size 432x288 with 1 Axes>"
      ]
     },
     "metadata": {},
     "output_type": "display_data"
    },
    {
     "data": {
      "text/plain": [
       "[Edge(start_s='root', end_s='g', start_t=0.2939812450808411, end_t=9.941746854635491, disjunction=False, negation=True, conjunction=False, cycle=False, prob=100),\n",
       " Edge(start_s='root', end_s='e', start_t=0.35118140043835855, end_t=2.4774669753313745, disjunction=False, negation=False, conjunction=False, cycle=False, prob=100),\n",
       " Edge(start_s='g', end_s='j', start_t=0.8365891047209705, end_t=16.070392676635645, disjunction=False, negation=False, conjunction=False, cycle=False, prob=100),\n",
       " Edge(start_s='g', end_s='i', start_t=0.8333716367027048, end_t=13.217436678496616, disjunction=False, negation=False, conjunction=False, cycle=False, prob=100)]"
      ]
     },
     "execution_count": 7,
     "metadata": {},
     "output_type": "execute_result"
    }
   ],
   "source": [
    "for _ in range(2): \n",
    "    ref_pattern = body_pattern(low_body=3, high_body=5, negation=True)\n",
    "    print(ref_pattern)\n",
    "    plot_pattern(ref_pattern)\n",
    "\n",
    "ref_pattern"
   ]
  },
  {
   "cell_type": "markdown",
   "metadata": {},
   "source": [
    "### Example of Conjunction"
   ]
  },
  {
   "cell_type": "code",
   "execution_count": 8,
   "metadata": {
    "scrolled": false
   },
   "outputs": [
    {
     "data": {
      "image/png": "[encoded data removed]",
      "text/plain": [
       "<Figure size 432x288 with 1 Axes>"
      ]
     },
     "metadata": {},
     "output_type": "display_data"
    },
    {
     "data": {
      "image/png": "[encoded data removed]",
      "text/plain": [
       "<Figure size 432x288 with 1 Axes>"
      ]
     },
     "metadata": {},
     "output_type": "display_data"
    }
   ],
   "source": [
    "# Raised the low threshold to be able to perform both operators.\n",
    "for _ in range(2): \n",
    "    ref_pattern = body_pattern(low_body=3, high_body=6, conjunction=True, prob=None)\n",
    "    plot_pattern(ref_pattern)"
   ]
  },
  {
   "cell_type": "markdown",
   "metadata": {},
   "source": [
    "### Example of Cycle"
   ]
  },
  {
   "cell_type": "code",
   "execution_count": 9,
   "metadata": {
    "scrolled": false
   },
   "outputs": [
    {
     "name": "stdout",
     "output_type": "stream",
     "text": [
      "[Edge(start_s='k', end_s='root', start_t=False, end_t=False, disjunction=True, negation=False, conjunction=False, cycle=False, prob=False),\n",
      " Edge(start_s='root', end_s='k', start_t=0.6682968683240254, end_t=8.301437343973726, disjunction=False, negation=False, conjunction=False, cycle=True, prob=100),\n",
      " Edge(start_s='k', end_s='g', start_t=0.12883588700596793, end_t=10.739922902249507, disjunction=False, negation=False, conjunction=False, cycle=False, prob=100)]\n"
     ]
    },
    {
     "data": {
      "image/png": "[encoded data removed]",
      "text/plain": [
       "<Figure size 432x288 with 1 Axes>"
      ]
     },
     "metadata": {},
     "output_type": "display_data"
    },
    {
     "name": "stdout",
     "output_type": "stream",
     "text": [
      "[Edge(start_s='b', end_s='root', start_t=False, end_t=False, disjunction=True, negation=False, conjunction=False, cycle=False, prob=False),\n",
      " Edge(start_s='root', end_s='b', start_t=0.6677971112986003, end_t=4.105152599445081, disjunction=False, negation=False, conjunction=False, cycle=True, prob=100),\n",
      " Edge(start_s='b', end_s='i', start_t=0.25970345122093186, end_t=16.892459660957048, disjunction=False, negation=False, conjunction=False, cycle=False, prob=100)]\n"
     ]
    },
    {
     "data": {
      "image/png": "[encoded data removed]",
      "text/plain": [
       "<Figure size 432x288 with 1 Axes>"
      ]
     },
     "metadata": {},
     "output_type": "display_data"
    }
   ],
   "source": [
    "# Raised the low threshold to be able to perform both operators.\n",
    "for _ in range(2): \n",
    "    ref_pattern = body_pattern(low_body=2, high_body=3, cycle=True)\n",
    "    pprint(ref_pattern)\n",
    "    plot_pattern(ref_pattern)"
   ]
  },
  {
   "cell_type": "markdown",
   "metadata": {},
   "source": [
    "## Generating Training Set\n",
    "<br>"
   ]
  },
  {
   "cell_type": "markdown",
   "metadata": {},
   "source": [
    "method that generates a relative time point to it's neighbouring symbol. \n",
    "\n",
    "Input: Node Edge(start_s= , tp)\n",
    "\n",
    "Output: (list) Absolute time points of neighboring symbols\n",
    "\n",
    "if Cycle also create a disjunction edge of two existing nodes\n",
    "\n",
    "\n",
    "\n",
    "if \n",
    "\n"
   ]
  },
  {
   "cell_type": "markdown",
   "metadata": {},
   "source": [
    "```\n",
    "[Edge(start_s='e', end_s='root', start_t=0.09076355834009453, end_t=14.146677014691154, disjunction=False, negation=False, conjunction=False, cycle=False, prob=100),\n",
    " Edge(start_s='f', end_s='e', start_t=0.9788685189371282, end_t=17.247531396840778, disjunction=False, negation=False, conjunction=False, cycle=False, prob=100)]\n",
    "```\n",
    "\n",
    "\n",
    "\n",
    "```\n",
    "loop over edges:\n",
    "    node_t = foo(edge.start_s, timepoint(l, h))\n",
    "    \n",
    "    find all nodes ending in node_t\n",
    "    \n",
    "    calculate time diff\n",
    "\n",
    "\n",
    "```\n",
    "\n",
    "Do we need to store the values. \n",
    "    "
   ]
  },
  {
   "cell_type": "code",
   "execution_count": 10,
   "metadata": {},
   "outputs": [
    {
     "ename": "NameError",
     "evalue": "name 'patt' is not defined",
     "output_type": "error",
     "traceback": [
      "\u001b[1;31m---------------------------------------------------------------------------\u001b[0m",
      "\u001b[1;31mNameError\u001b[0m                                 Traceback (most recent call last)",
      "\u001b[1;32m<ipython-input-10-acafe4f696fb>\u001b[0m in \u001b[0;36m<module>\u001b[1;34m()\u001b[0m\n\u001b[0;32m     35\u001b[0m     \u001b[0mprint\u001b[0m\u001b[1;33m(\u001b[0m\u001b[0mtps\u001b[0m\u001b[1;33m)\u001b[0m\u001b[1;33m\u001b[0m\u001b[0m\n\u001b[0;32m     36\u001b[0m \u001b[1;33m\u001b[0m\u001b[0m\n\u001b[1;32m---> 37\u001b[1;33m \u001b[0mfoo\u001b[0m\u001b[1;33m(\u001b[0m\u001b[1;33m)\u001b[0m\u001b[1;33m\u001b[0m\u001b[0m\n\u001b[0m",
      "\u001b[1;32m<ipython-input-10-acafe4f696fb>\u001b[0m in \u001b[0;36mfoo\u001b[1;34m()\u001b[0m\n\u001b[0;32m     22\u001b[0m \u001b[1;33m\u001b[0m\u001b[0m\n\u001b[0;32m     23\u001b[0m \u001b[1;32mdef\u001b[0m \u001b[0mfoo\u001b[0m\u001b[1;33m(\u001b[0m\u001b[1;33m)\u001b[0m\u001b[1;33m:\u001b[0m\u001b[1;33m\u001b[0m\u001b[0m\n\u001b[1;32m---> 24\u001b[1;33m     \u001b[1;32mfor\u001b[0m \u001b[0me\u001b[0m \u001b[1;32min\u001b[0m \u001b[0mpatt\u001b[0m\u001b[1;33m:\u001b[0m\u001b[1;33m\u001b[0m\u001b[0m\n\u001b[0m\u001b[0;32m     25\u001b[0m         \u001b[0msource_node\u001b[0m\u001b[1;33m,\u001b[0m \u001b[0mend_node\u001b[0m \u001b[1;33m=\u001b[0m \u001b[0moutgoing_edges\u001b[0m\u001b[1;33m(\u001b[0m\u001b[0me\u001b[0m\u001b[1;33m.\u001b[0m\u001b[0mend_s\u001b[0m\u001b[1;33m,\u001b[0m \u001b[0mpatt\u001b[0m\u001b[1;33m)\u001b[0m\u001b[1;33m\u001b[0m\u001b[0m\n\u001b[0;32m     26\u001b[0m         \u001b[0mprint\u001b[0m\u001b[1;33m(\u001b[0m\u001b[0msource_node\u001b[0m\u001b[1;33m,\u001b[0m \u001b[0mend_node\u001b[0m\u001b[1;33m)\u001b[0m\u001b[1;33m\u001b[0m\u001b[0m\n",
      "\u001b[1;31mNameError\u001b[0m: name 'patt' is not defined"
     ]
    }
   ],
   "source": [
    "def time_point(start_t, end_t): return np.random.uniform(start_t, end_t)\n",
    "\n",
    "def outgoing_edges(node, pattern):\n",
    "    '''Find all edges that that end in a node'''\n",
    "    source_node = None\n",
    "    nodes = {}\n",
    "    for edge in pattern:\n",
    "        if edge.disjunction and edge.start_t is None: \n",
    "            continue\n",
    "            \n",
    "        elif edge.negation == True: continue # skip negation node        \n",
    "            \n",
    "        elif edge.end_s == node and edge.start_t != None:\n",
    "            source_node = edge.start_s\n",
    "            nodes[edge.end_s] = time_point(edge.start_t, edge.end_t)\n",
    "\n",
    "    return source_node, nodes\n",
    "\n",
    "\n",
    "\n",
    "tps = {'root': np.random.uniform(low=0, high=100)}\n",
    "\n",
    "def foo():\n",
    "    for e in patt:\n",
    "        source_node, end_node = outgoing_edges(e.end_s, patt)\n",
    "        print(source_node, end_node)\n",
    "\n",
    "        if source_node in tps:\n",
    "            print(True)\n",
    "            tps[end_node] = tps[source_node] - end_node\n",
    "\n",
    "#         else:\n",
    "#             foo()\n",
    "            \n",
    "    print(tps)\n",
    "\n",
    "foo()\n"
   ]
  },
  {
   "cell_type": "code",
   "execution_count": 11,
   "metadata": {},
   "outputs": [
    {
     "name": "stdout",
     "output_type": "stream",
     "text": [
      "max_disjs 2\n",
      "1\n",
      "[Edge(start_s='e', end_s='i', start_t=None, end_t=None, disjunction=True, negation=False, conjunction=False, cycle=False, prob=100),\n",
      " Edge(start_s='root', end_s='e', start_t=0.3511876316644328, end_t=17.059919482519575, disjunction=True, negation=False, conjunction=False, cycle=False, prob=100),\n",
      " Edge(start_s='root', end_s='i', start_t=0.25293248305067917, end_t=16.759272298320234, disjunction=True, negation=False, conjunction=False, cycle=False, prob=100),\n",
      " Edge(start_s='i', end_s='g', start_t=0.4920842492996286, end_t=19.61050656387097, disjunction=False, negation=False, conjunction=False, cycle=False, prob=100),\n",
      " Edge(start_s='e', end_s='c', start_t=0.688388785309895, end_t=11.673181541753232, disjunction=False, negation=False, conjunction=False, cycle=False, prob=100),\n",
      " Edge(start_s='root', end_s='k', start_t=0.4523960464680644, end_t=3.7700543302877314, disjunction=False, negation=False, conjunction=False, cycle=False, prob=100)]\n"
     ]
    },
    {
     "data": {
      "image/png": "[encoded data removed]",
      "text/plain": [
       "<Figure size 432x288 with 1 Axes>"
      ]
     },
     "metadata": {},
     "output_type": "display_data"
    }
   ],
   "source": [
    "patt = body_pattern(low_body=3, high_body=7, disjunction=True)\n",
    "pprint(patt)\n",
    "\n",
    "plot_pattern(patt)"
   ]
  },
  {
   "cell_type": "code",
   "execution_count": 30,
   "metadata": {
    "collapsed": true
   },
   "outputs": [],
   "source": [
    "def time_point(start_t, end_t): return np.random.uniform(start_t, end_t)\n",
    "\n",
    "def generate_edge_instance(tp,edge):\n",
    "    return tp - time_point(edge.start_t, edge.end_t), edge.end_s\n",
    "\n",
    "def outgoing_edges(node, pattern):\n",
    "    '''Find immediate edges for a node'''\n",
    "    out_edges = []\n",
    "    for edge in pattern:            \n",
    "        if edge.disjunction and edge.start_t is None: continue\n",
    "            \n",
    "        elif edge.negation == True: continue # skip negation node        \n",
    "            \n",
    "        elif edge.start_s == node:            \n",
    "            out_edges.append(edge)\n",
    "\n",
    "    return out_edges\n",
    "\n",
    "def dest_nodes(node,pattern):\n",
    "    out_edges = outgoing_edges(node,patt)\n",
    "    return [edge.end_s for edge in out_edges]\n",
    "    \n",
    "def mutual_excl_edges(pattern):\n",
    "    '''Find all mutually exclusive edges in pattern'''\n",
    "    return [e for e in pattern if e.start_t == None]\n",
    "\n",
    "def have_mutual(node, excl_edges):\n",
    "    '''Is a given node connected to a mutually exclusive node'''\n",
    "    for edge in excl_edges:\n",
    "        if node == edge.start_s or node == edge.end_s:\n",
    "            return True\n",
    "        \n",
    "    else: False\n",
    "        \n",
    "def generate_neighbouring_tps(node,tp,patt):\n",
    "    out_edges = outgoing_edges(node,patt)\n",
    "    excl_edges = mutual_excl_edges(patt)\n",
    "\n",
    "    # determine which edge to choose from each mutual exclusion\n",
    "    skip_nodes = []\n",
    "    for edge in excl_edges:\n",
    "        if np.random.randint(2) == 1:\n",
    "            skip_nodes.append(edge.start_s)\n",
    "        else:\n",
    "            skip_nodes.append(edge.end_s)\n",
    "\n",
    "    tps = []\n",
    "    for edge in out_edges:\n",
    "        if edge.end_s in skip_nodes: continue\n",
    "        tps.append(generate_edge_instance(tp,edge))\n",
    "        \n",
    "    return tps\n",
    "        \n",
    "        \n",
    "def generate_tps(node,tp,patt):\n",
    "    all_tps = []\n",
    "\n",
    "    if node == None:\n",
    "        # this is the start of recursive generation, start from root\n",
    "        node = 'root'\n",
    "        tp = np.random.uniform(low=0, high=max_root_time)\n",
    "        all_tps += (node,tp)\n",
    "    \n",
    "    neighbouring_tps = generate_neighbouring_tps(node,tp,patt)\n",
    "    all_tps += neighbouring_tps\n",
    "    \n",
    "    print('neighbouring_tps from',node)\n",
    "    pprint(neighbouring_tps)\n",
    "    \n",
    "    for neighbouring_tp in neighbouring_tps:\n",
    "        # recursive step (because calling this same method)\n",
    "       all_tps += generate_tps(neighbouring_tp[1],neighbouring_tp[0],patt)\n",
    "\n",
    "    print('all_tps from',node)\n",
    "    pprint(all_tps)\n",
    "    \n",
    "    return all_tps\n",
    "\n",
    "    \n",
    "\n",
    "    \n"
   ]
  },
  {
   "cell_type": "code",
   "execution_count": 35,
   "metadata": {},
   "outputs": [
    {
     "name": "stdout",
     "output_type": "stream",
     "text": [
      "neighbouring_tps from root\n",
      "[(47282.36867211062, 'd'), (47287.12720757478, 'j')]\n",
      "neighbouring_tps from d\n",
      "[]\n",
      "all_tps from d\n",
      "[]\n",
      "neighbouring_tps from j\n",
      "[]\n",
      "all_tps from j\n",
      "[]\n",
      "all_tps from root\n",
      "['root', 47291.30930200308, (47282.36867211062, 'd'), (47287.12720757478, 'j')]\n"
     ]
    },
    {
     "data": {
      "text/plain": [
       "['root', 47291.30930200308, (47282.36867211062, 'd'), (47287.12720757478, 'j')]"
      ]
     },
     "execution_count": 35,
     "metadata": {},
     "output_type": "execute_result"
    }
   ],
   "source": [
    "# notice the order of generation from the print statements\n",
    "generate_tps(None,None,patt)"
   ]
  },
  {
   "cell_type": "code",
   "execution_count": null,
   "metadata": {
    "collapsed": true
   },
   "outputs": [],
   "source": []
  },
  {
   "cell_type": "code",
   "execution_count": null,
   "metadata": {
    "collapsed": true
   },
   "outputs": [],
   "source": []
  },
  {
   "cell_type": "code",
   "execution_count": null,
   "metadata": {
    "collapsed": true
   },
   "outputs": [],
   "source": []
  },
  {
   "cell_type": "code",
   "execution_count": null,
   "metadata": {
    "collapsed": true
   },
   "outputs": [],
   "source": []
  },
  {
   "cell_type": "code",
   "execution_count": null,
   "metadata": {
    "collapsed": true
   },
   "outputs": [],
   "source": []
  },
  {
   "cell_type": "code",
   "execution_count": null,
   "metadata": {
    "collapsed": true
   },
   "outputs": [],
   "source": []
  },
  {
   "cell_type": "code",
   "execution_count": null,
   "metadata": {
    "collapsed": true
   },
   "outputs": [],
   "source": []
  },
  {
   "cell_type": "code",
   "execution_count": null,
   "metadata": {
    "collapsed": true
   },
   "outputs": [],
   "source": []
  },
  {
   "cell_type": "code",
   "execution_count": null,
   "metadata": {
    "collapsed": true
   },
   "outputs": [],
   "source": []
  },
  {
   "cell_type": "code",
   "execution_count": null,
   "metadata": {
    "collapsed": true
   },
   "outputs": [],
   "source": []
  },
  {
   "cell_type": "code",
   "execution_count": null,
   "metadata": {
    "collapsed": true
   },
   "outputs": [],
   "source": []
  },
  {
   "cell_type": "code",
   "execution_count": null,
   "metadata": {
    "collapsed": true
   },
   "outputs": [],
   "source": [
    "def abs_time_points():\n",
    "    tps = {'root': np.random.uniform(low=0, high=100000)} \n",
    "    for edge in pattern:\n",
    "        out_edges = outgoing_edges(edge.start_s, pattern)\n",
    "        \n",
    "        tps[edge.end_s] = "
   ]
  },
  {
   "cell_type": "code",
   "execution_count": null,
   "metadata": {
    "collapsed": true
   },
   "outputs": [],
   "source": [
    "# def foo():\n",
    "#     '''Starts at random edge in an instance of a Pattern. Iteratively find edges \n",
    "#     '''\n",
    "#     ref_dict = {}\n",
    "#     rand_idx = np.random.randint(low=0, high=len(patt)) # choose random edge to start on\n",
    "#     rand_edge = patt[rand_idx]\n",
    "\n",
    "#     if 'root' not in ref_dict: ref_dict['root'] = np.random.uniform(low=0, high=100) \n",
    "#     pprint(patt)\n",
    "#     for edge in patt:\n",
    "#         ref_dict = nieghbouring_tps(edge, ref_dict)\n",
    "#         print(ref_dict)\n",
    "    \n",
    "# foo()"
   ]
  },
  {
   "cell_type": "code",
   "execution_count": null,
   "metadata": {
    "collapsed": true
   },
   "outputs": [],
   "source": [
    "# for i in patt:\n",
    "#     nieghbouring_tps(patt[i].start_s, node_tp, patt)\n",
    "            \n",
    "\n",
    "\n",
    "#             print(True)\n",
    "#             if edge.start_s in ref_dict: return # time point for node already in dict\n",
    "    \n",
    "#             elif edge.end_s in ref_dict:\n",
    "#                 time_diff = ref_dict[edge.end_s] - time_point(edge.start_t, edge.end_t)\n",
    "#                 ref_dict[edge.start_s] = time_diff\n",
    "#                 return ref_dict\n",
    "#             else:\n",
    "#                 return ref_dict\n",
    "            \n",
    "#         if edge.start_t == None: continue # skip disjunction edge\n",
    "\n",
    "#         elif edge.disjunction:\n",
    "#             d_count += 1\n",
    "#             if which_d == d_count: # pop one of the disjunctions\n",
    "#                 patt.pop(patt.index(edge))\n",
    "\n",
    "#         elif edge.negation == True: continue # skip negation node\n",
    "\n",
    "#         elif edge.cycle == True: pass\n",
    "\n",
    "#         elif edge.end_s not in node_tps: continue # skip edges that end in a symbol that doesn't exist in the instance\n",
    "\n",
    "#         node_tps[edge.start_s] = node_tps[edge.end_s] - time_point(edge.start_t, edge.end_t)"
   ]
  },
  {
   "cell_type": "code",
   "execution_count": null,
   "metadata": {
    "collapsed": true
   },
   "outputs": [],
   "source": [
    "# for edge in patt:\n",
    "#     tp = time_point(edge.start_t, edge.end_t)\n",
    "    \n",
    "    \n",
    "def nieghbouring_tps(patt, s_tp, reference_tps):\n",
    "    tps = [[end_s, tp]] # add initial node and time\n",
    "    for e in patt: \n",
    "        if e.end_s == end_s:\n",
    "            abs_tp = tp - time_point(e.start_t, e.end_t)\n",
    "            tps.append([e.start_s, abs_tp])\n",
    "            \n",
    "    if len(tps) == 1: return None\n",
    "\n",
    "    else: return tps\n",
    "\n",
    "def foo():\n",
    "    # end case if no further nodes \n",
    "    tps = {}\n",
    "    \n",
    "    for edge in pattern:\n",
    "        if edge.end_s == 'root':\n",
    "            root_tp = np.random.uniform(low=0, high=1000)\n",
    "            nieghbouring_tps(nieghbouring_tps(patt, edge.end_s, tp=root_tp))\n",
    "        else:\n",
    "            pass\n",
    "            \n",
    "                \n",
    "        \n",
    "    \n",
    "                       \n",
    "pprint(patt)\n",
    "nieghbouring_tps(patt, edge.end_s, np.random.uniform(low=0, high=1000))\n",
    "# print(plot_pattern(patt))"
   ]
  },
  {
   "cell_type": "code",
   "execution_count": null,
   "metadata": {
    "collapsed": true
   },
   "outputs": [],
   "source": [
    "plot_pattern(patt)"
   ]
  },
  {
   "cell_type": "code",
   "execution_count": null,
   "metadata": {
    "collapsed": true
   },
   "outputs": [],
   "source": [
    "np.random.seed(42)\n",
    "\n",
    "time_point(1, 2)"
   ]
  },
  {
   "cell_type": "code",
   "execution_count": null,
   "metadata": {
    "collapsed": true
   },
   "outputs": [],
   "source": []
  },
  {
   "cell_type": "code",
   "execution_count": null,
   "metadata": {
    "collapsed": true
   },
   "outputs": [],
   "source": [
    "patt = body_pattern(low_body=4, high_body=5, disjunction=True)\n",
    "\n",
    "pprint(patt)\n",
    "print(plot_pattern(patt))\n",
    "\n",
    "def time_point(start_t, end_t): return np.random.uniform(start_t, end_t)\n",
    "\n",
    "root_tp = np.random.uniform(low=0, high=100)\n",
    "\n",
    "node_tps = {'root': root_tp} # look-up dictionary for node time points\n",
    "\n",
    "d_count = 0 # enumerate disjunctions\n",
    "\n",
    "### NOTE: this will always generate which_d = 1 because 'high' boundary is not inclusive\n",
    "which_d = np.random.randint(low=1, high=2) # choose either first or second disjunction\n",
    "\n",
    "for edge in patt:\n",
    "    if edge.start_t == None: continue # skip disjunction edge\n",
    "    \n",
    "    elif edge.disjunction:\n",
    "        d_count += 1\n",
    "        if which_d == d_count: # pop one of the disjunctions\n",
    "            patt.pop(patt.index(edge))\n",
    "    \n",
    "    elif edge.negation == True: continue # skip negation node\n",
    "        \n",
    "    elif edge.cycle == True: pass\n",
    "\n",
    "    elif edge.end_s not in node_tps: continue # skip edges that end in a symbol that doesn't exist in the instance\n",
    "    \n",
    "    node_tps[edge.start_s] = node_tps[edge.end_s] - time_point(edge.start_t, edge.end_t)\n",
    "\n",
    "node_tps"
   ]
  },
  {
   "cell_type": "markdown",
   "metadata": {},
   "source": []
  },
  {
   "cell_type": "code",
   "execution_count": 65,
   "metadata": {
    "collapsed": true
   },
   "outputs": [],
   "source": [
    "def time_point(start_t, end_t): return np.random.uniform(start_t, end_t)\n",
    "\n",
    "def create_instance(patt, time_high=100000, make_pred=False): \n",
    "    '''\n",
    "    Returns:\n",
    "        ts (list): list of lists of time point and symbol adhereing\n",
    "        to pattern definition'''\n",
    "    \n",
    "    ts = [] # empty time series list\n",
    "    pred = []\n",
    "\n",
    "    root_tp = time_point(start_t=0, end_t=time_high)\n",
    "    head_prob = np.random.uniform(low=60, high=90)\n",
    "    \n",
    "    if make_pred: # if pattern instance create pred for .pred file\n",
    "        start_t, end_t = time_interval(head_constr)    \n",
    "        head_tp = root_tp + time_point(start_t, end_t)\n",
    "        pred.append([head_tp, A])\n",
    "    \n",
    "        if np.random.uniform(low=0, high=100) > head_prob: # whether pattern has consequent \n",
    "            ts.append([head_tp, A])\n",
    "\n",
    "    rand_num = np.random.uniform(low=0, high=100)\n",
    "\n",
    "    disjs = []\n",
    "    for edge in patt:\n",
    "        if edge.start_t is None: # mutual exclusion edge case\n",
    "            continue\n",
    "\n",
    "        elif edge.disjunction == True and make_pred == True:\n",
    "            disjs.append(edge)\n",
    "\n",
    "        elif edge.conjunction: # already done, as all edges \n",
    "            pass \n",
    "\n",
    "        elif edge.cycle: \n",
    "            \n",
    "            if rand_num > 0.5:\n",
    "                for cyc in range(2):\n",
    "                    ts.append([root_tp - time_point(edge.start_t, edge.end_t), edge.start_s])\n",
    "\n",
    "            ## INSERT LOGIC: repeat subset or entire pattern, need for mutual exclusion \n",
    "            # if just setting threshold , e.g cycle_iters above???\n",
    "\n",
    "        elif edge.negation: # skip negation node\n",
    "            continue\n",
    "\n",
    "        else:# for non-conditional edges  \n",
    "            ts.append([root_tp - time_point(edge.start_t, edge.end_t), edge.start_s])\n",
    "\n",
    "    if len(disjs) > 1: # if there are multiple disjunctions, randomly choose one for .event\n",
    "        disj = disjs[np.random.randint(low=0, high=len(disjs) - 1)] \n",
    "        ts.append([root_tp - time_point(disj.start_t, disj.end_t), disj.start_s])\n",
    "    \n",
    "    # create root in ts if it isn't empty pattern (edge case when subset retrurns empty subset, e.g [])\n",
    "    if patt == []: \n",
    "        return ts\n",
    "    elif make_pred:\n",
    "        ts.append([root_tp, ROOT_CONST])\n",
    "        return ts, pred\n",
    "    else:\n",
    "        return ts # when a random subset, return only ts\n"
   ]
  },
  {
   "cell_type": "markdown",
   "metadata": {},
   "source": [
    "## Making Noise!\n",
    "\n",
    "**Time Series Consists of: **<br>\n",
    "- Singular Pattern replicated over time line\n",
    "- Random Subsets of the Pattern (func: rand_subset)\n",
    "- Individual Noisy Symbols"
   ]
  },
  {
   "cell_type": "markdown",
   "metadata": {},
   "source": [
    "Insert logic to insert the negation into the instance at equal prob"
   ]
  },
  {
   "cell_type": "code",
   "execution_count": 9,
   "metadata": {
    "collapsed": true,
    "scrolled": true
   },
   "outputs": [],
   "source": [
    "def rand_subset(pattern): # random subset of the instance\n",
    "    '''\n",
    "    Returns:\n",
    "        ts (list): list of lists of time point and symbol of\n",
    "        random subset of the pattern definition'''\n",
    "    subset_idxs = sorted([np.random.randint(low=0, high=len(pattern)) for _ in range(2)])\n",
    "    sub_pattern = pattern[subset_idxs[0]: subset_idxs[1]]\n",
    "    \n",
    "    return sub_pattern\n",
    "    \n",
    "def noisy_instance(time_high=100000):\n",
    "    ''' Input: \n",
    "            time_high (int): \n",
    "    \n",
    "            Returns:\n",
    "                ts (list): list of lists containing random time point and symbol'''\n",
    "    \n",
    "    sym = unique_body_symbols(single=True).pop()\n",
    "    tp = time_point(start_t=0, end_t=time_high)\n",
    "    inst = [[tp, sym]]\n",
    "    return inst\n",
    "\n",
    "\n",
    "\n",
    "\n",
    "def create_outputs(pattern, n_patterns, n_subsets, n_noisy_insts):\n",
    "    '''Creates both .event array and its corresponding .pred array from\n",
    "    \n",
    "    \n",
    "    Returns:\n",
    "            events (list): time series for training/testing set\n",
    "            preds (list): ground truth values\n",
    "    '''\n",
    "\n",
    "    \n",
    "    events, preds = [], []\n",
    "    \n",
    "    for _ in range(n_patterns):\n",
    "        event, pred =  create_instance(patt, make_pred=True)\n",
    "        events.extend(event)\n",
    "        preds.extend(pred)\n",
    "        \n",
    "    for _ in range(n_subsets):\n",
    "        event = create_instance(rand_subset(patt))\n",
    "        if event != []:\n",
    "            events.extend(event)\n",
    "        else:\n",
    "            continue\n",
    "        \n",
    "    for _ in range(n_noisy_insts):\n",
    "        event = noisy_instance()\n",
    "        events.extend(event)\n",
    "    \n",
    "    events.sort(key=lambda x: x[0])\n",
    "    preds.sort(key=lambda x: x[0])# sort by timestamp\n",
    "    \n",
    "    return events, preds\n",
    "    \n"
   ]
  },
  {
   "cell_type": "markdown",
   "metadata": {},
   "source": [
    "## Output to file."
   ]
  },
  {
   "cell_type": "code",
   "execution_count": 12,
   "metadata": {
    "collapsed": true
   },
   "outputs": [],
   "source": [
    "patt = body_pattern(low_body=4, high_body=6, low_prob=60, high_prob=90,\n",
    "             disjunction=False, negation=False, conjunction=False, prob=100, cycle=False)\n",
    "\n",
    "events, preds = create_outputs(patt, n_patterns=100, n_subsets=500, n_noisy_insts=500)"
   ]
  },
  {
   "cell_type": "code",
   "execution_count": 11,
   "metadata": {},
   "outputs": [
    {
     "ename": "NameError",
     "evalue": "name 'events' is not defined",
     "output_type": "error",
     "traceback": [
      "\u001b[1;31m---------------------------------------------------------------------------\u001b[0m",
      "\u001b[1;31mNameError\u001b[0m                                 Traceback (most recent call last)",
      "\u001b[1;32m<ipython-input-11-ee635b05147f>\u001b[0m in \u001b[0;36m<module>\u001b[1;34m()\u001b[0m\n\u001b[1;32m----> 1\u001b[1;33m \u001b[0mevents\u001b[0m\u001b[1;33m[\u001b[0m\u001b[1;33m:\u001b[0m\u001b[1;36m5\u001b[0m\u001b[1;33m]\u001b[0m\u001b[1;33m\u001b[0m\u001b[0m\n\u001b[0m",
      "\u001b[1;31mNameError\u001b[0m: name 'events' is not defined"
     ]
    }
   ],
   "source": [
    "events[:5]"
   ]
  },
  {
   "cell_type": "code",
   "execution_count": 21,
   "metadata": {},
   "outputs": [
    {
     "data": {
      "text/plain": [
       "[[797.8172557714969, 'a'],\n",
       " [1269.9456051485674, 'a'],\n",
       " [1317.8180656423028, 'a'],\n",
       " [1702.6484827812483, 'a'],\n",
       " [2623.3561186172683, 'a']]"
      ]
     },
     "execution_count": 21,
     "metadata": {},
     "output_type": "execute_result"
    }
   ],
   "source": [
    "preds[:5]"
   ]
  },
  {
   "cell_type": "code",
   "execution_count": 13,
   "metadata": {},
   "outputs": [
    {
     "data": {
      "image/png": "[encoded data removed]",
      "text/plain": [
       "<Figure size 432x288 with 1 Axes>"
      ]
     },
     "metadata": {},
     "output_type": "display_data"
    }
   ],
   "source": [
    "X = np.array(events)\n",
    "\n",
    "values = list(X[:, 1])\n",
    "names = list(X[:, 0])\n",
    "plt.figsize(20,20)\n",
    "plt.scatter(names, values);\n",
    "plt.show()"
   ]
  },
  {
   "cell_type": "code",
   "execution_count": 34,
   "metadata": {
    "collapsed": true
   },
   "outputs": [],
   "source": [
    "with open('n_patterns_100_n_subsets_500_n_noisy_insts_500.event', 'w') as file:\n",
    "    for l in events:\n",
    "        s = str(l[0]) + ' ,' + str(l[1]) + '\\n'\n",
    "        file.write(s)"
   ]
  },
  {
   "cell_type": "markdown",
   "metadata": {
    "collapsed": true
   },
   "source": [
    "## LMK what you think :)\n",
    "\n",
    "**Concerns:**<br>\n",
    "- disjunction and conjunction always connect to root node fist, do we need to have a pattern where it would be prepended to another connected node\n",
    "\n",
    "- Don't use the mutual exclusion edge\n",
    "\n",
    "- cycles"
   ]
  },
  {
   "cell_type": "code",
   "execution_count": null,
   "metadata": {
    "collapsed": true
   },
   "outputs": [],
   "source": []
  }
 ],
 "metadata": {
  "kernelspec": {
   "display_name": "Python 3",
   "language": "python",
   "name": "python3"
  },
  "language_info": {
   "codemirror_mode": {
    "name": "ipython",
    "version": 3
   },
   "file_extension": ".py",
   "mimetype": "text/x-python",
   "name": "python",
   "nbconvert_exporter": "python",
   "pygments_lexer": "ipython3",
   "version": "3.6.2"
  }
 },
 "nbformat": 4,
 "nbformat_minor": 4
}
